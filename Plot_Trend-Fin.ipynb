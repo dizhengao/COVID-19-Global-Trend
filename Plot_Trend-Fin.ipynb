{
 "cells": [
  {
   "cell_type": "code",
   "execution_count": 1,
   "metadata": {},
   "outputs": [
    {
     "data": {
      "text/plain": [
       "'/hd/gdrive/Cam_PhD/8.Scripts/COVID-19/csse_covid_19_data/csse_covid_19_time_series'"
      ]
     },
     "execution_count": 1,
     "metadata": {},
     "output_type": "execute_result"
    }
   ],
   "source": [
    "pwd"
   ]
  },
  {
   "cell_type": "code",
   "execution_count": 2,
   "metadata": {
    "scrolled": false
   },
   "outputs": [
    {
     "data": {
      "text/html": [
       "        <script type=\"text/javascript\">\n",
       "        window.PlotlyConfig = {MathJaxConfig: 'local'};\n",
       "        if (window.MathJax) {MathJax.Hub.Config({SVG: {font: \"STIX-Web\"}});}\n",
       "        if (typeof require !== 'undefined') {\n",
       "        require.undef(\"plotly\");\n",
       "        requirejs.config({\n",
       "            paths: {\n",
       "                'plotly': ['https://cdn.plot.ly/plotly-latest.min']\n",
       "            }\n",
       "        });\n",
       "        require(['plotly'], function(Plotly) {\n",
       "            window._Plotly = Plotly;\n",
       "        });\n",
       "        }\n",
       "        </script>\n",
       "        "
      ]
     },
     "metadata": {},
     "output_type": "display_data"
    }
   ],
   "source": [
    "import pandas as pd\n",
    "import numpy as np\n",
    "import seaborn as sns\n",
    "import matplotlib.pyplot as plt\n",
    "import xlrd\n",
    "%matplotlib inline\n",
    "from plotly import __version__\n",
    "from plotly.offline import download_plotlyjs,init_notebook_mode,plot,iplot\n",
    "init_notebook_mode(connected=True)\n",
    "import plotly.express as px"
   ]
  },
  {
   "cell_type": "markdown",
   "metadata": {},
   "source": [
    "def PlotTrend_Con_InA(FileName = 'time_series_covid19_confirmed_global.csv', Top = 20, Hubei = False, China = True, \n",
    "                      Start = 20, log = False):\n",
    "    \n",
    "    # This function will plot the confirmed cases in the toppest 'Top' regions according to the cases in the last date.\n",
    "    # Data is from the JHU Github repository https://github.com/CSSEGISandData/COVID-19, so FileName is by default the .csv from there\n",
    "    # 'Top' defines how many regions you want to include, 'Hubei' defines whether to include the data from Hubei, \n",
    "    # 'China' defines whether to include data from China. if 'Start' is False then plots will start from 1/22/2020  \n",
    "    # to the lasted date, if a value is given to 'Start', then the plot will start from 'Day 0', which is the date that the cases \n",
    "    # in each region exceeds the value 'Start'\n",
    "    \n",
    "    Ts = pd.read_csv(FileName)\n",
    "    col = Ts.shape[1]\n",
    "    LastDay = Ts.columns[-1]\n",
    "    Top_Reg = Ts.nlargest(Top,LastDay)\n",
    "    \n",
    "    if China == False:\n",
    "        Hubei = False # Make sure Hubei is False if 'China' is defined as False. \n",
    "    \n",
    "    Dic = []\n",
    "    for index, row in Top_Reg.iterrows():\n",
    "        if Start != False:\n",
    "            label = 'Date from cases >= ' + str(Start)\n",
    "            Date = 0\n",
    "            for i in range(4,col):\n",
    "                if row[i] >= Start:\n",
    "                    if row[1] == 'China':\n",
    "                        if China == True:\n",
    "                            dic = {'Region' : row[0], 'Case' : row[i],'Date' : Date}\n",
    "                        else: \n",
    "                            continue \n",
    "                    else:\n",
    "                        dic = {'Region' : row[1], 'Case' : row[i],'Date' : Date}\n",
    "                    Date = Date + 1\n",
    "                    Dic.append(dic)\n",
    "                else:\n",
    "                    continue\n",
    "        else:\n",
    "            label = 'Date from 1/22/2020'\n",
    "            for i in range(4,col):\n",
    "                if row[1] == 'China':\n",
    "                    if China == True:\n",
    "                        dic = {'Region' : row[0], 'Case' : row[i],'Date' : i-4}\n",
    "                    else: \n",
    "                        continue \n",
    "                else:\n",
    "                    dic = {'Region' : row[1], 'Case' : row[i],'Date' : i-4}\n",
    "                Dic.append(dic)\n",
    "    \n",
    "    Df = pd.DataFrame.from_dict(Dic)\n",
    "    \n",
    "    ylabel = 'Confirmed cases'\n",
    "    \n",
    "    if log == True:\n",
    "        Df['Case'] = np.log(Df['Case'])\n",
    "        ylabel = \"Confirmed cases (log)\"\n",
    "    \n",
    "    if Hubei == False:\n",
    "        Df = Df[Df['Region'] != 'Hubei']\n",
    "    \n",
    "    if China == False:\n",
    "        C_label = ' hiden; '\n",
    "    else:\n",
    "        C_label = ' included; '\n",
    "    if Hubei == False:\n",
    "        H_label = ' hiden'\n",
    "    else:\n",
    "        H_label = ' included'\n",
    "    \n",
    "    Title =  'Confirmed cases in the top ' + str(Top) + ' regions (China is' + C_label + ' Hubei is'+ H_label + ')'\n",
    "    \n",
    "    fig = px.line(x = Df['Date'], y = Df['Case'], color = Df['Region'],title = Title, labels={'x':label, 'y':ylabel})\n",
    "    fig.show()"
   ]
  },
  {
   "cell_type": "code",
   "execution_count": 4,
   "metadata": {},
   "outputs": [],
   "source": [
    "def PlotTrend_Con_InA(url = 'JHU_Git', Top = 20, Hubei = False, \n",
    "                      China = True, Start = 20, log = False, include = False, China_Sum = False):\n",
    "    \n",
    "    # This function will plot the confirmed cases in the toppest 'Top' regions according to the cases in the last date.\n",
    "    # Data is from the JHU Github repository https://github.com/CSSEGISandData/COVID-19, and url directs to the .csv from there\n",
    "    # 'Top' defines how many regions you want to include, 'Hubei' defines whether to include the data from Hubei, \n",
    "    # 'China' defines whether to include data from China. if 'Start' is False then plots will start from 1/22/2020  \n",
    "    # to the lasted date, if a value is given to 'Start', then the plot will start from 'Day 0', which is the date that the cases \n",
    "    # in each region exceeds the value 'Start'\n",
    "    # 'include' takes a list and will force the plot to include certain region(s).\n",
    "    # 'China_Sum' defines whether to include the total cases in China\n",
    "    \n",
    "    if url == 'JHU_Git':\n",
    "        url = 'https://raw.githubusercontent.com/CSSEGISandData/COVID-19/master/csse_covid_19_data/csse_covid_19_time_series/time_series_covid19_confirmed_global.csv'\n",
    "    \n",
    "    Ts = pd.read_csv(url)\n",
    "    \n",
    "    #--------------------------------------Sum up cases in China--------------------------------------\n",
    "    \n",
    "    Chn = Ts[Ts['Country/Region'] == 'China']\n",
    "    Sum = Chn.sum(axis=0)\n",
    "    Sum[0] = 'China'\n",
    "    Sum[1] = 'China'\n",
    "    Sum[2] = 0\n",
    "    Sum[3] = 0\n",
    "    if China_Sum == True:\n",
    "        Ts = Ts.append(Sum, ignore_index=True)    \n",
    "    \n",
    "    #--------------------------------------Take the top xx region--------------------------------------\n",
    "\n",
    "    col = Ts.shape[1]\n",
    "    LastDay = Ts.columns[-1]\n",
    "    Top_Reg = Ts.nlargest(Top,LastDay)\n",
    "    \n",
    "    if China == False:\n",
    "        Hubei = False # Make sure Hubei is False if 'China' is defined as False. \n",
    "    \n",
    "    #--------------------------------------extract data--------------------------------------\n",
    "    \n",
    "    Dic = []\n",
    "    for index, row in Top_Reg.iterrows():\n",
    "        if Start != False:\n",
    "            label = 'Date from cases >= ' + str(Start)\n",
    "            Date = 0\n",
    "            for i in range(4,col):\n",
    "                if row[i] >= Start:\n",
    "                    if row[1] == 'China':\n",
    "                        if China == True:\n",
    "                            dic = {'Region' : row[0], 'Case' : row[i],'Date' : Date}\n",
    "                        else: \n",
    "                            continue \n",
    "                    else:\n",
    "                        dic = {'Region' : row[1], 'Case' : row[i],'Date' : Date}\n",
    "                    Date = Date + 1\n",
    "                    Dic.append(dic)\n",
    "                else:\n",
    "                    continue\n",
    "        else:\n",
    "            label = 'Date from 1/22/2020'\n",
    "            for i in range(4,col):\n",
    "                if row[1] == 'China' or str(row[0]) in include:\n",
    "                    if China == True:\n",
    "                        dic = {'Region' : row[0], 'Case' : row[i],'Date' : i-4}\n",
    "                    else: \n",
    "                        continue \n",
    "                else:\n",
    "                    dic = {'Region' : row[1], 'Case' : row[i],'Date' : i-4}\n",
    "                Dic.append(dic)\n",
    "    \n",
    "    Df = pd.DataFrame.from_dict(Dic)\n",
    "    \n",
    "    #--------------------------------------include--------------------------------------\n",
    "    \n",
    "    if include:\n",
    "        #sub = Ts[Ts['Province/State'].isin(include) | Ts['Country/Region'].isin(include)]\n",
    "        for j in include:\n",
    "            region = str(j)\n",
    "            if region in list(Df['Region']):\n",
    "                continue\n",
    "            if region in list(Ts['Province/State']):\n",
    "                sub = Ts[Ts['Province/State'] == region]\n",
    "            else:\n",
    "                sub = Ts[Ts['Country/Region'] == region]\n",
    "                \n",
    "            for index, row in sub.iterrows():\n",
    "                if Start != False:\n",
    "                    Date = 0\n",
    "                    for i in range(4,col):\n",
    "                        if row[i] >= Start:\n",
    "                            dic = {'Region' : region, 'Case' : row[i],'Date' : Date}\n",
    "                            Date = Date + 1\n",
    "                            Dic.append(dic)\n",
    "                else:\n",
    "                    for i in range(4,col):\n",
    "                        dic = {'Region' : region, 'Case' : row[i],'Date' : i-4}                       \n",
    "                        Dic.append(dic)\n",
    "        Df = pd.DataFrame.from_dict(Dic)\n",
    "    \n",
    "    \n",
    "    #--------------------------------------label and plot--------------------------------------\n",
    "    \n",
    "    ylabel = 'Confirmed cases'\n",
    "    \n",
    "    if log == True:\n",
    "        Df['Case'] = np.log(Df['Case'])\n",
    "        ylabel = \"Confirmed cases (log)\"\n",
    "    \n",
    "    if Hubei == False:\n",
    "        Df = Df[Df['Region'] != 'Hubei']\n",
    "    \n",
    "    if China == False:\n",
    "        C_label = ' hiden; '\n",
    "    else:\n",
    "        C_label = ' included; '\n",
    "    if Hubei == False:\n",
    "        H_label = ' hiden'\n",
    "    else:\n",
    "        H_label = ' included'\n",
    "    \n",
    "    Title =  'Confirmed cases in the top ' + str(Top) + ' regions (China is' + C_label + ' Hubei is'+ H_label + ')'\n",
    "    \n",
    "    fig = px.line(x = Df['Date'], y = Df['Case'], color = Df['Region'],title = Title, labels={'x':label, 'y':ylabel})\n",
    "    fig.show()"
   ]
  },
  {
   "cell_type": "code",
   "execution_count": 5,
   "metadata": {},
   "outputs": [
    {
     "data": {
      "application/vnd.plotly.v1+json": {
       "config": {
        "plotlyServerURL": "https://plot.ly"
       },
       "data": [
        {
         "hoverlabel": {
          "namelength": 0
         },
         "hovertemplate": "color=US<br>Date from cases >= 100=%{x}<br>Confirmed cases (log)=%{y}",
         "legendgroup": "US",
         "line": {
          "color": "#636efa",
          "dash": "solid"
         },
         "mode": "lines",
         "name": "US",
         "showlegend": true,
         "type": "scatter",
         "x": [
          0,
          1,
          2,
          3,
          4,
          5,
          6,
          7,
          8,
          9,
          10,
          11,
          12,
          13,
          14,
          15,
          16,
          17,
          18,
          19,
          20,
          21,
          22,
          23,
          24,
          25,
          26,
          27,
          28,
          29,
          30
         ],
         "xaxis": "x",
         "y": [
          4.770684624465665,
          5.003946305945459,
          5.37989735354046,
          5.568344503761097,
          5.996452088619021,
          6.249975242259483,
          6.368187186350492,
          6.8658910748834385,
          7.155396301896734,
          7.416378479192928,
          7.68662133494462,
          7.910957382845589,
          8.160232492367689,
          8.440744019252831,
          8.76732914779405,
          8.959697146959389,
          9.523470868881551,
          9.857443614034722,
          10.146002265529594,
          10.412591695403778,
          10.688461580408601,
          10.891912882169482,
          11.094040714902595,
          11.33661778849305,
          11.529359680433648,
          11.707488455408749,
          11.855706331701002,
          11.99415954595871,
          12.145111717169032,
          12.270792400243948,
          12.402679184393824
         ],
         "yaxis": "y"
        },
        {
         "hoverlabel": {
          "namelength": 0
         },
         "hovertemplate": "color=Italy<br>Date from cases >= 100=%{x}<br>Confirmed cases (log)=%{y}",
         "legendgroup": "Italy",
         "line": {
          "color": "#EF553B",
          "dash": "solid"
         },
         "mode": "lines",
         "name": "Italy",
         "showlegend": true,
         "type": "scatter",
         "x": [
          0,
          1,
          2,
          3,
          4,
          5,
          6,
          7,
          8,
          9,
          10,
          11,
          12,
          13,
          14,
          15,
          16,
          17,
          18,
          19,
          20,
          21,
          22,
          23,
          24,
          25,
          26,
          27,
          28,
          29,
          30,
          31,
          32,
          33,
          34,
          35,
          36,
          37,
          38,
          39
         ],
         "xaxis": "x",
         "y": [
          5.043425116919247,
          5.43372200355424,
          5.7745515455444085,
          6.115892125483034,
          6.484635235635252,
          6.78897174299217,
          7.028201432058005,
          7.434847875211999,
          7.618742377670413,
          7.824845691026856,
          8.035602692918582,
          8.257904193465674,
          8.441607204459642,
          8.679822114864455,
          8.905851181208021,
          9.123910643977796,
          9.225130457448818,
          9.430439293104167,
          9.430439293104167,
          9.77905747415795,
          9.959726098983317,
          10.11645954852884,
          10.239245248219472,
          10.357933282865915,
          10.483270047141055,
          10.622180640063812,
          10.758349589413635,
          10.88889381504096,
          10.987628974775781,
          11.065497086334029,
          11.144409260640266,
          11.217023031071593,
          11.297117442754166,
          11.367876571265384,
          11.434661174974103,
          11.489544242132316,
          11.53016598935263,
          11.569230181180696,
          11.613440259060091,
          11.654789544132907
         ],
         "yaxis": "y"
        },
        {
         "hoverlabel": {
          "namelength": 0
         },
         "hovertemplate": "color=Spain<br>Date from cases >= 100=%{x}<br>Confirmed cases (log)=%{y}",
         "legendgroup": "Spain",
         "line": {
          "color": "#00cc96",
          "dash": "solid"
         },
         "mode": "lines",
         "name": "Spain",
         "showlegend": true,
         "type": "scatter",
         "x": [
          0,
          1,
          2,
          3,
          4,
          5,
          6,
          7,
          8,
          9,
          10,
          11,
          12,
          13,
          14,
          15,
          16,
          17,
          18,
          19,
          20,
          21,
          22,
          23,
          24,
          25,
          26,
          27,
          28,
          29,
          30,
          31
         ],
         "xaxis": "x",
         "y": [
          4.787491742782046,
          5.10594547390058,
          5.402677381872279,
          5.556828061699537,
          5.991464547107982,
          6.214608098422191,
          6.511745329644728,
          6.9782137426306985,
          7.43543801981455,
          7.7306140660637395,
          7.7306140660637395,
          8.562548893137034,
          8.762646029650282,
          8.961622569542543,
          9.204523486654617,
          9.37143829231851,
          9.540363284917488,
          9.796069365768835,
          9.92378025580389,
          10.141480306700544,
          10.267018937271347,
          10.466981524869203,
          10.59375559234523,
          10.810030932955403,
          10.964501810788919,
          11.093143355967271,
          11.201428727752408,
          11.291155969209163,
          11.384591968418661,
          11.471301065275696,
          11.553280150318558,
          11.62683433907801
         ],
         "yaxis": "y"
        },
        {
         "hoverlabel": {
          "namelength": 0
         },
         "hovertemplate": "color=Germany<br>Date from cases >= 100=%{x}<br>Confirmed cases (log)=%{y}",
         "legendgroup": "Germany",
         "line": {
          "color": "#ab63fa",
          "dash": "solid"
         },
         "mode": "lines",
         "name": "Germany",
         "showlegend": true,
         "type": "scatter",
         "x": [
          0,
          1,
          2,
          3,
          4,
          5,
          6,
          7,
          8,
          9,
          10,
          11,
          12,
          13,
          14,
          15,
          16,
          17,
          18,
          19,
          20,
          21,
          22,
          23,
          24,
          25,
          26,
          27,
          28,
          29,
          30,
          31,
          32
         ],
         "xaxis": "x",
         "y": [
          4.867534450455582,
          5.0689042022202315,
          5.278114659230517,
          5.568344503761097,
          6.1779441140506,
          6.507277712385012,
          6.683360945766275,
          6.946975992135418,
          7.069874128458572,
          7.284134806195205,
          7.553810852008231,
          7.639161171659173,
          8.209308411646937,
          8.430545384690566,
          8.664750755773852,
          8.891786635857315,
          9.133135301067211,
          9.41954725755152,
          9.636914443294582,
          9.895858525371636,
          10.008432982057622,
          10.121538156784329,
          10.27698028140102,
          10.403838508008098,
          10.527365037582602,
          10.690534828289124,
          10.837048295575237,
          10.962925793628768,
          11.036420749382133,
          11.110730005729687,
          11.181751169442313,
          11.262821732073235,
          11.34798006455978
         ],
         "yaxis": "y"
        },
        {
         "hoverlabel": {
          "namelength": 0
         },
         "hovertemplate": "color=Hubei<br>Date from cases >= 100=%{x}<br>Confirmed cases (log)=%{y}",
         "legendgroup": "Hubei",
         "line": {
          "color": "#FFA15A",
          "dash": "solid"
         },
         "mode": "lines",
         "name": "Hubei",
         "showlegend": true,
         "type": "scatter",
         "x": [
          0,
          1,
          2,
          3,
          4,
          5,
          6,
          7,
          8,
          9,
          10,
          11,
          12,
          13,
          14,
          15,
          16,
          17,
          18,
          19,
          20,
          21,
          22,
          23,
          24,
          25,
          26,
          27,
          28,
          29,
          30,
          31,
          32,
          33,
          34,
          35,
          36,
          37,
          38,
          39,
          40,
          41,
          42,
          43,
          44,
          45,
          46,
          47,
          48,
          49,
          50,
          51,
          52,
          53,
          54,
          55,
          56,
          57,
          58,
          59,
          60,
          61,
          62,
          63,
          64,
          65,
          66,
          67,
          68,
          69,
          70,
          71
         ],
         "xaxis": "x",
         "y": [
          6.095824562432225,
          6.095824562432225,
          6.3080984415095305,
          6.634633357861686,
          6.964135612418245,
          7.260522598089852,
          8.175829008714597,
          8.175829008714597,
          8.497602541651233,
          8.666647144584575,
          8.875287128108384,
          9.321613374385612,
          9.512073267650623,
          9.72184576464693,
          9.88659568486591,
          10.003875726567397,
          10.12474933443232,
          10.207289006867793,
          10.296576389576238,
          10.364954850759577,
          10.41529269641562,
          10.41529269641562,
          10.783238773619335,
          10.904229720879732,
          10.937543542130863,
          10.971331307532601,
          11.001916491063295,
          11.02974743313305,
          11.03538953906888,
          11.041993404865915,
          11.045510482285986,
          11.067950001766604,
          11.067950001766604,
          11.071112712491193,
          11.078844809615621,
          11.085015341531545,
          11.091269997463336,
          11.096106141023359,
          11.102503089892746,
          11.111058874424351,
          11.11398403134931,
          11.115681470708637,
          11.117390885538972,
          11.119379046255592,
          11.121244911832681,
          11.122339117090533,
          11.122944850896442,
          11.123476412370751,
          11.123727329325936,
          11.123919164525333,
          11.124037198666844,
          11.124110962931043,
          11.124169970425012,
          11.124228974437301,
          11.124287974968324,
          11.124302724557179,
          11.124317473928487,
          11.124317473928487,
          11.124317473928487,
          11.124317473928487,
          11.124317473928487,
          11.124317473928487,
          11.124332223082254,
          11.124332223082254,
          11.124332223082254,
          11.124332223082254,
          11.124332223082254,
          11.124332223082254,
          11.124332223082254,
          11.124332223082254,
          11.124346972018488,
          11.124346972018488
         ],
         "yaxis": "y"
        },
        {
         "hoverlabel": {
          "namelength": 0
         },
         "hovertemplate": "color=France<br>Date from cases >= 100=%{x}<br>Confirmed cases (log)=%{y}",
         "legendgroup": "France",
         "line": {
          "color": "#19d3f3",
          "dash": "solid"
         },
         "mode": "lines",
         "name": "France",
         "showlegend": true,
         "type": "scatter",
         "x": [
          0,
          1,
          2,
          3,
          4,
          5,
          6,
          7,
          8,
          9,
          10,
          11,
          12,
          13,
          14,
          15,
          16,
          17,
          18,
          19,
          20,
          21,
          22,
          23,
          24,
          25,
          26,
          27,
          28,
          29,
          30,
          31,
          32,
          33
         ],
         "xaxis": "x",
         "y": [
          4.605170185988092,
          4.867534450455582,
          5.25227342804663,
          5.318119993844216,
          5.652489180268651,
          5.932245187448011,
          6.481577129276431,
          6.855408798609928,
          7.026426808699636,
          7.097548850614793,
          7.486613313139955,
          7.732369222284388,
          7.732369222284388,
          8.205491613120236,
          8.404919948933452,
          8.411610428841172,
          8.799812469525556,
          8.942722330560143,
          9.10974625674048,
          9.293853972204001,
          9.442404020664952,
          9.566755282109055,
          9.681468368883628,
          9.896261507444388,
          10.012521313560251,
          10.135907940630547,
          10.280381703656257,
          10.403171335883274,
          10.534094214621176,
          10.600975299194493,
          10.704367432898955,
          10.861457511401772,
          10.950613545737037,
          10.987070802184478
         ],
         "yaxis": "y"
        },
        {
         "hoverlabel": {
          "namelength": 0
         },
         "hovertemplate": "color=Iran<br>Date from cases >= 100=%{x}<br>Confirmed cases (log)=%{y}",
         "legendgroup": "Iran",
         "line": {
          "color": "#FF6692",
          "dash": "solid"
         },
         "mode": "lines",
         "name": "Iran",
         "showlegend": true,
         "type": "scatter",
         "x": [
          0,
          1,
          2,
          3,
          4,
          5,
          6,
          7,
          8,
          9,
          10,
          11,
          12,
          13,
          14,
          15,
          16,
          17,
          18,
          19,
          20,
          21,
          22,
          23,
          24,
          25,
          26,
          27,
          28,
          29,
          30,
          31,
          32,
          33,
          34,
          35,
          36
         ],
         "xaxis": "x",
         "y": [
          4.9344739331306915,
          5.501258210544727,
          5.961005339623274,
          6.385194398997726,
          6.885509670034818,
          7.313886831633462,
          7.756195343948118,
          7.980023592310645,
          8.164225652265827,
          8.465268118551318,
          8.66957087183712,
          8.789660098061537,
          8.87640491500694,
          8.992433087457218,
          9.104979856318357,
          9.217812386814884,
          9.338205742974079,
          9.451638133870434,
          9.542374201998465,
          9.615205300012315,
          9.690851107739814,
          9.761981590241948,
          9.820486306032722,
          9.885527227159136,
          9.933531673884504,
          9.98220630724752,
          10.045377663535744,
          10.119042382201663,
          10.204221576482523,
          10.288954014137602,
          10.383812730853736,
          10.47469306229083,
          10.553440134508799,
          10.633328217032549,
          10.705601239347883,
          10.770440970581772,
          10.829094751047633
         ],
         "yaxis": "y"
        },
        {
         "hoverlabel": {
          "namelength": 0
         },
         "hovertemplate": "color=United Kingdom<br>Date from cases >= 100=%{x}<br>Confirmed cases (log)=%{y}",
         "legendgroup": "United Kingdom",
         "line": {
          "color": "#B6E880",
          "dash": "solid"
         },
         "mode": "lines",
         "name": "United Kingdom",
         "showlegend": true,
         "type": "scatter",
         "x": [
          0,
          1,
          2,
          3,
          4,
          5,
          6,
          7,
          8,
          9,
          10,
          11,
          12,
          13,
          14,
          15,
          16,
          17,
          18,
          19,
          20,
          21,
          22,
          23,
          24,
          25,
          26,
          27,
          28
         ],
         "xaxis": "x",
         "y": [
          4.74493212836325,
          5.093750200806762,
          5.327876168789581,
          5.60947179518496,
          5.771441123130016,
          5.945420608606575,
          6.1224928095143865,
          6.1224928095143865,
          6.682108597449809,
          7.038783541388542,
          7.038783541388542,
          7.341483852363161,
          7.575584651557793,
          7.873217054862741,
          7.896924656268864,
          8.289790583181643,
          8.520786726926367,
          8.645234541297121,
          8.8023721336499,
          8.996775795442296,
          9.162095059348188,
          9.363747918605496,
          9.58486505717771,
          9.746190260646909,
          9.879297313734911,
          10.005186372360962,
          10.132613175527885,
          10.291263797773208,
          10.425787098375746
         ],
         "yaxis": "y"
        },
        {
         "hoverlabel": {
          "namelength": 0
         },
         "hovertemplate": "color=Switzerland<br>Date from cases >= 100=%{x}<br>Confirmed cases (log)=%{y}",
         "legendgroup": "Switzerland",
         "line": {
          "color": "#FF97FF",
          "dash": "solid"
         },
         "mode": "lines",
         "name": "Switzerland",
         "showlegend": true,
         "type": "scatter",
         "x": [
          0,
          1,
          2,
          3,
          4,
          5,
          6,
          7,
          8,
          9,
          10,
          11,
          12,
          13,
          14,
          15,
          16,
          17,
          18,
          19,
          20,
          21,
          22,
          23,
          24,
          25,
          26,
          27,
          28
         ],
         "xaxis": "x",
         "y": [
          4.736198448394496,
          5.365976015021851,
          5.5909869805108565,
          5.820082930352362,
          5.924255797414532,
          6.19644412779452,
          6.480044561926653,
          6.480044561926653,
          7.037905963447182,
          7.214504414151143,
          7.696212639346407,
          7.696212639346407,
          7.90100705199242,
          8.01565761455734,
          8.312626025674962,
          8.574329382787047,
          8.791029857045965,
          8.91918561004543,
          9.081938657171658,
          9.197964100908127,
          9.296242800976886,
          9.376786579611847,
          9.467150780760877,
          9.552226498441476,
          9.60434000197507,
          9.675457079648524,
          9.717459133810847,
          9.785154365574263,
          9.843047288724712
         ],
         "yaxis": "y"
        },
        {
         "hoverlabel": {
          "namelength": 0
         },
         "hovertemplate": "color=Turkey<br>Date from cases >= 100=%{x}<br>Confirmed cases (log)=%{y}",
         "legendgroup": "Turkey",
         "line": {
          "color": "#FECB52",
          "dash": "solid"
         },
         "mode": "lines",
         "name": "Turkey",
         "showlegend": true,
         "type": "scatter",
         "x": [
          0,
          1,
          2,
          3,
          4,
          5,
          6,
          7,
          8,
          9,
          10,
          11,
          12,
          13,
          14
         ],
         "xaxis": "x",
         "y": [
          5.2574953720277815,
          5.883322388488279,
          6.507277712385012,
          7.119635638017636,
          7.332369205929062,
          7.534762657037537,
          7.796880342783522,
          8.19671240721307,
          8.647870515057853,
          8.909505512946101,
          9.128804883993665,
          9.289798293310898,
          9.512738628263644,
          9.66007751636045,
          9.805599051717003
         ],
         "yaxis": "y"
        },
        {
         "hoverlabel": {
          "namelength": 0
         },
         "hovertemplate": "color=Belgium<br>Date from cases >= 100=%{x}<br>Confirmed cases (log)=%{y}",
         "legendgroup": "Belgium",
         "line": {
          "color": "#636efa",
          "dash": "solid"
         },
         "mode": "lines",
         "name": "Belgium",
         "showlegend": true,
         "type": "scatter",
         "x": [
          0,
          1,
          2,
          3,
          4,
          5,
          6,
          7,
          8,
          9,
          10,
          11,
          12,
          13,
          14,
          15,
          16,
          17,
          18,
          19,
          20,
          21,
          22,
          23,
          24,
          25,
          26,
          27
         ],
         "xaxis": "x",
         "y": [
          4.6913478822291435,
          5.1298987149230735,
          5.298317366548036,
          5.476463551931511,
          5.58724865840025,
          5.749392985908253,
          5.749392985908253,
          6.326149473155099,
          6.535241271013659,
          6.786716950605081,
          6.964135612418245,
          7.1252830915107115,
          7.303843225277705,
          7.492760300922379,
          7.721791776817535,
          7.942717540573791,
          8.131824785007195,
          8.22764270790443,
          8.359134886757962,
          8.504513138258863,
          8.737933858114136,
          8.8934354408475,
          9.119758993744945,
          9.290629203204986,
          9.384209641955154,
          9.455245415071905,
          9.544237868224927,
          9.638740451366843
         ],
         "yaxis": "y"
        },
        {
         "hoverlabel": {
          "namelength": 0
         },
         "hovertemplate": "color=Netherlands<br>Date from cases >= 100=%{x}<br>Confirmed cases (log)=%{y}",
         "legendgroup": "Netherlands",
         "line": {
          "color": "#EF553B",
          "dash": "solid"
         },
         "mode": "lines",
         "name": "Netherlands",
         "showlegend": true,
         "type": "scatter",
         "x": [
          0,
          1,
          2,
          3,
          4,
          5,
          6,
          7,
          8,
          9,
          10,
          11,
          12,
          13,
          14,
          15,
          16,
          17,
          18,
          19,
          20,
          21,
          22,
          23,
          24,
          25,
          26,
          27
         ],
         "xaxis": "x",
         "y": [
          4.852030263919617,
          5.236441962829949,
          5.579729825986222,
          5.771441123130016,
          5.945420608606575,
          6.220590170099739,
          6.220590170099739,
          6.6895992691789665,
          6.8658910748834385,
          7.034387929915503,
          7.253470382684528,
          7.4413203897176174,
          7.62608275807238,
          7.807916628926408,
          8.004365564979574,
          8.197263371414335,
          8.343791731996841,
          8.465689348549121,
          8.623353387244627,
          8.765926513729443,
          8.91341571815747,
          9.059866258621348,
          9.186252576447092,
          9.293393927111468,
          9.371608519572305,
          9.441055188786711,
          9.518853954007897,
          9.595398670306684
         ],
         "yaxis": "y"
        },
        {
         "hoverlabel": {
          "namelength": 0
         },
         "hovertemplate": "color=Austria<br>Date from cases >= 100=%{x}<br>Confirmed cases (log)=%{y}",
         "legendgroup": "Austria",
         "line": {
          "color": "#00cc96",
          "dash": "solid"
         },
         "mode": "lines",
         "name": "Austria",
         "showlegend": true,
         "type": "scatter",
         "x": [
          0,
          1,
          2,
          3,
          4,
          5,
          6,
          7,
          8,
          9,
          10,
          11,
          12,
          13,
          14,
          15,
          16,
          17,
          18,
          19,
          20,
          21,
          22,
          23,
          24,
          25
         ],
         "xaxis": "x",
         "y": [
          4.6443908991413725,
          4.875197323201151,
          5.204006687076795,
          5.5053315359323625,
          5.71042701737487,
          6.222576268071369,
          6.484635235635252,
          6.756932389247553,
          6.925595197110468,
          7.194436851100335,
          7.406103381237015,
          7.607381425639791,
          7.778211474512493,
          7.942362237674335,
          8.183676582620658,
          8.406038142050075,
          8.572249397164315,
          8.628376720376853,
          8.840580188488795,
          8.943375541113124,
          9.020510699691906,
          9.081142433504501,
          9.171391621837609,
          9.228180290104513,
          9.27902652976463,
          9.317309592973425
         ],
         "yaxis": "y"
        },
        {
         "hoverlabel": {
          "namelength": 0
         },
         "hovertemplate": "color=Korea, South<br>Date from cases >= 100=%{x}<br>Confirmed cases (log)=%{y}",
         "legendgroup": "Korea, South",
         "line": {
          "color": "#ab63fa",
          "dash": "solid"
         },
         "mode": "lines",
         "name": "Korea, South",
         "showlegend": true,
         "type": "scatter",
         "x": [
          0,
          1,
          2,
          3,
          4,
          5,
          6,
          7,
          8,
          9,
          10,
          11,
          12,
          13,
          14,
          15,
          16,
          17,
          18,
          19,
          20,
          21,
          22,
          23,
          24,
          25,
          26,
          27,
          28,
          29,
          30,
          31,
          32,
          33,
          34,
          35,
          36,
          37,
          38,
          39,
          40,
          41,
          42
         ],
         "xaxis": "x",
         "y": [
          4.6443908991413725,
          5.318119993844216,
          6.07073772800249,
          6.400257445308821,
          6.725033642166843,
          6.884486652042782,
          7.13966033596492,
          7.476472381163905,
          7.756623334538858,
          8.055157731819678,
          8.225770799348734,
          8.374476889214643,
          8.55371796609861,
          8.634264863002075,
          8.714074899541522,
          8.7937637591133,
          8.859505484519133,
          8.897545598709327,
          8.91972065553706,
          8.92439013236916,
          8.956093075610639,
          8.970686268534983,
          8.984568369308281,
          8.997889450200717,
          9.00724451596575,
          9.01627006814768,
          9.026417533815254,
          9.037533407550814,
          9.05543941075822,
          9.06554578707295,
          9.08239335764556,
          9.10063710688422,
          9.10063710688422,
          9.109082539901955,
          9.120087382998621,
          9.13140538388804,
          9.14120463314132,
          9.156728602527533,
          9.167745974343763,
          9.17585244151751,
          9.188708071849069,
          9.198976041897133,
          9.207937487359873
         ],
         "yaxis": "y"
        },
        {
         "hoverlabel": {
          "namelength": 0
         },
         "hovertemplate": "color=Portugal<br>Date from cases >= 100=%{x}<br>Confirmed cases (log)=%{y}",
         "legendgroup": "Portugal",
         "line": {
          "color": "#FFA15A",
          "dash": "solid"
         },
         "mode": "lines",
         "name": "Portugal",
         "showlegend": true,
         "type": "scatter",
         "x": [
          0,
          1,
          2,
          3,
          4,
          5,
          6,
          7,
          8,
          9,
          10,
          11,
          12,
          13,
          14,
          15,
          16,
          17,
          18,
          19,
          20
         ],
         "xaxis": "x",
         "y": [
          4.718498871295094,
          5.1298987149230735,
          5.501258210544727,
          5.802118375377063,
          6.104793232414985,
          6.104793232414985,
          6.665683717782408,
          6.927557906278317,
          7.154615356913663,
          7.3777589082278725,
          7.630461261783627,
          7.767263996757308,
          8.00469951054955,
          8.173011311724972,
          8.358900612421644,
          8.550627967502475,
          8.693161274238017,
          8.765302488748196,
          8.915029272359911,
          9.018089684104343,
          9.108750516214549
         ],
         "yaxis": "y"
        },
        {
         "hoverlabel": {
          "namelength": 0
         },
         "hovertemplate": "color=Brazil<br>Date from cases >= 100=%{x}<br>Confirmed cases (log)=%{y}",
         "legendgroup": "Brazil",
         "line": {
          "color": "#19d3f3",
          "dash": "solid"
         },
         "mode": "lines",
         "name": "Brazil",
         "showlegend": true,
         "type": "scatter",
         "x": [
          0,
          1,
          2,
          3,
          4,
          5,
          6,
          7,
          8,
          9,
          10,
          11,
          12,
          13,
          14,
          15,
          16,
          17,
          18,
          19,
          20
         ],
         "xaxis": "x",
         "y": [
          5.017279836814924,
          5.017279836814924,
          5.087596335232384,
          5.298317366548036,
          5.771441123130016,
          5.918893854273146,
          6.431331081933479,
          6.675823221634848,
          6.928537818164665,
          7.343426229147367,
          7.562161631225652,
          7.717351272185329,
          7.845416036592485,
          8.001355025826703,
          8.136518252115291,
          8.269756947532983,
          8.35608503102148,
          8.429235912657095,
          8.651199471263972,
          8.829958044235482,
          8.992681750892542
         ],
         "yaxis": "y"
        },
        {
         "hoverlabel": {
          "namelength": 0
         },
         "hovertemplate": "color=Israel<br>Date from cases >= 100=%{x}<br>Confirmed cases (log)=%{y}",
         "legendgroup": "Israel",
         "line": {
          "color": "#FF6692",
          "dash": "solid"
         },
         "mode": "lines",
         "name": "Israel",
         "showlegend": true,
         "type": "scatter",
         "x": [
          0,
          1,
          2,
          3,
          4,
          5,
          6,
          7,
          8,
          9,
          10,
          11,
          12,
          13,
          14,
          15,
          16,
          17,
          18,
          19,
          20,
          21
         ],
         "xaxis": "x",
         "y": [
          4.605170185988092,
          4.836281906951478,
          5.043425116919247,
          5.3612921657094255,
          5.384495062789089,
          5.521460917862246,
          5.717027701406222,
          6.056784013228625,
          6.270988431858299,
          6.568077911411976,
          6.78332520060396,
          6.976348070447749,
          7.121252453244542,
          7.7702232041587855,
          7.898411092811599,
          8.017966703493599,
          8.193953023563742,
          8.353968130313271,
          8.454253391642363,
          8.586346050104554,
          8.714731714015052,
          8.833025307284364
         ],
         "yaxis": "y"
        },
        {
         "hoverlabel": {
          "namelength": 0
         },
         "hovertemplate": "color=Sweden<br>Date from cases >= 100=%{x}<br>Confirmed cases (log)=%{y}",
         "legendgroup": "Sweden",
         "line": {
          "color": "#B6E880",
          "dash": "solid"
         },
         "mode": "lines",
         "name": "Sweden",
         "showlegend": true,
         "type": "scatter",
         "x": [
          0,
          1,
          2,
          3,
          4,
          5,
          6,
          7,
          8,
          9,
          10,
          11,
          12,
          13,
          14,
          15,
          16,
          17,
          18,
          19,
          20,
          21,
          22,
          23,
          24,
          25,
          26,
          27
         ],
         "xaxis": "x",
         "y": [
          4.61512051684126,
          5.081404364984463,
          5.313205979041787,
          5.5134287461649825,
          5.872117789475416,
          6.214608098422191,
          6.395261598115449,
          6.70196036600254,
          6.8679744089702925,
          6.92951677076365,
          7.005789019253503,
          7.081708586105575,
          7.153833801578843,
          7.271703706887368,
          7.40184157874383,
          7.47477218239787,
          7.56734567601324,
          7.6236419465115715,
          7.734558844354756,
          7.8343923029104365,
          7.951559331155252,
          8.029107054619736,
          8.145259566516865,
          8.216088098632316,
          8.301025253838453,
          8.39728289474368,
          8.506536611227709,
          8.624791202014256
         ],
         "yaxis": "y"
        },
        {
         "hoverlabel": {
          "namelength": 0
         },
         "hovertemplate": "color=Canada<br>Date from cases >= 100=%{x}<br>Confirmed cases (log)=%{y}",
         "legendgroup": "Canada",
         "line": {
          "color": "#FF97FF",
          "dash": "solid"
         },
         "mode": "lines",
         "name": "Canada",
         "showlegend": true,
         "type": "scatter",
         "x": [
          0,
          1,
          2,
          3,
          4,
          5,
          6,
          7,
          8,
          9,
          10,
          11,
          12,
          13,
          14
         ],
         "xaxis": "x",
         "y": [
          4.795790545596741,
          4.9344739331306915,
          5.198497031265826,
          5.389071729816501,
          6.4425401664681985,
          6.920671504248683,
          7.201916317531627,
          7.397561535524052,
          7.6128310304073565,
          7.823245690685523,
          7.951559331155252,
          8.140315540159985,
          8.33375100695358,
          8.436200032206706,
          8.615770754777232
         ],
         "yaxis": "y"
        },
        {
         "hoverlabel": {
          "namelength": 0
         },
         "hovertemplate": "color=Norway<br>Date from cases >= 100=%{x}<br>Confirmed cases (log)=%{y}",
         "legendgroup": "Norway",
         "line": {
          "color": "#FECB52",
          "dash": "solid"
         },
         "mode": "lines",
         "name": "Norway",
         "showlegend": true,
         "type": "scatter",
         "x": [
          0,
          1,
          2,
          3,
          4,
          5,
          6,
          7,
          8,
          9,
          10,
          11,
          12,
          13,
          14,
          15,
          16,
          17,
          18,
          19,
          20,
          21,
          22,
          23,
          24,
          25,
          26,
          27
         ],
         "xaxis": "x",
         "y": [
          4.68213122712422,
          4.990432586778736,
          5.170483995038151,
          5.3230099791384085,
          5.991464547107982,
          6.393590753950631,
          6.553933404025811,
          6.903747257584598,
          6.993932975223189,
          7.107425474110705,
          7.195187320178709,
          7.288244401020124,
          7.346010209913293,
          7.465082736399547,
          7.5569505720129,
          7.658227526161352,
          7.776954403322442,
          7.8713112033234065,
          7.959625305098115,
          8.03398273468322,
          8.122371243406553,
          8.230843564198235,
          8.297792626380861,
          8.36264243156764,
          8.399535147948004,
          8.442685139241176,
          8.489410810403786,
          8.546169299652755
         ],
         "yaxis": "y"
        }
       ],
       "layout": {
        "legend": {
         "title": {
          "text": "color"
         },
         "tracegroupgap": 0
        },
        "template": {
         "data": {
          "bar": [
           {
            "error_x": {
             "color": "#2a3f5f"
            },
            "error_y": {
             "color": "#2a3f5f"
            },
            "marker": {
             "line": {
              "color": "#E5ECF6",
              "width": 0.5
             }
            },
            "type": "bar"
           }
          ],
          "barpolar": [
           {
            "marker": {
             "line": {
              "color": "#E5ECF6",
              "width": 0.5
             }
            },
            "type": "barpolar"
           }
          ],
          "carpet": [
           {
            "aaxis": {
             "endlinecolor": "#2a3f5f",
             "gridcolor": "white",
             "linecolor": "white",
             "minorgridcolor": "white",
             "startlinecolor": "#2a3f5f"
            },
            "baxis": {
             "endlinecolor": "#2a3f5f",
             "gridcolor": "white",
             "linecolor": "white",
             "minorgridcolor": "white",
             "startlinecolor": "#2a3f5f"
            },
            "type": "carpet"
           }
          ],
          "choropleth": [
           {
            "colorbar": {
             "outlinewidth": 0,
             "ticks": ""
            },
            "type": "choropleth"
           }
          ],
          "contour": [
           {
            "colorbar": {
             "outlinewidth": 0,
             "ticks": ""
            },
            "colorscale": [
             [
              0,
              "#0d0887"
             ],
             [
              0.1111111111111111,
              "#46039f"
             ],
             [
              0.2222222222222222,
              "#7201a8"
             ],
             [
              0.3333333333333333,
              "#9c179e"
             ],
             [
              0.4444444444444444,
              "#bd3786"
             ],
             [
              0.5555555555555556,
              "#d8576b"
             ],
             [
              0.6666666666666666,
              "#ed7953"
             ],
             [
              0.7777777777777778,
              "#fb9f3a"
             ],
             [
              0.8888888888888888,
              "#fdca26"
             ],
             [
              1,
              "#f0f921"
             ]
            ],
            "type": "contour"
           }
          ],
          "contourcarpet": [
           {
            "colorbar": {
             "outlinewidth": 0,
             "ticks": ""
            },
            "type": "contourcarpet"
           }
          ],
          "heatmap": [
           {
            "colorbar": {
             "outlinewidth": 0,
             "ticks": ""
            },
            "colorscale": [
             [
              0,
              "#0d0887"
             ],
             [
              0.1111111111111111,
              "#46039f"
             ],
             [
              0.2222222222222222,
              "#7201a8"
             ],
             [
              0.3333333333333333,
              "#9c179e"
             ],
             [
              0.4444444444444444,
              "#bd3786"
             ],
             [
              0.5555555555555556,
              "#d8576b"
             ],
             [
              0.6666666666666666,
              "#ed7953"
             ],
             [
              0.7777777777777778,
              "#fb9f3a"
             ],
             [
              0.8888888888888888,
              "#fdca26"
             ],
             [
              1,
              "#f0f921"
             ]
            ],
            "type": "heatmap"
           }
          ],
          "heatmapgl": [
           {
            "colorbar": {
             "outlinewidth": 0,
             "ticks": ""
            },
            "colorscale": [
             [
              0,
              "#0d0887"
             ],
             [
              0.1111111111111111,
              "#46039f"
             ],
             [
              0.2222222222222222,
              "#7201a8"
             ],
             [
              0.3333333333333333,
              "#9c179e"
             ],
             [
              0.4444444444444444,
              "#bd3786"
             ],
             [
              0.5555555555555556,
              "#d8576b"
             ],
             [
              0.6666666666666666,
              "#ed7953"
             ],
             [
              0.7777777777777778,
              "#fb9f3a"
             ],
             [
              0.8888888888888888,
              "#fdca26"
             ],
             [
              1,
              "#f0f921"
             ]
            ],
            "type": "heatmapgl"
           }
          ],
          "histogram": [
           {
            "marker": {
             "colorbar": {
              "outlinewidth": 0,
              "ticks": ""
             }
            },
            "type": "histogram"
           }
          ],
          "histogram2d": [
           {
            "colorbar": {
             "outlinewidth": 0,
             "ticks": ""
            },
            "colorscale": [
             [
              0,
              "#0d0887"
             ],
             [
              0.1111111111111111,
              "#46039f"
             ],
             [
              0.2222222222222222,
              "#7201a8"
             ],
             [
              0.3333333333333333,
              "#9c179e"
             ],
             [
              0.4444444444444444,
              "#bd3786"
             ],
             [
              0.5555555555555556,
              "#d8576b"
             ],
             [
              0.6666666666666666,
              "#ed7953"
             ],
             [
              0.7777777777777778,
              "#fb9f3a"
             ],
             [
              0.8888888888888888,
              "#fdca26"
             ],
             [
              1,
              "#f0f921"
             ]
            ],
            "type": "histogram2d"
           }
          ],
          "histogram2dcontour": [
           {
            "colorbar": {
             "outlinewidth": 0,
             "ticks": ""
            },
            "colorscale": [
             [
              0,
              "#0d0887"
             ],
             [
              0.1111111111111111,
              "#46039f"
             ],
             [
              0.2222222222222222,
              "#7201a8"
             ],
             [
              0.3333333333333333,
              "#9c179e"
             ],
             [
              0.4444444444444444,
              "#bd3786"
             ],
             [
              0.5555555555555556,
              "#d8576b"
             ],
             [
              0.6666666666666666,
              "#ed7953"
             ],
             [
              0.7777777777777778,
              "#fb9f3a"
             ],
             [
              0.8888888888888888,
              "#fdca26"
             ],
             [
              1,
              "#f0f921"
             ]
            ],
            "type": "histogram2dcontour"
           }
          ],
          "mesh3d": [
           {
            "colorbar": {
             "outlinewidth": 0,
             "ticks": ""
            },
            "type": "mesh3d"
           }
          ],
          "parcoords": [
           {
            "line": {
             "colorbar": {
              "outlinewidth": 0,
              "ticks": ""
             }
            },
            "type": "parcoords"
           }
          ],
          "pie": [
           {
            "automargin": true,
            "type": "pie"
           }
          ],
          "scatter": [
           {
            "marker": {
             "colorbar": {
              "outlinewidth": 0,
              "ticks": ""
             }
            },
            "type": "scatter"
           }
          ],
          "scatter3d": [
           {
            "line": {
             "colorbar": {
              "outlinewidth": 0,
              "ticks": ""
             }
            },
            "marker": {
             "colorbar": {
              "outlinewidth": 0,
              "ticks": ""
             }
            },
            "type": "scatter3d"
           }
          ],
          "scattercarpet": [
           {
            "marker": {
             "colorbar": {
              "outlinewidth": 0,
              "ticks": ""
             }
            },
            "type": "scattercarpet"
           }
          ],
          "scattergeo": [
           {
            "marker": {
             "colorbar": {
              "outlinewidth": 0,
              "ticks": ""
             }
            },
            "type": "scattergeo"
           }
          ],
          "scattergl": [
           {
            "marker": {
             "colorbar": {
              "outlinewidth": 0,
              "ticks": ""
             }
            },
            "type": "scattergl"
           }
          ],
          "scattermapbox": [
           {
            "marker": {
             "colorbar": {
              "outlinewidth": 0,
              "ticks": ""
             }
            },
            "type": "scattermapbox"
           }
          ],
          "scatterpolar": [
           {
            "marker": {
             "colorbar": {
              "outlinewidth": 0,
              "ticks": ""
             }
            },
            "type": "scatterpolar"
           }
          ],
          "scatterpolargl": [
           {
            "marker": {
             "colorbar": {
              "outlinewidth": 0,
              "ticks": ""
             }
            },
            "type": "scatterpolargl"
           }
          ],
          "scatterternary": [
           {
            "marker": {
             "colorbar": {
              "outlinewidth": 0,
              "ticks": ""
             }
            },
            "type": "scatterternary"
           }
          ],
          "surface": [
           {
            "colorbar": {
             "outlinewidth": 0,
             "ticks": ""
            },
            "colorscale": [
             [
              0,
              "#0d0887"
             ],
             [
              0.1111111111111111,
              "#46039f"
             ],
             [
              0.2222222222222222,
              "#7201a8"
             ],
             [
              0.3333333333333333,
              "#9c179e"
             ],
             [
              0.4444444444444444,
              "#bd3786"
             ],
             [
              0.5555555555555556,
              "#d8576b"
             ],
             [
              0.6666666666666666,
              "#ed7953"
             ],
             [
              0.7777777777777778,
              "#fb9f3a"
             ],
             [
              0.8888888888888888,
              "#fdca26"
             ],
             [
              1,
              "#f0f921"
             ]
            ],
            "type": "surface"
           }
          ],
          "table": [
           {
            "cells": {
             "fill": {
              "color": "#EBF0F8"
             },
             "line": {
              "color": "white"
             }
            },
            "header": {
             "fill": {
              "color": "#C8D4E3"
             },
             "line": {
              "color": "white"
             }
            },
            "type": "table"
           }
          ]
         },
         "layout": {
          "annotationdefaults": {
           "arrowcolor": "#2a3f5f",
           "arrowhead": 0,
           "arrowwidth": 1
          },
          "coloraxis": {
           "colorbar": {
            "outlinewidth": 0,
            "ticks": ""
           }
          },
          "colorscale": {
           "diverging": [
            [
             0,
             "#8e0152"
            ],
            [
             0.1,
             "#c51b7d"
            ],
            [
             0.2,
             "#de77ae"
            ],
            [
             0.3,
             "#f1b6da"
            ],
            [
             0.4,
             "#fde0ef"
            ],
            [
             0.5,
             "#f7f7f7"
            ],
            [
             0.6,
             "#e6f5d0"
            ],
            [
             0.7,
             "#b8e186"
            ],
            [
             0.8,
             "#7fbc41"
            ],
            [
             0.9,
             "#4d9221"
            ],
            [
             1,
             "#276419"
            ]
           ],
           "sequential": [
            [
             0,
             "#0d0887"
            ],
            [
             0.1111111111111111,
             "#46039f"
            ],
            [
             0.2222222222222222,
             "#7201a8"
            ],
            [
             0.3333333333333333,
             "#9c179e"
            ],
            [
             0.4444444444444444,
             "#bd3786"
            ],
            [
             0.5555555555555556,
             "#d8576b"
            ],
            [
             0.6666666666666666,
             "#ed7953"
            ],
            [
             0.7777777777777778,
             "#fb9f3a"
            ],
            [
             0.8888888888888888,
             "#fdca26"
            ],
            [
             1,
             "#f0f921"
            ]
           ],
           "sequentialminus": [
            [
             0,
             "#0d0887"
            ],
            [
             0.1111111111111111,
             "#46039f"
            ],
            [
             0.2222222222222222,
             "#7201a8"
            ],
            [
             0.3333333333333333,
             "#9c179e"
            ],
            [
             0.4444444444444444,
             "#bd3786"
            ],
            [
             0.5555555555555556,
             "#d8576b"
            ],
            [
             0.6666666666666666,
             "#ed7953"
            ],
            [
             0.7777777777777778,
             "#fb9f3a"
            ],
            [
             0.8888888888888888,
             "#fdca26"
            ],
            [
             1,
             "#f0f921"
            ]
           ]
          },
          "colorway": [
           "#636efa",
           "#EF553B",
           "#00cc96",
           "#ab63fa",
           "#FFA15A",
           "#19d3f3",
           "#FF6692",
           "#B6E880",
           "#FF97FF",
           "#FECB52"
          ],
          "font": {
           "color": "#2a3f5f"
          },
          "geo": {
           "bgcolor": "white",
           "lakecolor": "white",
           "landcolor": "#E5ECF6",
           "showlakes": true,
           "showland": true,
           "subunitcolor": "white"
          },
          "hoverlabel": {
           "align": "left"
          },
          "hovermode": "closest",
          "mapbox": {
           "style": "light"
          },
          "paper_bgcolor": "white",
          "plot_bgcolor": "#E5ECF6",
          "polar": {
           "angularaxis": {
            "gridcolor": "white",
            "linecolor": "white",
            "ticks": ""
           },
           "bgcolor": "#E5ECF6",
           "radialaxis": {
            "gridcolor": "white",
            "linecolor": "white",
            "ticks": ""
           }
          },
          "scene": {
           "xaxis": {
            "backgroundcolor": "#E5ECF6",
            "gridcolor": "white",
            "gridwidth": 2,
            "linecolor": "white",
            "showbackground": true,
            "ticks": "",
            "zerolinecolor": "white"
           },
           "yaxis": {
            "backgroundcolor": "#E5ECF6",
            "gridcolor": "white",
            "gridwidth": 2,
            "linecolor": "white",
            "showbackground": true,
            "ticks": "",
            "zerolinecolor": "white"
           },
           "zaxis": {
            "backgroundcolor": "#E5ECF6",
            "gridcolor": "white",
            "gridwidth": 2,
            "linecolor": "white",
            "showbackground": true,
            "ticks": "",
            "zerolinecolor": "white"
           }
          },
          "shapedefaults": {
           "line": {
            "color": "#2a3f5f"
           }
          },
          "ternary": {
           "aaxis": {
            "gridcolor": "white",
            "linecolor": "white",
            "ticks": ""
           },
           "baxis": {
            "gridcolor": "white",
            "linecolor": "white",
            "ticks": ""
           },
           "bgcolor": "#E5ECF6",
           "caxis": {
            "gridcolor": "white",
            "linecolor": "white",
            "ticks": ""
           }
          },
          "title": {
           "x": 0.05
          },
          "xaxis": {
           "automargin": true,
           "gridcolor": "white",
           "linecolor": "white",
           "ticks": "",
           "title": {
            "standoff": 15
           },
           "zerolinecolor": "white",
           "zerolinewidth": 2
          },
          "yaxis": {
           "automargin": true,
           "gridcolor": "white",
           "linecolor": "white",
           "ticks": "",
           "title": {
            "standoff": 15
           },
           "zerolinecolor": "white",
           "zerolinewidth": 2
          }
         }
        },
        "title": {
         "text": "Confirmed cases in the top 20 regions (China is included;  Hubei is included)"
        },
        "xaxis": {
         "anchor": "y",
         "domain": [
          0,
          1
         ],
         "title": {
          "text": "Date from cases >= 100"
         }
        },
        "yaxis": {
         "anchor": "x",
         "domain": [
          0,
          1
         ],
         "title": {
          "text": "Confirmed cases (log)"
         }
        }
       }
      },
      "text/html": [
       "<div>\n",
       "        \n",
       "        \n",
       "            <div id=\"1ed9c2c5-3dd6-434e-af1e-f9a9623699d6\" class=\"plotly-graph-div\" style=\"height:525px; width:100%;\"></div>\n",
       "            <script type=\"text/javascript\">\n",
       "                require([\"plotly\"], function(Plotly) {\n",
       "                    window.PLOTLYENV=window.PLOTLYENV || {};\n",
       "                    \n",
       "                if (document.getElementById(\"1ed9c2c5-3dd6-434e-af1e-f9a9623699d6\")) {\n",
       "                    Plotly.newPlot(\n",
       "                        '1ed9c2c5-3dd6-434e-af1e-f9a9623699d6',\n",
       "                        [{\"hoverlabel\": {\"namelength\": 0}, \"hovertemplate\": \"color=US<br>Date from cases >= 100=%{x}<br>Confirmed cases (log)=%{y}\", \"legendgroup\": \"US\", \"line\": {\"color\": \"#636efa\", \"dash\": \"solid\"}, \"mode\": \"lines\", \"name\": \"US\", \"showlegend\": true, \"type\": \"scatter\", \"x\": [0, 1, 2, 3, 4, 5, 6, 7, 8, 9, 10, 11, 12, 13, 14, 15, 16, 17, 18, 19, 20, 21, 22, 23, 24, 25, 26, 27, 28, 29, 30], \"xaxis\": \"x\", \"y\": [4.770684624465665, 5.003946305945459, 5.37989735354046, 5.568344503761097, 5.996452088619021, 6.249975242259483, 6.368187186350492, 6.8658910748834385, 7.155396301896734, 7.416378479192928, 7.68662133494462, 7.910957382845589, 8.160232492367689, 8.440744019252831, 8.76732914779405, 8.959697146959389, 9.523470868881551, 9.857443614034722, 10.146002265529594, 10.412591695403778, 10.688461580408601, 10.891912882169482, 11.094040714902595, 11.33661778849305, 11.529359680433648, 11.707488455408749, 11.855706331701002, 11.99415954595871, 12.145111717169032, 12.270792400243948, 12.402679184393824], \"yaxis\": \"y\"}, {\"hoverlabel\": {\"namelength\": 0}, \"hovertemplate\": \"color=Italy<br>Date from cases >= 100=%{x}<br>Confirmed cases (log)=%{y}\", \"legendgroup\": \"Italy\", \"line\": {\"color\": \"#EF553B\", \"dash\": \"solid\"}, \"mode\": \"lines\", \"name\": \"Italy\", \"showlegend\": true, \"type\": \"scatter\", \"x\": [0, 1, 2, 3, 4, 5, 6, 7, 8, 9, 10, 11, 12, 13, 14, 15, 16, 17, 18, 19, 20, 21, 22, 23, 24, 25, 26, 27, 28, 29, 30, 31, 32, 33, 34, 35, 36, 37, 38, 39], \"xaxis\": \"x\", \"y\": [5.043425116919247, 5.43372200355424, 5.7745515455444085, 6.115892125483034, 6.484635235635252, 6.78897174299217, 7.028201432058005, 7.434847875211999, 7.618742377670413, 7.824845691026856, 8.035602692918582, 8.257904193465674, 8.441607204459642, 8.679822114864455, 8.905851181208021, 9.123910643977796, 9.225130457448818, 9.430439293104167, 9.430439293104167, 9.77905747415795, 9.959726098983317, 10.11645954852884, 10.239245248219472, 10.357933282865915, 10.483270047141055, 10.622180640063812, 10.758349589413635, 10.88889381504096, 10.987628974775781, 11.065497086334029, 11.144409260640266, 11.217023031071593, 11.297117442754166, 11.367876571265384, 11.434661174974103, 11.489544242132316, 11.53016598935263, 11.569230181180696, 11.613440259060091, 11.654789544132907], \"yaxis\": \"y\"}, {\"hoverlabel\": {\"namelength\": 0}, \"hovertemplate\": \"color=Spain<br>Date from cases >= 100=%{x}<br>Confirmed cases (log)=%{y}\", \"legendgroup\": \"Spain\", \"line\": {\"color\": \"#00cc96\", \"dash\": \"solid\"}, \"mode\": \"lines\", \"name\": \"Spain\", \"showlegend\": true, \"type\": \"scatter\", \"x\": [0, 1, 2, 3, 4, 5, 6, 7, 8, 9, 10, 11, 12, 13, 14, 15, 16, 17, 18, 19, 20, 21, 22, 23, 24, 25, 26, 27, 28, 29, 30, 31], \"xaxis\": \"x\", \"y\": [4.787491742782046, 5.10594547390058, 5.402677381872279, 5.556828061699537, 5.991464547107982, 6.214608098422191, 6.511745329644728, 6.9782137426306985, 7.43543801981455, 7.7306140660637395, 7.7306140660637395, 8.562548893137034, 8.762646029650282, 8.961622569542543, 9.204523486654617, 9.37143829231851, 9.540363284917488, 9.796069365768835, 9.92378025580389, 10.141480306700544, 10.267018937271347, 10.466981524869203, 10.59375559234523, 10.810030932955403, 10.964501810788919, 11.093143355967271, 11.201428727752408, 11.291155969209163, 11.384591968418661, 11.471301065275696, 11.553280150318558, 11.62683433907801], \"yaxis\": \"y\"}, {\"hoverlabel\": {\"namelength\": 0}, \"hovertemplate\": \"color=Germany<br>Date from cases >= 100=%{x}<br>Confirmed cases (log)=%{y}\", \"legendgroup\": \"Germany\", \"line\": {\"color\": \"#ab63fa\", \"dash\": \"solid\"}, \"mode\": \"lines\", \"name\": \"Germany\", \"showlegend\": true, \"type\": \"scatter\", \"x\": [0, 1, 2, 3, 4, 5, 6, 7, 8, 9, 10, 11, 12, 13, 14, 15, 16, 17, 18, 19, 20, 21, 22, 23, 24, 25, 26, 27, 28, 29, 30, 31, 32], \"xaxis\": \"x\", \"y\": [4.867534450455582, 5.0689042022202315, 5.278114659230517, 5.568344503761097, 6.1779441140506, 6.507277712385012, 6.683360945766275, 6.946975992135418, 7.069874128458572, 7.284134806195205, 7.553810852008231, 7.639161171659173, 8.209308411646937, 8.430545384690566, 8.664750755773852, 8.891786635857315, 9.133135301067211, 9.41954725755152, 9.636914443294582, 9.895858525371636, 10.008432982057622, 10.121538156784329, 10.27698028140102, 10.403838508008098, 10.527365037582602, 10.690534828289124, 10.837048295575237, 10.962925793628768, 11.036420749382133, 11.110730005729687, 11.181751169442313, 11.262821732073235, 11.34798006455978], \"yaxis\": \"y\"}, {\"hoverlabel\": {\"namelength\": 0}, \"hovertemplate\": \"color=Hubei<br>Date from cases >= 100=%{x}<br>Confirmed cases (log)=%{y}\", \"legendgroup\": \"Hubei\", \"line\": {\"color\": \"#FFA15A\", \"dash\": \"solid\"}, \"mode\": \"lines\", \"name\": \"Hubei\", \"showlegend\": true, \"type\": \"scatter\", \"x\": [0, 1, 2, 3, 4, 5, 6, 7, 8, 9, 10, 11, 12, 13, 14, 15, 16, 17, 18, 19, 20, 21, 22, 23, 24, 25, 26, 27, 28, 29, 30, 31, 32, 33, 34, 35, 36, 37, 38, 39, 40, 41, 42, 43, 44, 45, 46, 47, 48, 49, 50, 51, 52, 53, 54, 55, 56, 57, 58, 59, 60, 61, 62, 63, 64, 65, 66, 67, 68, 69, 70, 71], \"xaxis\": \"x\", \"y\": [6.095824562432225, 6.095824562432225, 6.3080984415095305, 6.634633357861686, 6.964135612418245, 7.260522598089852, 8.175829008714597, 8.175829008714597, 8.497602541651233, 8.666647144584575, 8.875287128108384, 9.321613374385612, 9.512073267650623, 9.72184576464693, 9.88659568486591, 10.003875726567397, 10.12474933443232, 10.207289006867793, 10.296576389576238, 10.364954850759577, 10.41529269641562, 10.41529269641562, 10.783238773619335, 10.904229720879732, 10.937543542130863, 10.971331307532601, 11.001916491063295, 11.02974743313305, 11.03538953906888, 11.041993404865915, 11.045510482285986, 11.067950001766604, 11.067950001766604, 11.071112712491193, 11.078844809615621, 11.085015341531545, 11.091269997463336, 11.096106141023359, 11.102503089892746, 11.111058874424351, 11.11398403134931, 11.115681470708637, 11.117390885538972, 11.119379046255592, 11.121244911832681, 11.122339117090533, 11.122944850896442, 11.123476412370751, 11.123727329325936, 11.123919164525333, 11.124037198666844, 11.124110962931043, 11.124169970425012, 11.124228974437301, 11.124287974968324, 11.124302724557179, 11.124317473928487, 11.124317473928487, 11.124317473928487, 11.124317473928487, 11.124317473928487, 11.124317473928487, 11.124332223082254, 11.124332223082254, 11.124332223082254, 11.124332223082254, 11.124332223082254, 11.124332223082254, 11.124332223082254, 11.124332223082254, 11.124346972018488, 11.124346972018488], \"yaxis\": \"y\"}, {\"hoverlabel\": {\"namelength\": 0}, \"hovertemplate\": \"color=France<br>Date from cases >= 100=%{x}<br>Confirmed cases (log)=%{y}\", \"legendgroup\": \"France\", \"line\": {\"color\": \"#19d3f3\", \"dash\": \"solid\"}, \"mode\": \"lines\", \"name\": \"France\", \"showlegend\": true, \"type\": \"scatter\", \"x\": [0, 1, 2, 3, 4, 5, 6, 7, 8, 9, 10, 11, 12, 13, 14, 15, 16, 17, 18, 19, 20, 21, 22, 23, 24, 25, 26, 27, 28, 29, 30, 31, 32, 33], \"xaxis\": \"x\", \"y\": [4.605170185988092, 4.867534450455582, 5.25227342804663, 5.318119993844216, 5.652489180268651, 5.932245187448011, 6.481577129276431, 6.855408798609928, 7.026426808699636, 7.097548850614793, 7.486613313139955, 7.732369222284388, 7.732369222284388, 8.205491613120236, 8.404919948933452, 8.411610428841172, 8.799812469525556, 8.942722330560143, 9.10974625674048, 9.293853972204001, 9.442404020664952, 9.566755282109055, 9.681468368883628, 9.896261507444388, 10.012521313560251, 10.135907940630547, 10.280381703656257, 10.403171335883274, 10.534094214621176, 10.600975299194493, 10.704367432898955, 10.861457511401772, 10.950613545737037, 10.987070802184478], \"yaxis\": \"y\"}, {\"hoverlabel\": {\"namelength\": 0}, \"hovertemplate\": \"color=Iran<br>Date from cases >= 100=%{x}<br>Confirmed cases (log)=%{y}\", \"legendgroup\": \"Iran\", \"line\": {\"color\": \"#FF6692\", \"dash\": \"solid\"}, \"mode\": \"lines\", \"name\": \"Iran\", \"showlegend\": true, \"type\": \"scatter\", \"x\": [0, 1, 2, 3, 4, 5, 6, 7, 8, 9, 10, 11, 12, 13, 14, 15, 16, 17, 18, 19, 20, 21, 22, 23, 24, 25, 26, 27, 28, 29, 30, 31, 32, 33, 34, 35, 36], \"xaxis\": \"x\", \"y\": [4.9344739331306915, 5.501258210544727, 5.961005339623274, 6.385194398997726, 6.885509670034818, 7.313886831633462, 7.756195343948118, 7.980023592310645, 8.164225652265827, 8.465268118551318, 8.66957087183712, 8.789660098061537, 8.87640491500694, 8.992433087457218, 9.104979856318357, 9.217812386814884, 9.338205742974079, 9.451638133870434, 9.542374201998465, 9.615205300012315, 9.690851107739814, 9.761981590241948, 9.820486306032722, 9.885527227159136, 9.933531673884504, 9.98220630724752, 10.045377663535744, 10.119042382201663, 10.204221576482523, 10.288954014137602, 10.383812730853736, 10.47469306229083, 10.553440134508799, 10.633328217032549, 10.705601239347883, 10.770440970581772, 10.829094751047633], \"yaxis\": \"y\"}, {\"hoverlabel\": {\"namelength\": 0}, \"hovertemplate\": \"color=United Kingdom<br>Date from cases >= 100=%{x}<br>Confirmed cases (log)=%{y}\", \"legendgroup\": \"United Kingdom\", \"line\": {\"color\": \"#B6E880\", \"dash\": \"solid\"}, \"mode\": \"lines\", \"name\": \"United Kingdom\", \"showlegend\": true, \"type\": \"scatter\", \"x\": [0, 1, 2, 3, 4, 5, 6, 7, 8, 9, 10, 11, 12, 13, 14, 15, 16, 17, 18, 19, 20, 21, 22, 23, 24, 25, 26, 27, 28], \"xaxis\": \"x\", \"y\": [4.74493212836325, 5.093750200806762, 5.327876168789581, 5.60947179518496, 5.771441123130016, 5.945420608606575, 6.1224928095143865, 6.1224928095143865, 6.682108597449809, 7.038783541388542, 7.038783541388542, 7.341483852363161, 7.575584651557793, 7.873217054862741, 7.896924656268864, 8.289790583181643, 8.520786726926367, 8.645234541297121, 8.8023721336499, 8.996775795442296, 9.162095059348188, 9.363747918605496, 9.58486505717771, 9.746190260646909, 9.879297313734911, 10.005186372360962, 10.132613175527885, 10.291263797773208, 10.425787098375746], \"yaxis\": \"y\"}, {\"hoverlabel\": {\"namelength\": 0}, \"hovertemplate\": \"color=Switzerland<br>Date from cases >= 100=%{x}<br>Confirmed cases (log)=%{y}\", \"legendgroup\": \"Switzerland\", \"line\": {\"color\": \"#FF97FF\", \"dash\": \"solid\"}, \"mode\": \"lines\", \"name\": \"Switzerland\", \"showlegend\": true, \"type\": \"scatter\", \"x\": [0, 1, 2, 3, 4, 5, 6, 7, 8, 9, 10, 11, 12, 13, 14, 15, 16, 17, 18, 19, 20, 21, 22, 23, 24, 25, 26, 27, 28], \"xaxis\": \"x\", \"y\": [4.736198448394496, 5.365976015021851, 5.5909869805108565, 5.820082930352362, 5.924255797414532, 6.19644412779452, 6.480044561926653, 6.480044561926653, 7.037905963447182, 7.214504414151143, 7.696212639346407, 7.696212639346407, 7.90100705199242, 8.01565761455734, 8.312626025674962, 8.574329382787047, 8.791029857045965, 8.91918561004543, 9.081938657171658, 9.197964100908127, 9.296242800976886, 9.376786579611847, 9.467150780760877, 9.552226498441476, 9.60434000197507, 9.675457079648524, 9.717459133810847, 9.785154365574263, 9.843047288724712], \"yaxis\": \"y\"}, {\"hoverlabel\": {\"namelength\": 0}, \"hovertemplate\": \"color=Turkey<br>Date from cases >= 100=%{x}<br>Confirmed cases (log)=%{y}\", \"legendgroup\": \"Turkey\", \"line\": {\"color\": \"#FECB52\", \"dash\": \"solid\"}, \"mode\": \"lines\", \"name\": \"Turkey\", \"showlegend\": true, \"type\": \"scatter\", \"x\": [0, 1, 2, 3, 4, 5, 6, 7, 8, 9, 10, 11, 12, 13, 14], \"xaxis\": \"x\", \"y\": [5.2574953720277815, 5.883322388488279, 6.507277712385012, 7.119635638017636, 7.332369205929062, 7.534762657037537, 7.796880342783522, 8.19671240721307, 8.647870515057853, 8.909505512946101, 9.128804883993665, 9.289798293310898, 9.512738628263644, 9.66007751636045, 9.805599051717003], \"yaxis\": \"y\"}, {\"hoverlabel\": {\"namelength\": 0}, \"hovertemplate\": \"color=Belgium<br>Date from cases >= 100=%{x}<br>Confirmed cases (log)=%{y}\", \"legendgroup\": \"Belgium\", \"line\": {\"color\": \"#636efa\", \"dash\": \"solid\"}, \"mode\": \"lines\", \"name\": \"Belgium\", \"showlegend\": true, \"type\": \"scatter\", \"x\": [0, 1, 2, 3, 4, 5, 6, 7, 8, 9, 10, 11, 12, 13, 14, 15, 16, 17, 18, 19, 20, 21, 22, 23, 24, 25, 26, 27], \"xaxis\": \"x\", \"y\": [4.6913478822291435, 5.1298987149230735, 5.298317366548036, 5.476463551931511, 5.58724865840025, 5.749392985908253, 5.749392985908253, 6.326149473155099, 6.535241271013659, 6.786716950605081, 6.964135612418245, 7.1252830915107115, 7.303843225277705, 7.492760300922379, 7.721791776817535, 7.942717540573791, 8.131824785007195, 8.22764270790443, 8.359134886757962, 8.504513138258863, 8.737933858114136, 8.8934354408475, 9.119758993744945, 9.290629203204986, 9.384209641955154, 9.455245415071905, 9.544237868224927, 9.638740451366843], \"yaxis\": \"y\"}, {\"hoverlabel\": {\"namelength\": 0}, \"hovertemplate\": \"color=Netherlands<br>Date from cases >= 100=%{x}<br>Confirmed cases (log)=%{y}\", \"legendgroup\": \"Netherlands\", \"line\": {\"color\": \"#EF553B\", \"dash\": \"solid\"}, \"mode\": \"lines\", \"name\": \"Netherlands\", \"showlegend\": true, \"type\": \"scatter\", \"x\": [0, 1, 2, 3, 4, 5, 6, 7, 8, 9, 10, 11, 12, 13, 14, 15, 16, 17, 18, 19, 20, 21, 22, 23, 24, 25, 26, 27], \"xaxis\": \"x\", \"y\": [4.852030263919617, 5.236441962829949, 5.579729825986222, 5.771441123130016, 5.945420608606575, 6.220590170099739, 6.220590170099739, 6.6895992691789665, 6.8658910748834385, 7.034387929915503, 7.253470382684528, 7.4413203897176174, 7.62608275807238, 7.807916628926408, 8.004365564979574, 8.197263371414335, 8.343791731996841, 8.465689348549121, 8.623353387244627, 8.765926513729443, 8.91341571815747, 9.059866258621348, 9.186252576447092, 9.293393927111468, 9.371608519572305, 9.441055188786711, 9.518853954007897, 9.595398670306684], \"yaxis\": \"y\"}, {\"hoverlabel\": {\"namelength\": 0}, \"hovertemplate\": \"color=Austria<br>Date from cases >= 100=%{x}<br>Confirmed cases (log)=%{y}\", \"legendgroup\": \"Austria\", \"line\": {\"color\": \"#00cc96\", \"dash\": \"solid\"}, \"mode\": \"lines\", \"name\": \"Austria\", \"showlegend\": true, \"type\": \"scatter\", \"x\": [0, 1, 2, 3, 4, 5, 6, 7, 8, 9, 10, 11, 12, 13, 14, 15, 16, 17, 18, 19, 20, 21, 22, 23, 24, 25], \"xaxis\": \"x\", \"y\": [4.6443908991413725, 4.875197323201151, 5.204006687076795, 5.5053315359323625, 5.71042701737487, 6.222576268071369, 6.484635235635252, 6.756932389247553, 6.925595197110468, 7.194436851100335, 7.406103381237015, 7.607381425639791, 7.778211474512493, 7.942362237674335, 8.183676582620658, 8.406038142050075, 8.572249397164315, 8.628376720376853, 8.840580188488795, 8.943375541113124, 9.020510699691906, 9.081142433504501, 9.171391621837609, 9.228180290104513, 9.27902652976463, 9.317309592973425], \"yaxis\": \"y\"}, {\"hoverlabel\": {\"namelength\": 0}, \"hovertemplate\": \"color=Korea, South<br>Date from cases >= 100=%{x}<br>Confirmed cases (log)=%{y}\", \"legendgroup\": \"Korea, South\", \"line\": {\"color\": \"#ab63fa\", \"dash\": \"solid\"}, \"mode\": \"lines\", \"name\": \"Korea, South\", \"showlegend\": true, \"type\": \"scatter\", \"x\": [0, 1, 2, 3, 4, 5, 6, 7, 8, 9, 10, 11, 12, 13, 14, 15, 16, 17, 18, 19, 20, 21, 22, 23, 24, 25, 26, 27, 28, 29, 30, 31, 32, 33, 34, 35, 36, 37, 38, 39, 40, 41, 42], \"xaxis\": \"x\", \"y\": [4.6443908991413725, 5.318119993844216, 6.07073772800249, 6.400257445308821, 6.725033642166843, 6.884486652042782, 7.13966033596492, 7.476472381163905, 7.756623334538858, 8.055157731819678, 8.225770799348734, 8.374476889214643, 8.55371796609861, 8.634264863002075, 8.714074899541522, 8.7937637591133, 8.859505484519133, 8.897545598709327, 8.91972065553706, 8.92439013236916, 8.956093075610639, 8.970686268534983, 8.984568369308281, 8.997889450200717, 9.00724451596575, 9.01627006814768, 9.026417533815254, 9.037533407550814, 9.05543941075822, 9.06554578707295, 9.08239335764556, 9.10063710688422, 9.10063710688422, 9.109082539901955, 9.120087382998621, 9.13140538388804, 9.14120463314132, 9.156728602527533, 9.167745974343763, 9.17585244151751, 9.188708071849069, 9.198976041897133, 9.207937487359873], \"yaxis\": \"y\"}, {\"hoverlabel\": {\"namelength\": 0}, \"hovertemplate\": \"color=Portugal<br>Date from cases >= 100=%{x}<br>Confirmed cases (log)=%{y}\", \"legendgroup\": \"Portugal\", \"line\": {\"color\": \"#FFA15A\", \"dash\": \"solid\"}, \"mode\": \"lines\", \"name\": \"Portugal\", \"showlegend\": true, \"type\": \"scatter\", \"x\": [0, 1, 2, 3, 4, 5, 6, 7, 8, 9, 10, 11, 12, 13, 14, 15, 16, 17, 18, 19, 20], \"xaxis\": \"x\", \"y\": [4.718498871295094, 5.1298987149230735, 5.501258210544727, 5.802118375377063, 6.104793232414985, 6.104793232414985, 6.665683717782408, 6.927557906278317, 7.154615356913663, 7.3777589082278725, 7.630461261783627, 7.767263996757308, 8.00469951054955, 8.173011311724972, 8.358900612421644, 8.550627967502475, 8.693161274238017, 8.765302488748196, 8.915029272359911, 9.018089684104343, 9.108750516214549], \"yaxis\": \"y\"}, {\"hoverlabel\": {\"namelength\": 0}, \"hovertemplate\": \"color=Brazil<br>Date from cases >= 100=%{x}<br>Confirmed cases (log)=%{y}\", \"legendgroup\": \"Brazil\", \"line\": {\"color\": \"#19d3f3\", \"dash\": \"solid\"}, \"mode\": \"lines\", \"name\": \"Brazil\", \"showlegend\": true, \"type\": \"scatter\", \"x\": [0, 1, 2, 3, 4, 5, 6, 7, 8, 9, 10, 11, 12, 13, 14, 15, 16, 17, 18, 19, 20], \"xaxis\": \"x\", \"y\": [5.017279836814924, 5.017279836814924, 5.087596335232384, 5.298317366548036, 5.771441123130016, 5.918893854273146, 6.431331081933479, 6.675823221634848, 6.928537818164665, 7.343426229147367, 7.562161631225652, 7.717351272185329, 7.845416036592485, 8.001355025826703, 8.136518252115291, 8.269756947532983, 8.35608503102148, 8.429235912657095, 8.651199471263972, 8.829958044235482, 8.992681750892542], \"yaxis\": \"y\"}, {\"hoverlabel\": {\"namelength\": 0}, \"hovertemplate\": \"color=Israel<br>Date from cases >= 100=%{x}<br>Confirmed cases (log)=%{y}\", \"legendgroup\": \"Israel\", \"line\": {\"color\": \"#FF6692\", \"dash\": \"solid\"}, \"mode\": \"lines\", \"name\": \"Israel\", \"showlegend\": true, \"type\": \"scatter\", \"x\": [0, 1, 2, 3, 4, 5, 6, 7, 8, 9, 10, 11, 12, 13, 14, 15, 16, 17, 18, 19, 20, 21], \"xaxis\": \"x\", \"y\": [4.605170185988092, 4.836281906951478, 5.043425116919247, 5.3612921657094255, 5.384495062789089, 5.521460917862246, 5.717027701406222, 6.056784013228625, 6.270988431858299, 6.568077911411976, 6.78332520060396, 6.976348070447749, 7.121252453244542, 7.7702232041587855, 7.898411092811599, 8.017966703493599, 8.193953023563742, 8.353968130313271, 8.454253391642363, 8.586346050104554, 8.714731714015052, 8.833025307284364], \"yaxis\": \"y\"}, {\"hoverlabel\": {\"namelength\": 0}, \"hovertemplate\": \"color=Sweden<br>Date from cases >= 100=%{x}<br>Confirmed cases (log)=%{y}\", \"legendgroup\": \"Sweden\", \"line\": {\"color\": \"#B6E880\", \"dash\": \"solid\"}, \"mode\": \"lines\", \"name\": \"Sweden\", \"showlegend\": true, \"type\": \"scatter\", \"x\": [0, 1, 2, 3, 4, 5, 6, 7, 8, 9, 10, 11, 12, 13, 14, 15, 16, 17, 18, 19, 20, 21, 22, 23, 24, 25, 26, 27], \"xaxis\": \"x\", \"y\": [4.61512051684126, 5.081404364984463, 5.313205979041787, 5.5134287461649825, 5.872117789475416, 6.214608098422191, 6.395261598115449, 6.70196036600254, 6.8679744089702925, 6.92951677076365, 7.005789019253503, 7.081708586105575, 7.153833801578843, 7.271703706887368, 7.40184157874383, 7.47477218239787, 7.56734567601324, 7.6236419465115715, 7.734558844354756, 7.8343923029104365, 7.951559331155252, 8.029107054619736, 8.145259566516865, 8.216088098632316, 8.301025253838453, 8.39728289474368, 8.506536611227709, 8.624791202014256], \"yaxis\": \"y\"}, {\"hoverlabel\": {\"namelength\": 0}, \"hovertemplate\": \"color=Canada<br>Date from cases >= 100=%{x}<br>Confirmed cases (log)=%{y}\", \"legendgroup\": \"Canada\", \"line\": {\"color\": \"#FF97FF\", \"dash\": \"solid\"}, \"mode\": \"lines\", \"name\": \"Canada\", \"showlegend\": true, \"type\": \"scatter\", \"x\": [0, 1, 2, 3, 4, 5, 6, 7, 8, 9, 10, 11, 12, 13, 14], \"xaxis\": \"x\", \"y\": [4.795790545596741, 4.9344739331306915, 5.198497031265826, 5.389071729816501, 6.4425401664681985, 6.920671504248683, 7.201916317531627, 7.397561535524052, 7.6128310304073565, 7.823245690685523, 7.951559331155252, 8.140315540159985, 8.33375100695358, 8.436200032206706, 8.615770754777232], \"yaxis\": \"y\"}, {\"hoverlabel\": {\"namelength\": 0}, \"hovertemplate\": \"color=Norway<br>Date from cases >= 100=%{x}<br>Confirmed cases (log)=%{y}\", \"legendgroup\": \"Norway\", \"line\": {\"color\": \"#FECB52\", \"dash\": \"solid\"}, \"mode\": \"lines\", \"name\": \"Norway\", \"showlegend\": true, \"type\": \"scatter\", \"x\": [0, 1, 2, 3, 4, 5, 6, 7, 8, 9, 10, 11, 12, 13, 14, 15, 16, 17, 18, 19, 20, 21, 22, 23, 24, 25, 26, 27], \"xaxis\": \"x\", \"y\": [4.68213122712422, 4.990432586778736, 5.170483995038151, 5.3230099791384085, 5.991464547107982, 6.393590753950631, 6.553933404025811, 6.903747257584598, 6.993932975223189, 7.107425474110705, 7.195187320178709, 7.288244401020124, 7.346010209913293, 7.465082736399547, 7.5569505720129, 7.658227526161352, 7.776954403322442, 7.8713112033234065, 7.959625305098115, 8.03398273468322, 8.122371243406553, 8.230843564198235, 8.297792626380861, 8.36264243156764, 8.399535147948004, 8.442685139241176, 8.489410810403786, 8.546169299652755], \"yaxis\": \"y\"}],\n",
       "                        {\"legend\": {\"title\": {\"text\": \"color\"}, \"tracegroupgap\": 0}, \"template\": {\"data\": {\"bar\": [{\"error_x\": {\"color\": \"#2a3f5f\"}, \"error_y\": {\"color\": \"#2a3f5f\"}, \"marker\": {\"line\": {\"color\": \"#E5ECF6\", \"width\": 0.5}}, \"type\": \"bar\"}], \"barpolar\": [{\"marker\": {\"line\": {\"color\": \"#E5ECF6\", \"width\": 0.5}}, \"type\": \"barpolar\"}], \"carpet\": [{\"aaxis\": {\"endlinecolor\": \"#2a3f5f\", \"gridcolor\": \"white\", \"linecolor\": \"white\", \"minorgridcolor\": \"white\", \"startlinecolor\": \"#2a3f5f\"}, \"baxis\": {\"endlinecolor\": \"#2a3f5f\", \"gridcolor\": \"white\", \"linecolor\": \"white\", \"minorgridcolor\": \"white\", \"startlinecolor\": \"#2a3f5f\"}, \"type\": \"carpet\"}], \"choropleth\": [{\"colorbar\": {\"outlinewidth\": 0, \"ticks\": \"\"}, \"type\": \"choropleth\"}], \"contour\": [{\"colorbar\": {\"outlinewidth\": 0, \"ticks\": \"\"}, \"colorscale\": [[0.0, \"#0d0887\"], [0.1111111111111111, \"#46039f\"], [0.2222222222222222, \"#7201a8\"], [0.3333333333333333, \"#9c179e\"], [0.4444444444444444, \"#bd3786\"], [0.5555555555555556, \"#d8576b\"], [0.6666666666666666, \"#ed7953\"], [0.7777777777777778, \"#fb9f3a\"], [0.8888888888888888, \"#fdca26\"], [1.0, \"#f0f921\"]], \"type\": \"contour\"}], \"contourcarpet\": [{\"colorbar\": {\"outlinewidth\": 0, \"ticks\": \"\"}, \"type\": \"contourcarpet\"}], \"heatmap\": [{\"colorbar\": {\"outlinewidth\": 0, \"ticks\": \"\"}, \"colorscale\": [[0.0, \"#0d0887\"], [0.1111111111111111, \"#46039f\"], [0.2222222222222222, \"#7201a8\"], [0.3333333333333333, \"#9c179e\"], [0.4444444444444444, \"#bd3786\"], [0.5555555555555556, \"#d8576b\"], [0.6666666666666666, \"#ed7953\"], [0.7777777777777778, \"#fb9f3a\"], [0.8888888888888888, \"#fdca26\"], [1.0, \"#f0f921\"]], \"type\": \"heatmap\"}], \"heatmapgl\": [{\"colorbar\": {\"outlinewidth\": 0, \"ticks\": \"\"}, \"colorscale\": [[0.0, \"#0d0887\"], [0.1111111111111111, \"#46039f\"], [0.2222222222222222, \"#7201a8\"], [0.3333333333333333, \"#9c179e\"], [0.4444444444444444, \"#bd3786\"], [0.5555555555555556, \"#d8576b\"], [0.6666666666666666, \"#ed7953\"], [0.7777777777777778, \"#fb9f3a\"], [0.8888888888888888, \"#fdca26\"], [1.0, \"#f0f921\"]], \"type\": \"heatmapgl\"}], \"histogram\": [{\"marker\": {\"colorbar\": {\"outlinewidth\": 0, \"ticks\": \"\"}}, \"type\": \"histogram\"}], \"histogram2d\": [{\"colorbar\": {\"outlinewidth\": 0, \"ticks\": \"\"}, \"colorscale\": [[0.0, \"#0d0887\"], [0.1111111111111111, \"#46039f\"], [0.2222222222222222, \"#7201a8\"], [0.3333333333333333, \"#9c179e\"], [0.4444444444444444, \"#bd3786\"], [0.5555555555555556, \"#d8576b\"], [0.6666666666666666, \"#ed7953\"], [0.7777777777777778, \"#fb9f3a\"], [0.8888888888888888, \"#fdca26\"], [1.0, \"#f0f921\"]], \"type\": \"histogram2d\"}], \"histogram2dcontour\": [{\"colorbar\": {\"outlinewidth\": 0, \"ticks\": \"\"}, \"colorscale\": [[0.0, \"#0d0887\"], [0.1111111111111111, \"#46039f\"], [0.2222222222222222, \"#7201a8\"], [0.3333333333333333, \"#9c179e\"], [0.4444444444444444, \"#bd3786\"], [0.5555555555555556, \"#d8576b\"], [0.6666666666666666, \"#ed7953\"], [0.7777777777777778, \"#fb9f3a\"], [0.8888888888888888, \"#fdca26\"], [1.0, \"#f0f921\"]], \"type\": \"histogram2dcontour\"}], \"mesh3d\": [{\"colorbar\": {\"outlinewidth\": 0, \"ticks\": \"\"}, \"type\": \"mesh3d\"}], \"parcoords\": [{\"line\": {\"colorbar\": {\"outlinewidth\": 0, \"ticks\": \"\"}}, \"type\": \"parcoords\"}], \"pie\": [{\"automargin\": true, \"type\": \"pie\"}], \"scatter\": [{\"marker\": {\"colorbar\": {\"outlinewidth\": 0, \"ticks\": \"\"}}, \"type\": \"scatter\"}], \"scatter3d\": [{\"line\": {\"colorbar\": {\"outlinewidth\": 0, \"ticks\": \"\"}}, \"marker\": {\"colorbar\": {\"outlinewidth\": 0, \"ticks\": \"\"}}, \"type\": \"scatter3d\"}], \"scattercarpet\": [{\"marker\": {\"colorbar\": {\"outlinewidth\": 0, \"ticks\": \"\"}}, \"type\": \"scattercarpet\"}], \"scattergeo\": [{\"marker\": {\"colorbar\": {\"outlinewidth\": 0, \"ticks\": \"\"}}, \"type\": \"scattergeo\"}], \"scattergl\": [{\"marker\": {\"colorbar\": {\"outlinewidth\": 0, \"ticks\": \"\"}}, \"type\": \"scattergl\"}], \"scattermapbox\": [{\"marker\": {\"colorbar\": {\"outlinewidth\": 0, \"ticks\": \"\"}}, \"type\": \"scattermapbox\"}], \"scatterpolar\": [{\"marker\": {\"colorbar\": {\"outlinewidth\": 0, \"ticks\": \"\"}}, \"type\": \"scatterpolar\"}], \"scatterpolargl\": [{\"marker\": {\"colorbar\": {\"outlinewidth\": 0, \"ticks\": \"\"}}, \"type\": \"scatterpolargl\"}], \"scatterternary\": [{\"marker\": {\"colorbar\": {\"outlinewidth\": 0, \"ticks\": \"\"}}, \"type\": \"scatterternary\"}], \"surface\": [{\"colorbar\": {\"outlinewidth\": 0, \"ticks\": \"\"}, \"colorscale\": [[0.0, \"#0d0887\"], [0.1111111111111111, \"#46039f\"], [0.2222222222222222, \"#7201a8\"], [0.3333333333333333, \"#9c179e\"], [0.4444444444444444, \"#bd3786\"], [0.5555555555555556, \"#d8576b\"], [0.6666666666666666, \"#ed7953\"], [0.7777777777777778, \"#fb9f3a\"], [0.8888888888888888, \"#fdca26\"], [1.0, \"#f0f921\"]], \"type\": \"surface\"}], \"table\": [{\"cells\": {\"fill\": {\"color\": \"#EBF0F8\"}, \"line\": {\"color\": \"white\"}}, \"header\": {\"fill\": {\"color\": \"#C8D4E3\"}, \"line\": {\"color\": \"white\"}}, \"type\": \"table\"}]}, \"layout\": {\"annotationdefaults\": {\"arrowcolor\": \"#2a3f5f\", \"arrowhead\": 0, \"arrowwidth\": 1}, \"coloraxis\": {\"colorbar\": {\"outlinewidth\": 0, \"ticks\": \"\"}}, \"colorscale\": {\"diverging\": [[0, \"#8e0152\"], [0.1, \"#c51b7d\"], [0.2, \"#de77ae\"], [0.3, \"#f1b6da\"], [0.4, \"#fde0ef\"], [0.5, \"#f7f7f7\"], [0.6, \"#e6f5d0\"], [0.7, \"#b8e186\"], [0.8, \"#7fbc41\"], [0.9, \"#4d9221\"], [1, \"#276419\"]], \"sequential\": [[0.0, \"#0d0887\"], [0.1111111111111111, \"#46039f\"], [0.2222222222222222, \"#7201a8\"], [0.3333333333333333, \"#9c179e\"], [0.4444444444444444, \"#bd3786\"], [0.5555555555555556, \"#d8576b\"], [0.6666666666666666, \"#ed7953\"], [0.7777777777777778, \"#fb9f3a\"], [0.8888888888888888, \"#fdca26\"], [1.0, \"#f0f921\"]], \"sequentialminus\": [[0.0, \"#0d0887\"], [0.1111111111111111, \"#46039f\"], [0.2222222222222222, \"#7201a8\"], [0.3333333333333333, \"#9c179e\"], [0.4444444444444444, \"#bd3786\"], [0.5555555555555556, \"#d8576b\"], [0.6666666666666666, \"#ed7953\"], [0.7777777777777778, \"#fb9f3a\"], [0.8888888888888888, \"#fdca26\"], [1.0, \"#f0f921\"]]}, \"colorway\": [\"#636efa\", \"#EF553B\", \"#00cc96\", \"#ab63fa\", \"#FFA15A\", \"#19d3f3\", \"#FF6692\", \"#B6E880\", \"#FF97FF\", \"#FECB52\"], \"font\": {\"color\": \"#2a3f5f\"}, \"geo\": {\"bgcolor\": \"white\", \"lakecolor\": \"white\", \"landcolor\": \"#E5ECF6\", \"showlakes\": true, \"showland\": true, \"subunitcolor\": \"white\"}, \"hoverlabel\": {\"align\": \"left\"}, \"hovermode\": \"closest\", \"mapbox\": {\"style\": \"light\"}, \"paper_bgcolor\": \"white\", \"plot_bgcolor\": \"#E5ECF6\", \"polar\": {\"angularaxis\": {\"gridcolor\": \"white\", \"linecolor\": \"white\", \"ticks\": \"\"}, \"bgcolor\": \"#E5ECF6\", \"radialaxis\": {\"gridcolor\": \"white\", \"linecolor\": \"white\", \"ticks\": \"\"}}, \"scene\": {\"xaxis\": {\"backgroundcolor\": \"#E5ECF6\", \"gridcolor\": \"white\", \"gridwidth\": 2, \"linecolor\": \"white\", \"showbackground\": true, \"ticks\": \"\", \"zerolinecolor\": \"white\"}, \"yaxis\": {\"backgroundcolor\": \"#E5ECF6\", \"gridcolor\": \"white\", \"gridwidth\": 2, \"linecolor\": \"white\", \"showbackground\": true, \"ticks\": \"\", \"zerolinecolor\": \"white\"}, \"zaxis\": {\"backgroundcolor\": \"#E5ECF6\", \"gridcolor\": \"white\", \"gridwidth\": 2, \"linecolor\": \"white\", \"showbackground\": true, \"ticks\": \"\", \"zerolinecolor\": \"white\"}}, \"shapedefaults\": {\"line\": {\"color\": \"#2a3f5f\"}}, \"ternary\": {\"aaxis\": {\"gridcolor\": \"white\", \"linecolor\": \"white\", \"ticks\": \"\"}, \"baxis\": {\"gridcolor\": \"white\", \"linecolor\": \"white\", \"ticks\": \"\"}, \"bgcolor\": \"#E5ECF6\", \"caxis\": {\"gridcolor\": \"white\", \"linecolor\": \"white\", \"ticks\": \"\"}}, \"title\": {\"x\": 0.05}, \"xaxis\": {\"automargin\": true, \"gridcolor\": \"white\", \"linecolor\": \"white\", \"ticks\": \"\", \"title\": {\"standoff\": 15}, \"zerolinecolor\": \"white\", \"zerolinewidth\": 2}, \"yaxis\": {\"automargin\": true, \"gridcolor\": \"white\", \"linecolor\": \"white\", \"ticks\": \"\", \"title\": {\"standoff\": 15}, \"zerolinecolor\": \"white\", \"zerolinewidth\": 2}}}, \"title\": {\"text\": \"Confirmed cases in the top 20 regions (China is included;  Hubei is included)\"}, \"xaxis\": {\"anchor\": \"y\", \"domain\": [0.0, 1.0], \"title\": {\"text\": \"Date from cases >= 100\"}}, \"yaxis\": {\"anchor\": \"x\", \"domain\": [0.0, 1.0], \"title\": {\"text\": \"Confirmed cases (log)\"}}},\n",
       "                        {\"responsive\": true}\n",
       "                    ).then(function(){\n",
       "                            \n",
       "var gd = document.getElementById('1ed9c2c5-3dd6-434e-af1e-f9a9623699d6');\n",
       "var x = new MutationObserver(function (mutations, observer) {{\n",
       "        var display = window.getComputedStyle(gd).display;\n",
       "        if (!display || display === 'none') {{\n",
       "            console.log([gd, 'removed!']);\n",
       "            Plotly.purge(gd);\n",
       "            observer.disconnect();\n",
       "        }}\n",
       "}});\n",
       "\n",
       "// Listen for the removal of the full notebook cells\n",
       "var notebookContainer = gd.closest('#notebook-container');\n",
       "if (notebookContainer) {{\n",
       "    x.observe(notebookContainer, {childList: true});\n",
       "}}\n",
       "\n",
       "// Listen for the clearing of the current output cell\n",
       "var outputEl = gd.closest('.output');\n",
       "if (outputEl) {{\n",
       "    x.observe(outputEl, {childList: true});\n",
       "}}\n",
       "\n",
       "                        })\n",
       "                };\n",
       "                });\n",
       "            </script>\n",
       "        </div>"
      ]
     },
     "metadata": {},
     "output_type": "display_data"
    }
   ],
   "source": [
    "PlotTrend_Con_InA(Top = 20, China = True, Hubei = True, Start = 100, log = True, China_Sum = False)"
   ]
  },
  {
   "cell_type": "code",
   "execution_count": 5,
   "metadata": {},
   "outputs": [],
   "source": [
    "def PlotTrend_XT_InA(url = 'JHU_Git', Top = 20, Hubei = True, China = True, Start = 1):\n",
    "    \n",
    "    # This function will plot the death cases in the toppest 'Top' regions according to the cases in the last date.\n",
    "    # Data is from the JHU Github repository https://github.com/CSSEGISandData/COVID-19, and url directs to the .csv from there\n",
    "    # 'Top' defines how many regions you want to include, 'Hubei' defines whether to include the data from Hubei, \n",
    "    # 'China' defines whether to include data from China. if 'Start' is False then plots will start from 1/22/2020 \n",
    "    # to the lasted date, if a value is given to 'Start', then the plot will start from 'Day 0', which is the date that the cases \n",
    "    # in each region exceeds the value 'Start'\n",
    "    \n",
    "    if url == 'JHU_Git':\n",
    "        url = 'https://raw.githubusercontent.com/CSSEGISandData/COVID-19/master/csse_covid_19_data/csse_covid_19_time_series/time_series_covid19_deaths_global.csv'\n",
    "    \n",
    "    Ts = pd.read_csv(url)\n",
    "    col = Ts.shape[1]\n",
    "    LastDay = Ts.columns[-1]\n",
    "    Top_Reg = Ts.nlargest(Top,LastDay)\n",
    "    \n",
    "    if China == False:\n",
    "        Hubei = False # Make sure Hubei is False if 'China' is defined as False. \n",
    "    \n",
    "    Dic = []\n",
    "    for index, row in Top_Reg.iterrows():\n",
    "        if Start != False:\n",
    "            label = 'Date from cases >= ' + str(Start)\n",
    "            Date = 0\n",
    "            for i in range(4,col):\n",
    "                if row[i] >= Start:\n",
    "                    if row[1] == 'China':\n",
    "                        if China == True:\n",
    "                            dic = {'Region' : row[0], 'Case' : row[i],'Date' : Date}\n",
    "                        else: \n",
    "                            continue \n",
    "                    else:\n",
    "                        dic = {'Region' : row[1], 'Case' : row[i],'Date' : Date}\n",
    "                    Date = Date + 1\n",
    "                    Dic.append(dic)\n",
    "                else:\n",
    "                    continue\n",
    "        else:\n",
    "            label = 'Date from 1/22/2020'\n",
    "            for i in range(4,col):\n",
    "                if row[1] == 'China':\n",
    "                    if China == True:\n",
    "                        dic = {'Region' : row[0], 'Case' : row[i],'Date' : i-4}\n",
    "                    else: \n",
    "                        continue \n",
    "                else:\n",
    "                    dic = {'Region' : row[1], 'Case' : row[i],'Date' : i-4}\n",
    "                Dic.append(dic)\n",
    "            \n",
    "    Df = pd.DataFrame.from_dict(Dic)\n",
    "    \n",
    "    if Hubei == False:\n",
    "        Df = Df[Df['Region'] != 'Hubei']\n",
    "    \n",
    "    if China == False:\n",
    "        C_label = ' hiden; '\n",
    "    else:\n",
    "        C_label = ' included; '\n",
    "    if Hubei == False:\n",
    "        H_label = ' hiden'\n",
    "    else:\n",
    "        H_label = ' included'\n",
    "    \n",
    "    Title =  'Death cases in the top ' + str(Top) + ' regions (China is' + C_label + ' Hubei is'+ H_label + ')'\n",
    "    \n",
    "    fig = px.line(x = Df['Date'], y = Df['Case'], color = Df['Region'],title = Title, labels={'x':label, 'y':\"Death\"})\n",
    "    fig.show()"
   ]
  },
  {
   "cell_type": "code",
   "execution_count": 6,
   "metadata": {
    "scrolled": false
   },
   "outputs": [
    {
     "data": {
      "application/vnd.plotly.v1+json": {
       "config": {
        "plotlyServerURL": "https://plot.ly"
       },
       "data": [
        {
         "hoverlabel": {
          "namelength": 0
         },
         "hovertemplate": "color=Italy<br>Date from cases >= 1=%{x}<br>Death=%{y}",
         "legendgroup": "Italy",
         "line": {
          "color": "#636efa",
          "dash": "solid"
         },
         "mode": "lines",
         "name": "Italy",
         "showlegend": true,
         "type": "scatter",
         "x": [
          0,
          1,
          2,
          3,
          4,
          5,
          6,
          7,
          8,
          9,
          10,
          11,
          12,
          13,
          14,
          15,
          16,
          17,
          18,
          19,
          20,
          21,
          22,
          23,
          24,
          25,
          26,
          27,
          28,
          29,
          30,
          31,
          32,
          33,
          34,
          35,
          36,
          37,
          38
         ],
         "xaxis": "x",
         "y": [
          1,
          2,
          3,
          7,
          10,
          12,
          17,
          21,
          29,
          34,
          52,
          79,
          107,
          148,
          197,
          233,
          366,
          463,
          631,
          827,
          827,
          1266,
          1441,
          1809,
          2158,
          2503,
          2978,
          3405,
          4032,
          4825,
          5476,
          6077,
          6820,
          7503,
          8215,
          9134,
          10023,
          10779,
          11591
         ],
         "yaxis": "y"
        },
        {
         "hoverlabel": {
          "namelength": 0
         },
         "hovertemplate": "color=Spain<br>Date from cases >= 1=%{x}<br>Death=%{y}",
         "legendgroup": "Spain",
         "line": {
          "color": "#EF553B",
          "dash": "solid"
         },
         "mode": "lines",
         "name": "Spain",
         "showlegend": true,
         "type": "scatter",
         "x": [
          0,
          1,
          2,
          3,
          4,
          5,
          6,
          7,
          8,
          9,
          10,
          11,
          12,
          13,
          14,
          15,
          16,
          17,
          18,
          19,
          20,
          21,
          22,
          23,
          24,
          25,
          26,
          27
         ],
         "xaxis": "x",
         "y": [
          1,
          2,
          3,
          5,
          10,
          17,
          28,
          35,
          54,
          55,
          133,
          195,
          289,
          342,
          533,
          623,
          830,
          1043,
          1375,
          1772,
          2311,
          2808,
          3647,
          4365,
          5138,
          5982,
          6803,
          7716
         ],
         "yaxis": "y"
        },
        {
         "hoverlabel": {
          "namelength": 0
         },
         "hovertemplate": "color=Hubei<br>Date from cases >= 1=%{x}<br>Death=%{y}",
         "legendgroup": "Hubei",
         "line": {
          "color": "#00cc96",
          "dash": "solid"
         },
         "mode": "lines",
         "name": "Hubei",
         "showlegend": true,
         "type": "scatter",
         "x": [
          0,
          1,
          2,
          3,
          4,
          5,
          6,
          7,
          8,
          9,
          10,
          11,
          12,
          13,
          14,
          15,
          16,
          17,
          18,
          19,
          20,
          21,
          22,
          23,
          24,
          25,
          26,
          27,
          28,
          29,
          30,
          31,
          32,
          33,
          34,
          35,
          36,
          37,
          38,
          39,
          40,
          41,
          42,
          43,
          44,
          45,
          46,
          47,
          48,
          49,
          50,
          51,
          52,
          53,
          54,
          55,
          56,
          57,
          58,
          59,
          60,
          61,
          62,
          63,
          64,
          65,
          66,
          67,
          68
         ],
         "xaxis": "x",
         "y": [
          17,
          17,
          24,
          40,
          52,
          76,
          125,
          125,
          162,
          204,
          249,
          350,
          414,
          479,
          549,
          618,
          699,
          780,
          871,
          974,
          1068,
          1068,
          1310,
          1457,
          1596,
          1696,
          1789,
          1921,
          2029,
          2144,
          2144,
          2346,
          2346,
          2495,
          2563,
          2615,
          2641,
          2682,
          2727,
          2761,
          2803,
          2835,
          2871,
          2902,
          2931,
          2959,
          2986,
          3008,
          3024,
          3046,
          3056,
          3062,
          3075,
          3085,
          3099,
          3111,
          3122,
          3130,
          3133,
          3139,
          3153,
          3153,
          3160,
          3163,
          3169,
          3174,
          3177,
          3182,
          3186
         ],
         "yaxis": "y"
        },
        {
         "hoverlabel": {
          "namelength": 0
         },
         "hovertemplate": "color=France<br>Date from cases >= 1=%{x}<br>Death=%{y}",
         "legendgroup": "France",
         "line": {
          "color": "#ab63fa",
          "dash": "solid"
         },
         "mode": "lines",
         "name": "France",
         "showlegend": true,
         "type": "scatter",
         "x": [
          0,
          1,
          2,
          3,
          4,
          5,
          6,
          7,
          8,
          9,
          10,
          11,
          12,
          13,
          14,
          15,
          16,
          17,
          18,
          19,
          20,
          21,
          22,
          23,
          24,
          25,
          26,
          27,
          28,
          29,
          30,
          31,
          32,
          33,
          34,
          35,
          36,
          37,
          38,
          39,
          40,
          41,
          42,
          43,
          44
         ],
         "xaxis": "x",
         "y": [
          1,
          1,
          1,
          1,
          1,
          1,
          1,
          1,
          1,
          1,
          1,
          2,
          2,
          2,
          2,
          2,
          3,
          4,
          4,
          6,
          9,
          11,
          19,
          19,
          33,
          48,
          48,
          79,
          91,
          91,
          148,
          148,
          148,
          243,
          450,
          562,
          674,
          860,
          1100,
          1331,
          1696,
          1995,
          2314,
          2606,
          3024
         ],
         "yaxis": "y"
        },
        {
         "hoverlabel": {
          "namelength": 0
         },
         "hovertemplate": "color=US<br>Date from cases >= 1=%{x}<br>Death=%{y}",
         "legendgroup": "US",
         "line": {
          "color": "#FFA15A",
          "dash": "solid"
         },
         "mode": "lines",
         "name": "US",
         "showlegend": true,
         "type": "scatter",
         "x": [
          0,
          1,
          2,
          3,
          4,
          5,
          6,
          7,
          8,
          9,
          10,
          11,
          12,
          13,
          14,
          15,
          16,
          17,
          18,
          19,
          20,
          21,
          22,
          23,
          24,
          25,
          26,
          27,
          28,
          29,
          30
         ],
         "xaxis": "x",
         "y": [
          1,
          1,
          6,
          7,
          11,
          12,
          14,
          17,
          21,
          22,
          28,
          36,
          40,
          47,
          54,
          63,
          85,
          108,
          118,
          200,
          244,
          307,
          417,
          557,
          706,
          942,
          1209,
          1581,
          2026,
          2467,
          2978
         ],
         "yaxis": "y"
        },
        {
         "hoverlabel": {
          "namelength": 0
         },
         "hovertemplate": "color=Iran<br>Date from cases >= 1=%{x}<br>Death=%{y}",
         "legendgroup": "Iran",
         "line": {
          "color": "#19d3f3",
          "dash": "solid"
         },
         "mode": "lines",
         "name": "Iran",
         "showlegend": true,
         "type": "scatter",
         "x": [
          0,
          1,
          2,
          3,
          4,
          5,
          6,
          7,
          8,
          9,
          10,
          11,
          12,
          13,
          14,
          15,
          16,
          17,
          18,
          19,
          20,
          21,
          22,
          23,
          24,
          25,
          26,
          27,
          28,
          29,
          30,
          31,
          32,
          33,
          34,
          35,
          36,
          37,
          38,
          39,
          40
         ],
         "xaxis": "x",
         "y": [
          2,
          2,
          4,
          5,
          8,
          12,
          16,
          19,
          26,
          34,
          43,
          54,
          66,
          77,
          92,
          107,
          124,
          145,
          194,
          237,
          291,
          354,
          429,
          514,
          611,
          724,
          853,
          988,
          1135,
          1284,
          1433,
          1556,
          1685,
          1812,
          1934,
          2077,
          2234,
          2378,
          2517,
          2640,
          2757
         ],
         "yaxis": "y"
        },
        {
         "hoverlabel": {
          "namelength": 0
         },
         "hovertemplate": "color=United Kingdom<br>Date from cases >= 1=%{x}<br>Death=%{y}",
         "legendgroup": "United Kingdom",
         "line": {
          "color": "#FF6692",
          "dash": "solid"
         },
         "mode": "lines",
         "name": "United Kingdom",
         "showlegend": true,
         "type": "scatter",
         "x": [
          0,
          1,
          2,
          3,
          4,
          5,
          6,
          7,
          8,
          9,
          10,
          11,
          12,
          13,
          14,
          15,
          16,
          17,
          18,
          19,
          20,
          21,
          22,
          23,
          24,
          25
         ],
         "xaxis": "x",
         "y": [
          1,
          2,
          2,
          3,
          4,
          6,
          8,
          8,
          8,
          21,
          21,
          55,
          55,
          71,
          137,
          177,
          233,
          281,
          335,
          422,
          465,
          578,
          759,
          1019,
          1228,
          1408
         ],
         "yaxis": "y"
        },
        {
         "hoverlabel": {
          "namelength": 0
         },
         "hovertemplate": "color=Netherlands<br>Date from cases >= 1=%{x}<br>Death=%{y}",
         "legendgroup": "Netherlands",
         "line": {
          "color": "#B6E880",
          "dash": "solid"
         },
         "mode": "lines",
         "name": "Netherlands",
         "showlegend": true,
         "type": "scatter",
         "x": [
          0,
          1,
          2,
          3,
          4,
          5,
          6,
          7,
          8,
          9,
          10,
          11,
          12,
          13,
          14,
          15,
          16,
          17,
          18,
          19,
          20,
          21,
          22,
          23,
          24
         ],
         "xaxis": "x",
         "y": [
          1,
          1,
          3,
          3,
          4,
          5,
          5,
          10,
          12,
          20,
          24,
          43,
          58,
          76,
          106,
          136,
          179,
          213,
          276,
          356,
          434,
          546,
          639,
          771,
          864
         ],
         "yaxis": "y"
        },
        {
         "hoverlabel": {
          "namelength": 0
         },
         "hovertemplate": "color=Germany<br>Date from cases >= 1=%{x}<br>Death=%{y}",
         "legendgroup": "Germany",
         "line": {
          "color": "#FF97FF",
          "dash": "solid"
         },
         "mode": "lines",
         "name": "Germany",
         "showlegend": true,
         "type": "scatter",
         "x": [
          0,
          1,
          2,
          3,
          4,
          5,
          6,
          7,
          8,
          9,
          10,
          11,
          12,
          13,
          14,
          15,
          16,
          17,
          18,
          19,
          20,
          21
         ],
         "xaxis": "x",
         "y": [
          2,
          2,
          3,
          3,
          7,
          9,
          11,
          17,
          24,
          28,
          44,
          67,
          84,
          94,
          123,
          157,
          206,
          267,
          342,
          433,
          533,
          645
         ],
         "yaxis": "y"
        },
        {
         "hoverlabel": {
          "namelength": 0
         },
         "hovertemplate": "color=Belgium<br>Date from cases >= 1=%{x}<br>Death=%{y}",
         "legendgroup": "Belgium",
         "line": {
          "color": "#FECB52",
          "dash": "solid"
         },
         "mode": "lines",
         "name": "Belgium",
         "showlegend": true,
         "type": "scatter",
         "x": [
          0,
          1,
          2,
          3,
          4,
          5,
          6,
          7,
          8,
          9,
          10,
          11,
          12,
          13,
          14,
          15,
          16,
          17,
          18,
          19
         ],
         "xaxis": "x",
         "y": [
          3,
          3,
          3,
          4,
          4,
          5,
          10,
          14,
          21,
          37,
          67,
          75,
          88,
          122,
          178,
          220,
          289,
          353,
          431,
          513
         ],
         "yaxis": "y"
        },
        {
         "hoverlabel": {
          "namelength": 0
         },
         "hovertemplate": "color=Switzerland<br>Date from cases >= 1=%{x}<br>Death=%{y}",
         "legendgroup": "Switzerland",
         "line": {
          "color": "#636efa",
          "dash": "solid"
         },
         "mode": "lines",
         "name": "Switzerland",
         "showlegend": true,
         "type": "scatter",
         "x": [
          0,
          1,
          2,
          3,
          4,
          5,
          6,
          7,
          8,
          9,
          10,
          11,
          12,
          13,
          14,
          15,
          16,
          17,
          18,
          19,
          20,
          21,
          22,
          23,
          24,
          25
         ],
         "xaxis": "x",
         "y": [
          1,
          1,
          1,
          2,
          2,
          3,
          4,
          4,
          11,
          13,
          14,
          14,
          27,
          28,
          41,
          54,
          75,
          98,
          120,
          122,
          153,
          191,
          231,
          264,
          300,
          359
         ],
         "yaxis": "y"
        },
        {
         "hoverlabel": {
          "namelength": 0
         },
         "hovertemplate": "color=Turkey<br>Date from cases >= 1=%{x}<br>Death=%{y}",
         "legendgroup": "Turkey",
         "line": {
          "color": "#EF553B",
          "dash": "solid"
         },
         "mode": "lines",
         "name": "Turkey",
         "showlegend": true,
         "type": "scatter",
         "x": [
          0,
          1,
          2,
          3,
          4,
          5,
          6,
          7,
          8,
          9,
          10,
          11,
          12,
          13
         ],
         "xaxis": "x",
         "y": [
          1,
          1,
          3,
          4,
          9,
          30,
          37,
          44,
          59,
          75,
          92,
          108,
          131,
          168
         ],
         "yaxis": "y"
        },
        {
         "hoverlabel": {
          "namelength": 0
         },
         "hovertemplate": "color=Brazil<br>Date from cases >= 1=%{x}<br>Death=%{y}",
         "legendgroup": "Brazil",
         "line": {
          "color": "#00cc96",
          "dash": "solid"
         },
         "mode": "lines",
         "name": "Brazil",
         "showlegend": true,
         "type": "scatter",
         "x": [
          0,
          1,
          2,
          3,
          4,
          5,
          6,
          7,
          8,
          9,
          10,
          11,
          12,
          13
         ],
         "xaxis": "x",
         "y": [
          1,
          3,
          6,
          11,
          15,
          25,
          34,
          46,
          59,
          77,
          92,
          111,
          136,
          159
         ],
         "yaxis": "y"
        },
        {
         "hoverlabel": {
          "namelength": 0
         },
         "hovertemplate": "color=Korea, South<br>Date from cases >= 1=%{x}<br>Death=%{y}",
         "legendgroup": "Korea, South",
         "line": {
          "color": "#ab63fa",
          "dash": "solid"
         },
         "mode": "lines",
         "name": "Korea, South",
         "showlegend": true,
         "type": "scatter",
         "x": [
          0,
          1,
          2,
          3,
          4,
          5,
          6,
          7,
          8,
          9,
          10,
          11,
          12,
          13,
          14,
          15,
          16,
          17,
          18,
          19,
          20,
          21,
          22,
          23,
          24,
          25,
          26,
          27,
          28,
          29,
          30,
          31,
          32,
          33,
          34,
          35,
          36,
          37,
          38,
          39
         ],
         "xaxis": "x",
         "y": [
          1,
          2,
          2,
          6,
          8,
          10,
          12,
          13,
          13,
          16,
          17,
          28,
          28,
          35,
          35,
          42,
          44,
          50,
          53,
          54,
          60,
          66,
          66,
          72,
          75,
          75,
          81,
          84,
          91,
          94,
          102,
          111,
          111,
          120,
          126,
          131,
          139,
          144,
          152,
          158
         ],
         "yaxis": "y"
        },
        {
         "hoverlabel": {
          "namelength": 0
         },
         "hovertemplate": "color=Sweden<br>Date from cases >= 1=%{x}<br>Death=%{y}",
         "legendgroup": "Sweden",
         "line": {
          "color": "#FFA15A",
          "dash": "solid"
         },
         "mode": "lines",
         "name": "Sweden",
         "showlegend": true,
         "type": "scatter",
         "x": [
          0,
          1,
          2,
          3,
          4,
          5,
          6,
          7,
          8,
          9,
          10,
          11,
          12,
          13,
          14,
          15,
          16,
          17,
          18,
          19
         ],
         "xaxis": "x",
         "y": [
          1,
          1,
          1,
          2,
          3,
          6,
          7,
          10,
          11,
          16,
          20,
          21,
          25,
          36,
          62,
          77,
          105,
          105,
          110,
          146
         ],
         "yaxis": "y"
        },
        {
         "hoverlabel": {
          "namelength": 0
         },
         "hovertemplate": "color=Portugal<br>Date from cases >= 1=%{x}<br>Death=%{y}",
         "legendgroup": "Portugal",
         "line": {
          "color": "#19d3f3",
          "dash": "solid"
         },
         "mode": "lines",
         "name": "Portugal",
         "showlegend": true,
         "type": "scatter",
         "x": [
          0,
          1,
          2,
          3,
          4,
          5,
          6,
          7,
          8,
          9,
          10,
          11,
          12,
          13
         ],
         "xaxis": "x",
         "y": [
          1,
          2,
          3,
          6,
          12,
          14,
          23,
          33,
          43,
          60,
          76,
          100,
          119,
          140
         ],
         "yaxis": "y"
        },
        {
         "hoverlabel": {
          "namelength": 0
         },
         "hovertemplate": "color=Indonesia<br>Date from cases >= 1=%{x}<br>Death=%{y}",
         "legendgroup": "Indonesia",
         "line": {
          "color": "#FF6692",
          "dash": "solid"
         },
         "mode": "lines",
         "name": "Indonesia",
         "showlegend": true,
         "type": "scatter",
         "x": [
          0,
          1,
          2,
          3,
          4,
          5,
          6,
          7,
          8,
          9,
          10,
          11,
          12,
          13,
          14,
          15,
          16,
          17,
          18,
          19
         ],
         "xaxis": "x",
         "y": [
          1,
          1,
          4,
          5,
          5,
          5,
          5,
          19,
          25,
          32,
          38,
          48,
          49,
          55,
          58,
          78,
          87,
          102,
          114,
          122
         ],
         "yaxis": "y"
        },
        {
         "hoverlabel": {
          "namelength": 0
         },
         "hovertemplate": "color=Austria<br>Date from cases >= 1=%{x}<br>Death=%{y}",
         "legendgroup": "Austria",
         "line": {
          "color": "#B6E880",
          "dash": "solid"
         },
         "mode": "lines",
         "name": "Austria",
         "showlegend": true,
         "type": "scatter",
         "x": [
          0,
          1,
          2,
          3,
          4,
          5,
          6,
          7,
          8,
          9,
          10,
          11,
          12,
          13,
          14,
          15,
          16,
          17,
          18
         ],
         "xaxis": "x",
         "y": [
          1,
          1,
          1,
          1,
          3,
          3,
          4,
          6,
          6,
          8,
          16,
          21,
          28,
          30,
          49,
          58,
          68,
          86,
          108
         ],
         "yaxis": "y"
        },
        {
         "hoverlabel": {
          "namelength": 0
         },
         "hovertemplate": "color=Philippines<br>Date from cases >= 1=%{x}<br>Death=%{y}",
         "legendgroup": "Philippines",
         "line": {
          "color": "#FF97FF",
          "dash": "solid"
         },
         "mode": "lines",
         "name": "Philippines",
         "showlegend": true,
         "type": "scatter",
         "x": [
          0,
          1,
          2,
          3,
          4,
          5,
          6,
          7,
          8,
          9,
          10,
          11,
          12,
          13,
          14,
          15,
          16,
          17,
          18,
          19,
          20,
          21,
          22,
          23,
          24,
          25,
          26,
          27,
          28,
          29,
          30,
          31,
          32,
          33,
          34,
          35,
          36,
          37,
          38,
          39,
          40,
          41,
          42,
          43,
          44,
          45,
          46,
          47,
          48,
          49,
          50,
          51,
          52,
          53,
          54,
          55,
          56,
          57
         ],
         "xaxis": "x",
         "y": [
          1,
          1,
          1,
          1,
          1,
          1,
          1,
          1,
          1,
          1,
          1,
          1,
          1,
          1,
          1,
          1,
          1,
          1,
          1,
          1,
          1,
          1,
          1,
          1,
          1,
          1,
          1,
          1,
          1,
          1,
          1,
          1,
          1,
          1,
          1,
          1,
          1,
          1,
          1,
          2,
          5,
          8,
          11,
          12,
          12,
          19,
          17,
          18,
          19,
          25,
          33,
          35,
          38,
          45,
          54,
          68,
          71,
          78
         ],
         "yaxis": "y"
        },
        {
         "hoverlabel": {
          "namelength": 0
         },
         "hovertemplate": "color=Denmark<br>Date from cases >= 1=%{x}<br>Death=%{y}",
         "legendgroup": "Denmark",
         "line": {
          "color": "#FECB52",
          "dash": "solid"
         },
         "mode": "lines",
         "name": "Denmark",
         "showlegend": true,
         "type": "scatter",
         "x": [
          0,
          1,
          2,
          3,
          4,
          5,
          6,
          7,
          8,
          9,
          10,
          11,
          12,
          13,
          14,
          15,
          16
         ],
         "xaxis": "x",
         "y": [
          1,
          2,
          3,
          4,
          4,
          6,
          9,
          13,
          13,
          24,
          32,
          34,
          41,
          52,
          65,
          72,
          77
         ],
         "yaxis": "y"
        }
       ],
       "layout": {
        "legend": {
         "title": {
          "text": "color"
         },
         "tracegroupgap": 0
        },
        "template": {
         "data": {
          "bar": [
           {
            "error_x": {
             "color": "#2a3f5f"
            },
            "error_y": {
             "color": "#2a3f5f"
            },
            "marker": {
             "line": {
              "color": "#E5ECF6",
              "width": 0.5
             }
            },
            "type": "bar"
           }
          ],
          "barpolar": [
           {
            "marker": {
             "line": {
              "color": "#E5ECF6",
              "width": 0.5
             }
            },
            "type": "barpolar"
           }
          ],
          "carpet": [
           {
            "aaxis": {
             "endlinecolor": "#2a3f5f",
             "gridcolor": "white",
             "linecolor": "white",
             "minorgridcolor": "white",
             "startlinecolor": "#2a3f5f"
            },
            "baxis": {
             "endlinecolor": "#2a3f5f",
             "gridcolor": "white",
             "linecolor": "white",
             "minorgridcolor": "white",
             "startlinecolor": "#2a3f5f"
            },
            "type": "carpet"
           }
          ],
          "choropleth": [
           {
            "colorbar": {
             "outlinewidth": 0,
             "ticks": ""
            },
            "type": "choropleth"
           }
          ],
          "contour": [
           {
            "colorbar": {
             "outlinewidth": 0,
             "ticks": ""
            },
            "colorscale": [
             [
              0,
              "#0d0887"
             ],
             [
              0.1111111111111111,
              "#46039f"
             ],
             [
              0.2222222222222222,
              "#7201a8"
             ],
             [
              0.3333333333333333,
              "#9c179e"
             ],
             [
              0.4444444444444444,
              "#bd3786"
             ],
             [
              0.5555555555555556,
              "#d8576b"
             ],
             [
              0.6666666666666666,
              "#ed7953"
             ],
             [
              0.7777777777777778,
              "#fb9f3a"
             ],
             [
              0.8888888888888888,
              "#fdca26"
             ],
             [
              1,
              "#f0f921"
             ]
            ],
            "type": "contour"
           }
          ],
          "contourcarpet": [
           {
            "colorbar": {
             "outlinewidth": 0,
             "ticks": ""
            },
            "type": "contourcarpet"
           }
          ],
          "heatmap": [
           {
            "colorbar": {
             "outlinewidth": 0,
             "ticks": ""
            },
            "colorscale": [
             [
              0,
              "#0d0887"
             ],
             [
              0.1111111111111111,
              "#46039f"
             ],
             [
              0.2222222222222222,
              "#7201a8"
             ],
             [
              0.3333333333333333,
              "#9c179e"
             ],
             [
              0.4444444444444444,
              "#bd3786"
             ],
             [
              0.5555555555555556,
              "#d8576b"
             ],
             [
              0.6666666666666666,
              "#ed7953"
             ],
             [
              0.7777777777777778,
              "#fb9f3a"
             ],
             [
              0.8888888888888888,
              "#fdca26"
             ],
             [
              1,
              "#f0f921"
             ]
            ],
            "type": "heatmap"
           }
          ],
          "heatmapgl": [
           {
            "colorbar": {
             "outlinewidth": 0,
             "ticks": ""
            },
            "colorscale": [
             [
              0,
              "#0d0887"
             ],
             [
              0.1111111111111111,
              "#46039f"
             ],
             [
              0.2222222222222222,
              "#7201a8"
             ],
             [
              0.3333333333333333,
              "#9c179e"
             ],
             [
              0.4444444444444444,
              "#bd3786"
             ],
             [
              0.5555555555555556,
              "#d8576b"
             ],
             [
              0.6666666666666666,
              "#ed7953"
             ],
             [
              0.7777777777777778,
              "#fb9f3a"
             ],
             [
              0.8888888888888888,
              "#fdca26"
             ],
             [
              1,
              "#f0f921"
             ]
            ],
            "type": "heatmapgl"
           }
          ],
          "histogram": [
           {
            "marker": {
             "colorbar": {
              "outlinewidth": 0,
              "ticks": ""
             }
            },
            "type": "histogram"
           }
          ],
          "histogram2d": [
           {
            "colorbar": {
             "outlinewidth": 0,
             "ticks": ""
            },
            "colorscale": [
             [
              0,
              "#0d0887"
             ],
             [
              0.1111111111111111,
              "#46039f"
             ],
             [
              0.2222222222222222,
              "#7201a8"
             ],
             [
              0.3333333333333333,
              "#9c179e"
             ],
             [
              0.4444444444444444,
              "#bd3786"
             ],
             [
              0.5555555555555556,
              "#d8576b"
             ],
             [
              0.6666666666666666,
              "#ed7953"
             ],
             [
              0.7777777777777778,
              "#fb9f3a"
             ],
             [
              0.8888888888888888,
              "#fdca26"
             ],
             [
              1,
              "#f0f921"
             ]
            ],
            "type": "histogram2d"
           }
          ],
          "histogram2dcontour": [
           {
            "colorbar": {
             "outlinewidth": 0,
             "ticks": ""
            },
            "colorscale": [
             [
              0,
              "#0d0887"
             ],
             [
              0.1111111111111111,
              "#46039f"
             ],
             [
              0.2222222222222222,
              "#7201a8"
             ],
             [
              0.3333333333333333,
              "#9c179e"
             ],
             [
              0.4444444444444444,
              "#bd3786"
             ],
             [
              0.5555555555555556,
              "#d8576b"
             ],
             [
              0.6666666666666666,
              "#ed7953"
             ],
             [
              0.7777777777777778,
              "#fb9f3a"
             ],
             [
              0.8888888888888888,
              "#fdca26"
             ],
             [
              1,
              "#f0f921"
             ]
            ],
            "type": "histogram2dcontour"
           }
          ],
          "mesh3d": [
           {
            "colorbar": {
             "outlinewidth": 0,
             "ticks": ""
            },
            "type": "mesh3d"
           }
          ],
          "parcoords": [
           {
            "line": {
             "colorbar": {
              "outlinewidth": 0,
              "ticks": ""
             }
            },
            "type": "parcoords"
           }
          ],
          "pie": [
           {
            "automargin": true,
            "type": "pie"
           }
          ],
          "scatter": [
           {
            "marker": {
             "colorbar": {
              "outlinewidth": 0,
              "ticks": ""
             }
            },
            "type": "scatter"
           }
          ],
          "scatter3d": [
           {
            "line": {
             "colorbar": {
              "outlinewidth": 0,
              "ticks": ""
             }
            },
            "marker": {
             "colorbar": {
              "outlinewidth": 0,
              "ticks": ""
             }
            },
            "type": "scatter3d"
           }
          ],
          "scattercarpet": [
           {
            "marker": {
             "colorbar": {
              "outlinewidth": 0,
              "ticks": ""
             }
            },
            "type": "scattercarpet"
           }
          ],
          "scattergeo": [
           {
            "marker": {
             "colorbar": {
              "outlinewidth": 0,
              "ticks": ""
             }
            },
            "type": "scattergeo"
           }
          ],
          "scattergl": [
           {
            "marker": {
             "colorbar": {
              "outlinewidth": 0,
              "ticks": ""
             }
            },
            "type": "scattergl"
           }
          ],
          "scattermapbox": [
           {
            "marker": {
             "colorbar": {
              "outlinewidth": 0,
              "ticks": ""
             }
            },
            "type": "scattermapbox"
           }
          ],
          "scatterpolar": [
           {
            "marker": {
             "colorbar": {
              "outlinewidth": 0,
              "ticks": ""
             }
            },
            "type": "scatterpolar"
           }
          ],
          "scatterpolargl": [
           {
            "marker": {
             "colorbar": {
              "outlinewidth": 0,
              "ticks": ""
             }
            },
            "type": "scatterpolargl"
           }
          ],
          "scatterternary": [
           {
            "marker": {
             "colorbar": {
              "outlinewidth": 0,
              "ticks": ""
             }
            },
            "type": "scatterternary"
           }
          ],
          "surface": [
           {
            "colorbar": {
             "outlinewidth": 0,
             "ticks": ""
            },
            "colorscale": [
             [
              0,
              "#0d0887"
             ],
             [
              0.1111111111111111,
              "#46039f"
             ],
             [
              0.2222222222222222,
              "#7201a8"
             ],
             [
              0.3333333333333333,
              "#9c179e"
             ],
             [
              0.4444444444444444,
              "#bd3786"
             ],
             [
              0.5555555555555556,
              "#d8576b"
             ],
             [
              0.6666666666666666,
              "#ed7953"
             ],
             [
              0.7777777777777778,
              "#fb9f3a"
             ],
             [
              0.8888888888888888,
              "#fdca26"
             ],
             [
              1,
              "#f0f921"
             ]
            ],
            "type": "surface"
           }
          ],
          "table": [
           {
            "cells": {
             "fill": {
              "color": "#EBF0F8"
             },
             "line": {
              "color": "white"
             }
            },
            "header": {
             "fill": {
              "color": "#C8D4E3"
             },
             "line": {
              "color": "white"
             }
            },
            "type": "table"
           }
          ]
         },
         "layout": {
          "annotationdefaults": {
           "arrowcolor": "#2a3f5f",
           "arrowhead": 0,
           "arrowwidth": 1
          },
          "coloraxis": {
           "colorbar": {
            "outlinewidth": 0,
            "ticks": ""
           }
          },
          "colorscale": {
           "diverging": [
            [
             0,
             "#8e0152"
            ],
            [
             0.1,
             "#c51b7d"
            ],
            [
             0.2,
             "#de77ae"
            ],
            [
             0.3,
             "#f1b6da"
            ],
            [
             0.4,
             "#fde0ef"
            ],
            [
             0.5,
             "#f7f7f7"
            ],
            [
             0.6,
             "#e6f5d0"
            ],
            [
             0.7,
             "#b8e186"
            ],
            [
             0.8,
             "#7fbc41"
            ],
            [
             0.9,
             "#4d9221"
            ],
            [
             1,
             "#276419"
            ]
           ],
           "sequential": [
            [
             0,
             "#0d0887"
            ],
            [
             0.1111111111111111,
             "#46039f"
            ],
            [
             0.2222222222222222,
             "#7201a8"
            ],
            [
             0.3333333333333333,
             "#9c179e"
            ],
            [
             0.4444444444444444,
             "#bd3786"
            ],
            [
             0.5555555555555556,
             "#d8576b"
            ],
            [
             0.6666666666666666,
             "#ed7953"
            ],
            [
             0.7777777777777778,
             "#fb9f3a"
            ],
            [
             0.8888888888888888,
             "#fdca26"
            ],
            [
             1,
             "#f0f921"
            ]
           ],
           "sequentialminus": [
            [
             0,
             "#0d0887"
            ],
            [
             0.1111111111111111,
             "#46039f"
            ],
            [
             0.2222222222222222,
             "#7201a8"
            ],
            [
             0.3333333333333333,
             "#9c179e"
            ],
            [
             0.4444444444444444,
             "#bd3786"
            ],
            [
             0.5555555555555556,
             "#d8576b"
            ],
            [
             0.6666666666666666,
             "#ed7953"
            ],
            [
             0.7777777777777778,
             "#fb9f3a"
            ],
            [
             0.8888888888888888,
             "#fdca26"
            ],
            [
             1,
             "#f0f921"
            ]
           ]
          },
          "colorway": [
           "#636efa",
           "#EF553B",
           "#00cc96",
           "#ab63fa",
           "#FFA15A",
           "#19d3f3",
           "#FF6692",
           "#B6E880",
           "#FF97FF",
           "#FECB52"
          ],
          "font": {
           "color": "#2a3f5f"
          },
          "geo": {
           "bgcolor": "white",
           "lakecolor": "white",
           "landcolor": "#E5ECF6",
           "showlakes": true,
           "showland": true,
           "subunitcolor": "white"
          },
          "hoverlabel": {
           "align": "left"
          },
          "hovermode": "closest",
          "mapbox": {
           "style": "light"
          },
          "paper_bgcolor": "white",
          "plot_bgcolor": "#E5ECF6",
          "polar": {
           "angularaxis": {
            "gridcolor": "white",
            "linecolor": "white",
            "ticks": ""
           },
           "bgcolor": "#E5ECF6",
           "radialaxis": {
            "gridcolor": "white",
            "linecolor": "white",
            "ticks": ""
           }
          },
          "scene": {
           "xaxis": {
            "backgroundcolor": "#E5ECF6",
            "gridcolor": "white",
            "gridwidth": 2,
            "linecolor": "white",
            "showbackground": true,
            "ticks": "",
            "zerolinecolor": "white"
           },
           "yaxis": {
            "backgroundcolor": "#E5ECF6",
            "gridcolor": "white",
            "gridwidth": 2,
            "linecolor": "white",
            "showbackground": true,
            "ticks": "",
            "zerolinecolor": "white"
           },
           "zaxis": {
            "backgroundcolor": "#E5ECF6",
            "gridcolor": "white",
            "gridwidth": 2,
            "linecolor": "white",
            "showbackground": true,
            "ticks": "",
            "zerolinecolor": "white"
           }
          },
          "shapedefaults": {
           "line": {
            "color": "#2a3f5f"
           }
          },
          "ternary": {
           "aaxis": {
            "gridcolor": "white",
            "linecolor": "white",
            "ticks": ""
           },
           "baxis": {
            "gridcolor": "white",
            "linecolor": "white",
            "ticks": ""
           },
           "bgcolor": "#E5ECF6",
           "caxis": {
            "gridcolor": "white",
            "linecolor": "white",
            "ticks": ""
           }
          },
          "title": {
           "x": 0.05
          },
          "xaxis": {
           "automargin": true,
           "gridcolor": "white",
           "linecolor": "white",
           "ticks": "",
           "title": {
            "standoff": 15
           },
           "zerolinecolor": "white",
           "zerolinewidth": 2
          },
          "yaxis": {
           "automargin": true,
           "gridcolor": "white",
           "linecolor": "white",
           "ticks": "",
           "title": {
            "standoff": 15
           },
           "zerolinecolor": "white",
           "zerolinewidth": 2
          }
         }
        },
        "title": {
         "text": "Death cases in the top 20 regions (China is included;  Hubei is included)"
        },
        "xaxis": {
         "anchor": "y",
         "domain": [
          0,
          1
         ],
         "title": {
          "text": "Date from cases >= 1"
         }
        },
        "yaxis": {
         "anchor": "x",
         "domain": [
          0,
          1
         ],
         "title": {
          "text": "Death"
         }
        }
       }
      },
      "text/html": [
       "<div>\n",
       "        \n",
       "        \n",
       "            <div id=\"a9d513a0-6297-4d06-9ebc-0fbe1acd78f6\" class=\"plotly-graph-div\" style=\"height:525px; width:100%;\"></div>\n",
       "            <script type=\"text/javascript\">\n",
       "                require([\"plotly\"], function(Plotly) {\n",
       "                    window.PLOTLYENV=window.PLOTLYENV || {};\n",
       "                    \n",
       "                if (document.getElementById(\"a9d513a0-6297-4d06-9ebc-0fbe1acd78f6\")) {\n",
       "                    Plotly.newPlot(\n",
       "                        'a9d513a0-6297-4d06-9ebc-0fbe1acd78f6',\n",
       "                        [{\"hoverlabel\": {\"namelength\": 0}, \"hovertemplate\": \"color=Italy<br>Date from cases >= 1=%{x}<br>Death=%{y}\", \"legendgroup\": \"Italy\", \"line\": {\"color\": \"#636efa\", \"dash\": \"solid\"}, \"mode\": \"lines\", \"name\": \"Italy\", \"showlegend\": true, \"type\": \"scatter\", \"x\": [0, 1, 2, 3, 4, 5, 6, 7, 8, 9, 10, 11, 12, 13, 14, 15, 16, 17, 18, 19, 20, 21, 22, 23, 24, 25, 26, 27, 28, 29, 30, 31, 32, 33, 34, 35, 36, 37, 38], \"xaxis\": \"x\", \"y\": [1, 2, 3, 7, 10, 12, 17, 21, 29, 34, 52, 79, 107, 148, 197, 233, 366, 463, 631, 827, 827, 1266, 1441, 1809, 2158, 2503, 2978, 3405, 4032, 4825, 5476, 6077, 6820, 7503, 8215, 9134, 10023, 10779, 11591], \"yaxis\": \"y\"}, {\"hoverlabel\": {\"namelength\": 0}, \"hovertemplate\": \"color=Spain<br>Date from cases >= 1=%{x}<br>Death=%{y}\", \"legendgroup\": \"Spain\", \"line\": {\"color\": \"#EF553B\", \"dash\": \"solid\"}, \"mode\": \"lines\", \"name\": \"Spain\", \"showlegend\": true, \"type\": \"scatter\", \"x\": [0, 1, 2, 3, 4, 5, 6, 7, 8, 9, 10, 11, 12, 13, 14, 15, 16, 17, 18, 19, 20, 21, 22, 23, 24, 25, 26, 27], \"xaxis\": \"x\", \"y\": [1, 2, 3, 5, 10, 17, 28, 35, 54, 55, 133, 195, 289, 342, 533, 623, 830, 1043, 1375, 1772, 2311, 2808, 3647, 4365, 5138, 5982, 6803, 7716], \"yaxis\": \"y\"}, {\"hoverlabel\": {\"namelength\": 0}, \"hovertemplate\": \"color=Hubei<br>Date from cases >= 1=%{x}<br>Death=%{y}\", \"legendgroup\": \"Hubei\", \"line\": {\"color\": \"#00cc96\", \"dash\": \"solid\"}, \"mode\": \"lines\", \"name\": \"Hubei\", \"showlegend\": true, \"type\": \"scatter\", \"x\": [0, 1, 2, 3, 4, 5, 6, 7, 8, 9, 10, 11, 12, 13, 14, 15, 16, 17, 18, 19, 20, 21, 22, 23, 24, 25, 26, 27, 28, 29, 30, 31, 32, 33, 34, 35, 36, 37, 38, 39, 40, 41, 42, 43, 44, 45, 46, 47, 48, 49, 50, 51, 52, 53, 54, 55, 56, 57, 58, 59, 60, 61, 62, 63, 64, 65, 66, 67, 68], \"xaxis\": \"x\", \"y\": [17, 17, 24, 40, 52, 76, 125, 125, 162, 204, 249, 350, 414, 479, 549, 618, 699, 780, 871, 974, 1068, 1068, 1310, 1457, 1596, 1696, 1789, 1921, 2029, 2144, 2144, 2346, 2346, 2495, 2563, 2615, 2641, 2682, 2727, 2761, 2803, 2835, 2871, 2902, 2931, 2959, 2986, 3008, 3024, 3046, 3056, 3062, 3075, 3085, 3099, 3111, 3122, 3130, 3133, 3139, 3153, 3153, 3160, 3163, 3169, 3174, 3177, 3182, 3186], \"yaxis\": \"y\"}, {\"hoverlabel\": {\"namelength\": 0}, \"hovertemplate\": \"color=France<br>Date from cases >= 1=%{x}<br>Death=%{y}\", \"legendgroup\": \"France\", \"line\": {\"color\": \"#ab63fa\", \"dash\": \"solid\"}, \"mode\": \"lines\", \"name\": \"France\", \"showlegend\": true, \"type\": \"scatter\", \"x\": [0, 1, 2, 3, 4, 5, 6, 7, 8, 9, 10, 11, 12, 13, 14, 15, 16, 17, 18, 19, 20, 21, 22, 23, 24, 25, 26, 27, 28, 29, 30, 31, 32, 33, 34, 35, 36, 37, 38, 39, 40, 41, 42, 43, 44], \"xaxis\": \"x\", \"y\": [1, 1, 1, 1, 1, 1, 1, 1, 1, 1, 1, 2, 2, 2, 2, 2, 3, 4, 4, 6, 9, 11, 19, 19, 33, 48, 48, 79, 91, 91, 148, 148, 148, 243, 450, 562, 674, 860, 1100, 1331, 1696, 1995, 2314, 2606, 3024], \"yaxis\": \"y\"}, {\"hoverlabel\": {\"namelength\": 0}, \"hovertemplate\": \"color=US<br>Date from cases >= 1=%{x}<br>Death=%{y}\", \"legendgroup\": \"US\", \"line\": {\"color\": \"#FFA15A\", \"dash\": \"solid\"}, \"mode\": \"lines\", \"name\": \"US\", \"showlegend\": true, \"type\": \"scatter\", \"x\": [0, 1, 2, 3, 4, 5, 6, 7, 8, 9, 10, 11, 12, 13, 14, 15, 16, 17, 18, 19, 20, 21, 22, 23, 24, 25, 26, 27, 28, 29, 30], \"xaxis\": \"x\", \"y\": [1, 1, 6, 7, 11, 12, 14, 17, 21, 22, 28, 36, 40, 47, 54, 63, 85, 108, 118, 200, 244, 307, 417, 557, 706, 942, 1209, 1581, 2026, 2467, 2978], \"yaxis\": \"y\"}, {\"hoverlabel\": {\"namelength\": 0}, \"hovertemplate\": \"color=Iran<br>Date from cases >= 1=%{x}<br>Death=%{y}\", \"legendgroup\": \"Iran\", \"line\": {\"color\": \"#19d3f3\", \"dash\": \"solid\"}, \"mode\": \"lines\", \"name\": \"Iran\", \"showlegend\": true, \"type\": \"scatter\", \"x\": [0, 1, 2, 3, 4, 5, 6, 7, 8, 9, 10, 11, 12, 13, 14, 15, 16, 17, 18, 19, 20, 21, 22, 23, 24, 25, 26, 27, 28, 29, 30, 31, 32, 33, 34, 35, 36, 37, 38, 39, 40], \"xaxis\": \"x\", \"y\": [2, 2, 4, 5, 8, 12, 16, 19, 26, 34, 43, 54, 66, 77, 92, 107, 124, 145, 194, 237, 291, 354, 429, 514, 611, 724, 853, 988, 1135, 1284, 1433, 1556, 1685, 1812, 1934, 2077, 2234, 2378, 2517, 2640, 2757], \"yaxis\": \"y\"}, {\"hoverlabel\": {\"namelength\": 0}, \"hovertemplate\": \"color=United Kingdom<br>Date from cases >= 1=%{x}<br>Death=%{y}\", \"legendgroup\": \"United Kingdom\", \"line\": {\"color\": \"#FF6692\", \"dash\": \"solid\"}, \"mode\": \"lines\", \"name\": \"United Kingdom\", \"showlegend\": true, \"type\": \"scatter\", \"x\": [0, 1, 2, 3, 4, 5, 6, 7, 8, 9, 10, 11, 12, 13, 14, 15, 16, 17, 18, 19, 20, 21, 22, 23, 24, 25], \"xaxis\": \"x\", \"y\": [1, 2, 2, 3, 4, 6, 8, 8, 8, 21, 21, 55, 55, 71, 137, 177, 233, 281, 335, 422, 465, 578, 759, 1019, 1228, 1408], \"yaxis\": \"y\"}, {\"hoverlabel\": {\"namelength\": 0}, \"hovertemplate\": \"color=Netherlands<br>Date from cases >= 1=%{x}<br>Death=%{y}\", \"legendgroup\": \"Netherlands\", \"line\": {\"color\": \"#B6E880\", \"dash\": \"solid\"}, \"mode\": \"lines\", \"name\": \"Netherlands\", \"showlegend\": true, \"type\": \"scatter\", \"x\": [0, 1, 2, 3, 4, 5, 6, 7, 8, 9, 10, 11, 12, 13, 14, 15, 16, 17, 18, 19, 20, 21, 22, 23, 24], \"xaxis\": \"x\", \"y\": [1, 1, 3, 3, 4, 5, 5, 10, 12, 20, 24, 43, 58, 76, 106, 136, 179, 213, 276, 356, 434, 546, 639, 771, 864], \"yaxis\": \"y\"}, {\"hoverlabel\": {\"namelength\": 0}, \"hovertemplate\": \"color=Germany<br>Date from cases >= 1=%{x}<br>Death=%{y}\", \"legendgroup\": \"Germany\", \"line\": {\"color\": \"#FF97FF\", \"dash\": \"solid\"}, \"mode\": \"lines\", \"name\": \"Germany\", \"showlegend\": true, \"type\": \"scatter\", \"x\": [0, 1, 2, 3, 4, 5, 6, 7, 8, 9, 10, 11, 12, 13, 14, 15, 16, 17, 18, 19, 20, 21], \"xaxis\": \"x\", \"y\": [2, 2, 3, 3, 7, 9, 11, 17, 24, 28, 44, 67, 84, 94, 123, 157, 206, 267, 342, 433, 533, 645], \"yaxis\": \"y\"}, {\"hoverlabel\": {\"namelength\": 0}, \"hovertemplate\": \"color=Belgium<br>Date from cases >= 1=%{x}<br>Death=%{y}\", \"legendgroup\": \"Belgium\", \"line\": {\"color\": \"#FECB52\", \"dash\": \"solid\"}, \"mode\": \"lines\", \"name\": \"Belgium\", \"showlegend\": true, \"type\": \"scatter\", \"x\": [0, 1, 2, 3, 4, 5, 6, 7, 8, 9, 10, 11, 12, 13, 14, 15, 16, 17, 18, 19], \"xaxis\": \"x\", \"y\": [3, 3, 3, 4, 4, 5, 10, 14, 21, 37, 67, 75, 88, 122, 178, 220, 289, 353, 431, 513], \"yaxis\": \"y\"}, {\"hoverlabel\": {\"namelength\": 0}, \"hovertemplate\": \"color=Switzerland<br>Date from cases >= 1=%{x}<br>Death=%{y}\", \"legendgroup\": \"Switzerland\", \"line\": {\"color\": \"#636efa\", \"dash\": \"solid\"}, \"mode\": \"lines\", \"name\": \"Switzerland\", \"showlegend\": true, \"type\": \"scatter\", \"x\": [0, 1, 2, 3, 4, 5, 6, 7, 8, 9, 10, 11, 12, 13, 14, 15, 16, 17, 18, 19, 20, 21, 22, 23, 24, 25], \"xaxis\": \"x\", \"y\": [1, 1, 1, 2, 2, 3, 4, 4, 11, 13, 14, 14, 27, 28, 41, 54, 75, 98, 120, 122, 153, 191, 231, 264, 300, 359], \"yaxis\": \"y\"}, {\"hoverlabel\": {\"namelength\": 0}, \"hovertemplate\": \"color=Turkey<br>Date from cases >= 1=%{x}<br>Death=%{y}\", \"legendgroup\": \"Turkey\", \"line\": {\"color\": \"#EF553B\", \"dash\": \"solid\"}, \"mode\": \"lines\", \"name\": \"Turkey\", \"showlegend\": true, \"type\": \"scatter\", \"x\": [0, 1, 2, 3, 4, 5, 6, 7, 8, 9, 10, 11, 12, 13], \"xaxis\": \"x\", \"y\": [1, 1, 3, 4, 9, 30, 37, 44, 59, 75, 92, 108, 131, 168], \"yaxis\": \"y\"}, {\"hoverlabel\": {\"namelength\": 0}, \"hovertemplate\": \"color=Brazil<br>Date from cases >= 1=%{x}<br>Death=%{y}\", \"legendgroup\": \"Brazil\", \"line\": {\"color\": \"#00cc96\", \"dash\": \"solid\"}, \"mode\": \"lines\", \"name\": \"Brazil\", \"showlegend\": true, \"type\": \"scatter\", \"x\": [0, 1, 2, 3, 4, 5, 6, 7, 8, 9, 10, 11, 12, 13], \"xaxis\": \"x\", \"y\": [1, 3, 6, 11, 15, 25, 34, 46, 59, 77, 92, 111, 136, 159], \"yaxis\": \"y\"}, {\"hoverlabel\": {\"namelength\": 0}, \"hovertemplate\": \"color=Korea, South<br>Date from cases >= 1=%{x}<br>Death=%{y}\", \"legendgroup\": \"Korea, South\", \"line\": {\"color\": \"#ab63fa\", \"dash\": \"solid\"}, \"mode\": \"lines\", \"name\": \"Korea, South\", \"showlegend\": true, \"type\": \"scatter\", \"x\": [0, 1, 2, 3, 4, 5, 6, 7, 8, 9, 10, 11, 12, 13, 14, 15, 16, 17, 18, 19, 20, 21, 22, 23, 24, 25, 26, 27, 28, 29, 30, 31, 32, 33, 34, 35, 36, 37, 38, 39], \"xaxis\": \"x\", \"y\": [1, 2, 2, 6, 8, 10, 12, 13, 13, 16, 17, 28, 28, 35, 35, 42, 44, 50, 53, 54, 60, 66, 66, 72, 75, 75, 81, 84, 91, 94, 102, 111, 111, 120, 126, 131, 139, 144, 152, 158], \"yaxis\": \"y\"}, {\"hoverlabel\": {\"namelength\": 0}, \"hovertemplate\": \"color=Sweden<br>Date from cases >= 1=%{x}<br>Death=%{y}\", \"legendgroup\": \"Sweden\", \"line\": {\"color\": \"#FFA15A\", \"dash\": \"solid\"}, \"mode\": \"lines\", \"name\": \"Sweden\", \"showlegend\": true, \"type\": \"scatter\", \"x\": [0, 1, 2, 3, 4, 5, 6, 7, 8, 9, 10, 11, 12, 13, 14, 15, 16, 17, 18, 19], \"xaxis\": \"x\", \"y\": [1, 1, 1, 2, 3, 6, 7, 10, 11, 16, 20, 21, 25, 36, 62, 77, 105, 105, 110, 146], \"yaxis\": \"y\"}, {\"hoverlabel\": {\"namelength\": 0}, \"hovertemplate\": \"color=Portugal<br>Date from cases >= 1=%{x}<br>Death=%{y}\", \"legendgroup\": \"Portugal\", \"line\": {\"color\": \"#19d3f3\", \"dash\": \"solid\"}, \"mode\": \"lines\", \"name\": \"Portugal\", \"showlegend\": true, \"type\": \"scatter\", \"x\": [0, 1, 2, 3, 4, 5, 6, 7, 8, 9, 10, 11, 12, 13], \"xaxis\": \"x\", \"y\": [1, 2, 3, 6, 12, 14, 23, 33, 43, 60, 76, 100, 119, 140], \"yaxis\": \"y\"}, {\"hoverlabel\": {\"namelength\": 0}, \"hovertemplate\": \"color=Indonesia<br>Date from cases >= 1=%{x}<br>Death=%{y}\", \"legendgroup\": \"Indonesia\", \"line\": {\"color\": \"#FF6692\", \"dash\": \"solid\"}, \"mode\": \"lines\", \"name\": \"Indonesia\", \"showlegend\": true, \"type\": \"scatter\", \"x\": [0, 1, 2, 3, 4, 5, 6, 7, 8, 9, 10, 11, 12, 13, 14, 15, 16, 17, 18, 19], \"xaxis\": \"x\", \"y\": [1, 1, 4, 5, 5, 5, 5, 19, 25, 32, 38, 48, 49, 55, 58, 78, 87, 102, 114, 122], \"yaxis\": \"y\"}, {\"hoverlabel\": {\"namelength\": 0}, \"hovertemplate\": \"color=Austria<br>Date from cases >= 1=%{x}<br>Death=%{y}\", \"legendgroup\": \"Austria\", \"line\": {\"color\": \"#B6E880\", \"dash\": \"solid\"}, \"mode\": \"lines\", \"name\": \"Austria\", \"showlegend\": true, \"type\": \"scatter\", \"x\": [0, 1, 2, 3, 4, 5, 6, 7, 8, 9, 10, 11, 12, 13, 14, 15, 16, 17, 18], \"xaxis\": \"x\", \"y\": [1, 1, 1, 1, 3, 3, 4, 6, 6, 8, 16, 21, 28, 30, 49, 58, 68, 86, 108], \"yaxis\": \"y\"}, {\"hoverlabel\": {\"namelength\": 0}, \"hovertemplate\": \"color=Philippines<br>Date from cases >= 1=%{x}<br>Death=%{y}\", \"legendgroup\": \"Philippines\", \"line\": {\"color\": \"#FF97FF\", \"dash\": \"solid\"}, \"mode\": \"lines\", \"name\": \"Philippines\", \"showlegend\": true, \"type\": \"scatter\", \"x\": [0, 1, 2, 3, 4, 5, 6, 7, 8, 9, 10, 11, 12, 13, 14, 15, 16, 17, 18, 19, 20, 21, 22, 23, 24, 25, 26, 27, 28, 29, 30, 31, 32, 33, 34, 35, 36, 37, 38, 39, 40, 41, 42, 43, 44, 45, 46, 47, 48, 49, 50, 51, 52, 53, 54, 55, 56, 57], \"xaxis\": \"x\", \"y\": [1, 1, 1, 1, 1, 1, 1, 1, 1, 1, 1, 1, 1, 1, 1, 1, 1, 1, 1, 1, 1, 1, 1, 1, 1, 1, 1, 1, 1, 1, 1, 1, 1, 1, 1, 1, 1, 1, 1, 2, 5, 8, 11, 12, 12, 19, 17, 18, 19, 25, 33, 35, 38, 45, 54, 68, 71, 78], \"yaxis\": \"y\"}, {\"hoverlabel\": {\"namelength\": 0}, \"hovertemplate\": \"color=Denmark<br>Date from cases >= 1=%{x}<br>Death=%{y}\", \"legendgroup\": \"Denmark\", \"line\": {\"color\": \"#FECB52\", \"dash\": \"solid\"}, \"mode\": \"lines\", \"name\": \"Denmark\", \"showlegend\": true, \"type\": \"scatter\", \"x\": [0, 1, 2, 3, 4, 5, 6, 7, 8, 9, 10, 11, 12, 13, 14, 15, 16], \"xaxis\": \"x\", \"y\": [1, 2, 3, 4, 4, 6, 9, 13, 13, 24, 32, 34, 41, 52, 65, 72, 77], \"yaxis\": \"y\"}],\n",
       "                        {\"legend\": {\"title\": {\"text\": \"color\"}, \"tracegroupgap\": 0}, \"template\": {\"data\": {\"bar\": [{\"error_x\": {\"color\": \"#2a3f5f\"}, \"error_y\": {\"color\": \"#2a3f5f\"}, \"marker\": {\"line\": {\"color\": \"#E5ECF6\", \"width\": 0.5}}, \"type\": \"bar\"}], \"barpolar\": [{\"marker\": {\"line\": {\"color\": \"#E5ECF6\", \"width\": 0.5}}, \"type\": \"barpolar\"}], \"carpet\": [{\"aaxis\": {\"endlinecolor\": \"#2a3f5f\", \"gridcolor\": \"white\", \"linecolor\": \"white\", \"minorgridcolor\": \"white\", \"startlinecolor\": \"#2a3f5f\"}, \"baxis\": {\"endlinecolor\": \"#2a3f5f\", \"gridcolor\": \"white\", \"linecolor\": \"white\", \"minorgridcolor\": \"white\", \"startlinecolor\": \"#2a3f5f\"}, \"type\": \"carpet\"}], \"choropleth\": [{\"colorbar\": {\"outlinewidth\": 0, \"ticks\": \"\"}, \"type\": \"choropleth\"}], \"contour\": [{\"colorbar\": {\"outlinewidth\": 0, \"ticks\": \"\"}, \"colorscale\": [[0.0, \"#0d0887\"], [0.1111111111111111, \"#46039f\"], [0.2222222222222222, \"#7201a8\"], [0.3333333333333333, \"#9c179e\"], [0.4444444444444444, \"#bd3786\"], [0.5555555555555556, \"#d8576b\"], [0.6666666666666666, \"#ed7953\"], [0.7777777777777778, \"#fb9f3a\"], [0.8888888888888888, \"#fdca26\"], [1.0, \"#f0f921\"]], \"type\": \"contour\"}], \"contourcarpet\": [{\"colorbar\": {\"outlinewidth\": 0, \"ticks\": \"\"}, \"type\": \"contourcarpet\"}], \"heatmap\": [{\"colorbar\": {\"outlinewidth\": 0, \"ticks\": \"\"}, \"colorscale\": [[0.0, \"#0d0887\"], [0.1111111111111111, \"#46039f\"], [0.2222222222222222, \"#7201a8\"], [0.3333333333333333, \"#9c179e\"], [0.4444444444444444, \"#bd3786\"], [0.5555555555555556, \"#d8576b\"], [0.6666666666666666, \"#ed7953\"], [0.7777777777777778, \"#fb9f3a\"], [0.8888888888888888, \"#fdca26\"], [1.0, \"#f0f921\"]], \"type\": \"heatmap\"}], \"heatmapgl\": [{\"colorbar\": {\"outlinewidth\": 0, \"ticks\": \"\"}, \"colorscale\": [[0.0, \"#0d0887\"], [0.1111111111111111, \"#46039f\"], [0.2222222222222222, \"#7201a8\"], [0.3333333333333333, \"#9c179e\"], [0.4444444444444444, \"#bd3786\"], [0.5555555555555556, \"#d8576b\"], [0.6666666666666666, \"#ed7953\"], [0.7777777777777778, \"#fb9f3a\"], [0.8888888888888888, \"#fdca26\"], [1.0, \"#f0f921\"]], \"type\": \"heatmapgl\"}], \"histogram\": [{\"marker\": {\"colorbar\": {\"outlinewidth\": 0, \"ticks\": \"\"}}, \"type\": \"histogram\"}], \"histogram2d\": [{\"colorbar\": {\"outlinewidth\": 0, \"ticks\": \"\"}, \"colorscale\": [[0.0, \"#0d0887\"], [0.1111111111111111, \"#46039f\"], [0.2222222222222222, \"#7201a8\"], [0.3333333333333333, \"#9c179e\"], [0.4444444444444444, \"#bd3786\"], [0.5555555555555556, \"#d8576b\"], [0.6666666666666666, \"#ed7953\"], [0.7777777777777778, \"#fb9f3a\"], [0.8888888888888888, \"#fdca26\"], [1.0, \"#f0f921\"]], \"type\": \"histogram2d\"}], \"histogram2dcontour\": [{\"colorbar\": {\"outlinewidth\": 0, \"ticks\": \"\"}, \"colorscale\": [[0.0, \"#0d0887\"], [0.1111111111111111, \"#46039f\"], [0.2222222222222222, \"#7201a8\"], [0.3333333333333333, \"#9c179e\"], [0.4444444444444444, \"#bd3786\"], [0.5555555555555556, \"#d8576b\"], [0.6666666666666666, \"#ed7953\"], [0.7777777777777778, \"#fb9f3a\"], [0.8888888888888888, \"#fdca26\"], [1.0, \"#f0f921\"]], \"type\": \"histogram2dcontour\"}], \"mesh3d\": [{\"colorbar\": {\"outlinewidth\": 0, \"ticks\": \"\"}, \"type\": \"mesh3d\"}], \"parcoords\": [{\"line\": {\"colorbar\": {\"outlinewidth\": 0, \"ticks\": \"\"}}, \"type\": \"parcoords\"}], \"pie\": [{\"automargin\": true, \"type\": \"pie\"}], \"scatter\": [{\"marker\": {\"colorbar\": {\"outlinewidth\": 0, \"ticks\": \"\"}}, \"type\": \"scatter\"}], \"scatter3d\": [{\"line\": {\"colorbar\": {\"outlinewidth\": 0, \"ticks\": \"\"}}, \"marker\": {\"colorbar\": {\"outlinewidth\": 0, \"ticks\": \"\"}}, \"type\": \"scatter3d\"}], \"scattercarpet\": [{\"marker\": {\"colorbar\": {\"outlinewidth\": 0, \"ticks\": \"\"}}, \"type\": \"scattercarpet\"}], \"scattergeo\": [{\"marker\": {\"colorbar\": {\"outlinewidth\": 0, \"ticks\": \"\"}}, \"type\": \"scattergeo\"}], \"scattergl\": [{\"marker\": {\"colorbar\": {\"outlinewidth\": 0, \"ticks\": \"\"}}, \"type\": \"scattergl\"}], \"scattermapbox\": [{\"marker\": {\"colorbar\": {\"outlinewidth\": 0, \"ticks\": \"\"}}, \"type\": \"scattermapbox\"}], \"scatterpolar\": [{\"marker\": {\"colorbar\": {\"outlinewidth\": 0, \"ticks\": \"\"}}, \"type\": \"scatterpolar\"}], \"scatterpolargl\": [{\"marker\": {\"colorbar\": {\"outlinewidth\": 0, \"ticks\": \"\"}}, \"type\": \"scatterpolargl\"}], \"scatterternary\": [{\"marker\": {\"colorbar\": {\"outlinewidth\": 0, \"ticks\": \"\"}}, \"type\": \"scatterternary\"}], \"surface\": [{\"colorbar\": {\"outlinewidth\": 0, \"ticks\": \"\"}, \"colorscale\": [[0.0, \"#0d0887\"], [0.1111111111111111, \"#46039f\"], [0.2222222222222222, \"#7201a8\"], [0.3333333333333333, \"#9c179e\"], [0.4444444444444444, \"#bd3786\"], [0.5555555555555556, \"#d8576b\"], [0.6666666666666666, \"#ed7953\"], [0.7777777777777778, \"#fb9f3a\"], [0.8888888888888888, \"#fdca26\"], [1.0, \"#f0f921\"]], \"type\": \"surface\"}], \"table\": [{\"cells\": {\"fill\": {\"color\": \"#EBF0F8\"}, \"line\": {\"color\": \"white\"}}, \"header\": {\"fill\": {\"color\": \"#C8D4E3\"}, \"line\": {\"color\": \"white\"}}, \"type\": \"table\"}]}, \"layout\": {\"annotationdefaults\": {\"arrowcolor\": \"#2a3f5f\", \"arrowhead\": 0, \"arrowwidth\": 1}, \"coloraxis\": {\"colorbar\": {\"outlinewidth\": 0, \"ticks\": \"\"}}, \"colorscale\": {\"diverging\": [[0, \"#8e0152\"], [0.1, \"#c51b7d\"], [0.2, \"#de77ae\"], [0.3, \"#f1b6da\"], [0.4, \"#fde0ef\"], [0.5, \"#f7f7f7\"], [0.6, \"#e6f5d0\"], [0.7, \"#b8e186\"], [0.8, \"#7fbc41\"], [0.9, \"#4d9221\"], [1, \"#276419\"]], \"sequential\": [[0.0, \"#0d0887\"], [0.1111111111111111, \"#46039f\"], [0.2222222222222222, \"#7201a8\"], [0.3333333333333333, \"#9c179e\"], [0.4444444444444444, \"#bd3786\"], [0.5555555555555556, \"#d8576b\"], [0.6666666666666666, \"#ed7953\"], [0.7777777777777778, \"#fb9f3a\"], [0.8888888888888888, \"#fdca26\"], [1.0, \"#f0f921\"]], \"sequentialminus\": [[0.0, \"#0d0887\"], [0.1111111111111111, \"#46039f\"], [0.2222222222222222, \"#7201a8\"], [0.3333333333333333, \"#9c179e\"], [0.4444444444444444, \"#bd3786\"], [0.5555555555555556, \"#d8576b\"], [0.6666666666666666, \"#ed7953\"], [0.7777777777777778, \"#fb9f3a\"], [0.8888888888888888, \"#fdca26\"], [1.0, \"#f0f921\"]]}, \"colorway\": [\"#636efa\", \"#EF553B\", \"#00cc96\", \"#ab63fa\", \"#FFA15A\", \"#19d3f3\", \"#FF6692\", \"#B6E880\", \"#FF97FF\", \"#FECB52\"], \"font\": {\"color\": \"#2a3f5f\"}, \"geo\": {\"bgcolor\": \"white\", \"lakecolor\": \"white\", \"landcolor\": \"#E5ECF6\", \"showlakes\": true, \"showland\": true, \"subunitcolor\": \"white\"}, \"hoverlabel\": {\"align\": \"left\"}, \"hovermode\": \"closest\", \"mapbox\": {\"style\": \"light\"}, \"paper_bgcolor\": \"white\", \"plot_bgcolor\": \"#E5ECF6\", \"polar\": {\"angularaxis\": {\"gridcolor\": \"white\", \"linecolor\": \"white\", \"ticks\": \"\"}, \"bgcolor\": \"#E5ECF6\", \"radialaxis\": {\"gridcolor\": \"white\", \"linecolor\": \"white\", \"ticks\": \"\"}}, \"scene\": {\"xaxis\": {\"backgroundcolor\": \"#E5ECF6\", \"gridcolor\": \"white\", \"gridwidth\": 2, \"linecolor\": \"white\", \"showbackground\": true, \"ticks\": \"\", \"zerolinecolor\": \"white\"}, \"yaxis\": {\"backgroundcolor\": \"#E5ECF6\", \"gridcolor\": \"white\", \"gridwidth\": 2, \"linecolor\": \"white\", \"showbackground\": true, \"ticks\": \"\", \"zerolinecolor\": \"white\"}, \"zaxis\": {\"backgroundcolor\": \"#E5ECF6\", \"gridcolor\": \"white\", \"gridwidth\": 2, \"linecolor\": \"white\", \"showbackground\": true, \"ticks\": \"\", \"zerolinecolor\": \"white\"}}, \"shapedefaults\": {\"line\": {\"color\": \"#2a3f5f\"}}, \"ternary\": {\"aaxis\": {\"gridcolor\": \"white\", \"linecolor\": \"white\", \"ticks\": \"\"}, \"baxis\": {\"gridcolor\": \"white\", \"linecolor\": \"white\", \"ticks\": \"\"}, \"bgcolor\": \"#E5ECF6\", \"caxis\": {\"gridcolor\": \"white\", \"linecolor\": \"white\", \"ticks\": \"\"}}, \"title\": {\"x\": 0.05}, \"xaxis\": {\"automargin\": true, \"gridcolor\": \"white\", \"linecolor\": \"white\", \"ticks\": \"\", \"title\": {\"standoff\": 15}, \"zerolinecolor\": \"white\", \"zerolinewidth\": 2}, \"yaxis\": {\"automargin\": true, \"gridcolor\": \"white\", \"linecolor\": \"white\", \"ticks\": \"\", \"title\": {\"standoff\": 15}, \"zerolinecolor\": \"white\", \"zerolinewidth\": 2}}}, \"title\": {\"text\": \"Death cases in the top 20 regions (China is included;  Hubei is included)\"}, \"xaxis\": {\"anchor\": \"y\", \"domain\": [0.0, 1.0], \"title\": {\"text\": \"Date from cases >= 1\"}}, \"yaxis\": {\"anchor\": \"x\", \"domain\": [0.0, 1.0], \"title\": {\"text\": \"Death\"}}},\n",
       "                        {\"responsive\": true}\n",
       "                    ).then(function(){\n",
       "                            \n",
       "var gd = document.getElementById('a9d513a0-6297-4d06-9ebc-0fbe1acd78f6');\n",
       "var x = new MutationObserver(function (mutations, observer) {{\n",
       "        var display = window.getComputedStyle(gd).display;\n",
       "        if (!display || display === 'none') {{\n",
       "            console.log([gd, 'removed!']);\n",
       "            Plotly.purge(gd);\n",
       "            observer.disconnect();\n",
       "        }}\n",
       "}});\n",
       "\n",
       "// Listen for the removal of the full notebook cells\n",
       "var notebookContainer = gd.closest('#notebook-container');\n",
       "if (notebookContainer) {{\n",
       "    x.observe(notebookContainer, {childList: true});\n",
       "}}\n",
       "\n",
       "// Listen for the clearing of the current output cell\n",
       "var outputEl = gd.closest('.output');\n",
       "if (outputEl) {{\n",
       "    x.observe(outputEl, {childList: true});\n",
       "}}\n",
       "\n",
       "                        })\n",
       "                };\n",
       "                });\n",
       "            </script>\n",
       "        </div>"
      ]
     },
     "metadata": {},
     "output_type": "display_data"
    }
   ],
   "source": [
    "PlotTrend_XT_InA(Top = 20, China = True, Hubei = True, Start = 1)"
   ]
  },
  {
   "cell_type": "code",
   "execution_count": 7,
   "metadata": {},
   "outputs": [],
   "source": [
    "def PlotTrend_Esti_InA(url = 'JHU_Git', Top = 20, Hubei = False, China = True, Start = 1, FR = 0.02):\n",
    "    \n",
    "    # This function will plot the estimated cases from death and death rate in the toppest 'Top' regions according to the cases in the last date.\n",
    "    # Data is from the JHU Github repository https://github.com/CSSEGISandData/COVID-19, and url directs to the .csv from there\n",
    "    # 'Top' defines how many regions you want to include, 'Hubei' defines whether to include the data from Hubei, \n",
    "    # 'China' defines whether to include data from China. if 'Start' is False then plots will start from 1/22/2020 \n",
    "    # to the lasted date, if a value is given to 'Start', then the plot will start from 'Day 0', which is the date that the cases \n",
    "    # in each region exceeds the value 'Start'\n",
    "    \n",
    "    if url == 'JHU_Git':\n",
    "        url = 'https://raw.githubusercontent.com/CSSEGISandData/COVID-19/master/csse_covid_19_data/csse_covid_19_time_series/time_series_covid19_confirmed_global.csv'\n",
    "    \n",
    "    Ts = pd.read_csv(url)\n",
    "    \n",
    "    col = Ts.shape[1]\n",
    "    LastDay = Ts.columns[-1]\n",
    "    Top_Reg = Ts.nlargest(Top,LastDay)\n",
    "    \n",
    "    if China == False:\n",
    "        Hubei = False # Make sure Hubei is False if 'China' is defined as False. \n",
    "    \n",
    "    Dic = []\n",
    "    for index, row in Top_Reg.iterrows():\n",
    "        if Start != False:\n",
    "            label = 'Date from cases >= ' + str(Start)\n",
    "            Date = 0\n",
    "            for i in range(4,col):\n",
    "                if row[i] >= Start:\n",
    "                    if row[1] == 'China':\n",
    "                        if China == True:\n",
    "                            dic = {'Region' : row[0], 'Case' : row[i] / FR,'Date' : Date}\n",
    "                        else: \n",
    "                            continue \n",
    "                    else:\n",
    "                        dic = {'Region' : row[1], 'Case' : row[i] / FR,'Date' : Date}\n",
    "                    Date = Date + 1\n",
    "                    Dic.append(dic)\n",
    "                else:\n",
    "                    continue\n",
    "        else:\n",
    "            label = 'Date from 1/22/2020'\n",
    "            for i in range(4,col):\n",
    "                if row[1] == 'China':\n",
    "                    if China == True:\n",
    "                        dic = {'Region' : row[0], 'Case' : row[i] / FR,'Date' : i-4}\n",
    "                    else: \n",
    "                        continue \n",
    "                else:\n",
    "                    dic = {'Region' : row[1], 'Case' : row[i] / FR,'Date' : i-4}\n",
    "                Dic.append(dic)\n",
    "            \n",
    "    Df = pd.DataFrame.from_dict(Dic)\n",
    "    \n",
    "    if Hubei == False:\n",
    "        Df = Df[Df['Region'] != 'Hubei']\n",
    "    \n",
    "    if China == False:\n",
    "        C_label = ' hiden; '\n",
    "    else:\n",
    "        C_label = ' included; '\n",
    "    if Hubei == False:\n",
    "        H_label = ' hiden'\n",
    "    else:\n",
    "        H_label = ' included'\n",
    "    \n",
    "    Title =  'Estimated cases from ' + str(FR*100) + '% death rate in the top ' + str(Top) + ' regions (China is' + C_label + ' Hubei is'+ H_label + ')'\n",
    "    \n",
    "    fig = px.line(x = Df['Date'], y = Df['Case'], color = Df['Region'],title = Title, labels={'x':label, 'y':\"Estimated cases\"})\n",
    "    #PlotTrend_Con_InA(Top = Top, China = China, Hubei = Hubei, Start = Start)\n",
    "    fig.show()"
   ]
  },
  {
   "cell_type": "code",
   "execution_count": 8,
   "metadata": {},
   "outputs": [
    {
     "data": {
      "application/vnd.plotly.v1+json": {
       "config": {
        "plotlyServerURL": "https://plot.ly"
       },
       "data": [
        {
         "hoverlabel": {
          "namelength": 0
         },
         "hovertemplate": "color=Italy<br>Date from cases >= 2=%{x}<br>Estimated cases=%{y}",
         "legendgroup": "Italy",
         "line": {
          "color": "#636efa",
          "dash": "solid"
         },
         "mode": "lines",
         "name": "Italy",
         "showlegend": true,
         "type": "scatter",
         "x": [
          0,
          1,
          2,
          3,
          4,
          5,
          6,
          7,
          8,
          9,
          10,
          11,
          12,
          13,
          14,
          15,
          16,
          17,
          18,
          19,
          20,
          21,
          22,
          23,
          24,
          25,
          26,
          27,
          28,
          29,
          30,
          31,
          32,
          33,
          34,
          35,
          36,
          37
         ],
         "xaxis": "x",
         "y": [
          40,
          60,
          140,
          200,
          240,
          340,
          420,
          580,
          680,
          1040,
          1580,
          2140,
          2960,
          3940,
          4660,
          7320,
          9260,
          12620,
          16540,
          16540,
          25320,
          28820,
          36180,
          43160,
          50060,
          59560,
          68100,
          80640,
          96500,
          109520,
          121540,
          136400,
          150060,
          164300,
          182680,
          200460,
          215580,
          231820
         ],
         "yaxis": "y"
        },
        {
         "hoverlabel": {
          "namelength": 0
         },
         "hovertemplate": "color=Spain<br>Date from cases >= 2=%{x}<br>Estimated cases=%{y}",
         "legendgroup": "Spain",
         "line": {
          "color": "#EF553B",
          "dash": "solid"
         },
         "mode": "lines",
         "name": "Spain",
         "showlegend": true,
         "type": "scatter",
         "x": [
          0,
          1,
          2,
          3,
          4,
          5,
          6,
          7,
          8,
          9,
          10,
          11,
          12,
          13,
          14,
          15,
          16,
          17,
          18,
          19,
          20,
          21,
          22,
          23,
          24,
          25,
          26
         ],
         "xaxis": "x",
         "y": [
          40,
          60,
          100,
          200,
          340,
          560,
          700,
          1080,
          1100,
          2660,
          3900,
          5780,
          6840,
          10660,
          12460,
          16600,
          20860,
          27500,
          35440,
          46220,
          56160,
          72940,
          87300,
          102760,
          119640,
          136060,
          154320
         ],
         "yaxis": "y"
        },
        {
         "hoverlabel": {
          "namelength": 0
         },
         "hovertemplate": "color=Hubei<br>Date from cases >= 2=%{x}<br>Estimated cases=%{y}",
         "legendgroup": "Hubei",
         "line": {
          "color": "#00cc96",
          "dash": "solid"
         },
         "mode": "lines",
         "name": "Hubei",
         "showlegend": true,
         "type": "scatter",
         "x": [
          0,
          1,
          2,
          3,
          4,
          5,
          6,
          7,
          8,
          9,
          10,
          11,
          12,
          13,
          14,
          15,
          16,
          17,
          18,
          19,
          20,
          21,
          22,
          23,
          24,
          25,
          26,
          27,
          28,
          29,
          30,
          31,
          32,
          33,
          34,
          35,
          36,
          37,
          38,
          39,
          40,
          41,
          42,
          43,
          44,
          45,
          46,
          47,
          48,
          49,
          50,
          51,
          52,
          53,
          54,
          55,
          56,
          57,
          58,
          59,
          60,
          61,
          62,
          63,
          64,
          65,
          66,
          67,
          68
         ],
         "xaxis": "x",
         "y": [
          340,
          340,
          480,
          800,
          1040,
          1520,
          2500,
          2500,
          3240,
          4080,
          4980,
          7000,
          8280,
          9580,
          10980,
          12360,
          13980,
          15600,
          17420,
          19480,
          21360,
          21360,
          26200,
          29140,
          31920,
          33920,
          35780,
          38420,
          40580,
          42880,
          42880,
          46920,
          46920,
          49900,
          51260,
          52300,
          52820,
          53640,
          54540,
          55220,
          56060,
          56700,
          57420,
          58040,
          58620,
          59180,
          59720,
          60160,
          60480,
          60920,
          61120,
          61240,
          61500,
          61700,
          61980,
          62220,
          62440,
          62600,
          62660,
          62780,
          63060,
          63060,
          63200,
          63260,
          63380,
          63480,
          63540,
          63640,
          63720
         ],
         "yaxis": "y"
        },
        {
         "hoverlabel": {
          "namelength": 0
         },
         "hovertemplate": "color=France<br>Date from cases >= 2=%{x}<br>Estimated cases=%{y}",
         "legendgroup": "France",
         "line": {
          "color": "#ab63fa",
          "dash": "solid"
         },
         "mode": "lines",
         "name": "France",
         "showlegend": true,
         "type": "scatter",
         "x": [
          0,
          1,
          2,
          3,
          4,
          5,
          6,
          7,
          8,
          9,
          10,
          11,
          12,
          13,
          14,
          15,
          16,
          17,
          18,
          19,
          20,
          21,
          22,
          23,
          24,
          25,
          26,
          27,
          28,
          29,
          30,
          31,
          32,
          33
         ],
         "xaxis": "x",
         "y": [
          40,
          40,
          40,
          40,
          40,
          60,
          80,
          80,
          120,
          180,
          220,
          380,
          380,
          660,
          960,
          960,
          1580,
          1820,
          1820,
          2960,
          2960,
          2960,
          4860,
          9000,
          11240,
          13480,
          17200,
          22000,
          26620,
          33920,
          39900,
          46280,
          52120,
          60480
         ],
         "yaxis": "y"
        },
        {
         "hoverlabel": {
          "namelength": 0
         },
         "hovertemplate": "color=US<br>Date from cases >= 2=%{x}<br>Estimated cases=%{y}",
         "legendgroup": "US",
         "line": {
          "color": "#FFA15A",
          "dash": "solid"
         },
         "mode": "lines",
         "name": "US",
         "showlegend": true,
         "type": "scatter",
         "x": [
          0,
          1,
          2,
          3,
          4,
          5,
          6,
          7,
          8,
          9,
          10,
          11,
          12,
          13,
          14,
          15,
          16,
          17,
          18,
          19,
          20,
          21,
          22,
          23,
          24,
          25,
          26,
          27,
          28
         ],
         "xaxis": "x",
         "y": [
          120,
          140,
          220,
          240,
          280,
          340,
          420,
          440,
          560,
          720,
          800,
          940,
          1080,
          1260,
          1700,
          2160,
          2360,
          4000,
          4880,
          6140,
          8340,
          11140,
          14120,
          18840,
          24180,
          31620,
          40520,
          49340,
          59560
         ],
         "yaxis": "y"
        },
        {
         "hoverlabel": {
          "namelength": 0
         },
         "hovertemplate": "color=Iran<br>Date from cases >= 2=%{x}<br>Estimated cases=%{y}",
         "legendgroup": "Iran",
         "line": {
          "color": "#19d3f3",
          "dash": "solid"
         },
         "mode": "lines",
         "name": "Iran",
         "showlegend": true,
         "type": "scatter",
         "x": [
          0,
          1,
          2,
          3,
          4,
          5,
          6,
          7,
          8,
          9,
          10,
          11,
          12,
          13,
          14,
          15,
          16,
          17,
          18,
          19,
          20,
          21,
          22,
          23,
          24,
          25,
          26,
          27,
          28,
          29,
          30,
          31,
          32,
          33,
          34,
          35,
          36,
          37,
          38,
          39,
          40
         ],
         "xaxis": "x",
         "y": [
          40,
          40,
          80,
          100,
          160,
          240,
          320,
          380,
          520,
          680,
          860,
          1080,
          1320,
          1540,
          1840,
          2140,
          2480,
          2900,
          3880,
          4740,
          5820,
          7080,
          8580,
          10280,
          12220,
          14480,
          17060,
          19760,
          22700,
          25680,
          28660,
          31120,
          33700,
          36240,
          38680,
          41540,
          44680,
          47560,
          50340,
          52800,
          55140
         ],
         "yaxis": "y"
        },
        {
         "hoverlabel": {
          "namelength": 0
         },
         "hovertemplate": "color=United Kingdom<br>Date from cases >= 2=%{x}<br>Estimated cases=%{y}",
         "legendgroup": "United Kingdom",
         "line": {
          "color": "#FF6692",
          "dash": "solid"
         },
         "mode": "lines",
         "name": "United Kingdom",
         "showlegend": true,
         "type": "scatter",
         "x": [
          0,
          1,
          2,
          3,
          4,
          5,
          6,
          7,
          8,
          9,
          10,
          11,
          12,
          13,
          14,
          15,
          16,
          17,
          18,
          19,
          20,
          21,
          22,
          23,
          24
         ],
         "xaxis": "x",
         "y": [
          40,
          40,
          60,
          80,
          120,
          160,
          160,
          160,
          420,
          420,
          1100,
          1100,
          1420,
          2740,
          3540,
          4660,
          5620,
          6700,
          8440,
          9300,
          11560,
          15180,
          20380,
          24560,
          28160
         ],
         "yaxis": "y"
        },
        {
         "hoverlabel": {
          "namelength": 0
         },
         "hovertemplate": "color=Netherlands<br>Date from cases >= 2=%{x}<br>Estimated cases=%{y}",
         "legendgroup": "Netherlands",
         "line": {
          "color": "#B6E880",
          "dash": "solid"
         },
         "mode": "lines",
         "name": "Netherlands",
         "showlegend": true,
         "type": "scatter",
         "x": [
          0,
          1,
          2,
          3,
          4,
          5,
          6,
          7,
          8,
          9,
          10,
          11,
          12,
          13,
          14,
          15,
          16,
          17,
          18,
          19,
          20,
          21,
          22
         ],
         "xaxis": "x",
         "y": [
          60,
          60,
          80,
          100,
          100,
          200,
          240,
          400,
          480,
          860,
          1160,
          1520,
          2120,
          2720,
          3580,
          4260,
          5520,
          7120,
          8680,
          10920,
          12780,
          15420,
          17280
         ],
         "yaxis": "y"
        },
        {
         "hoverlabel": {
          "namelength": 0
         },
         "hovertemplate": "color=Germany<br>Date from cases >= 2=%{x}<br>Estimated cases=%{y}",
         "legendgroup": "Germany",
         "line": {
          "color": "#FF97FF",
          "dash": "solid"
         },
         "mode": "lines",
         "name": "Germany",
         "showlegend": true,
         "type": "scatter",
         "x": [
          0,
          1,
          2,
          3,
          4,
          5,
          6,
          7,
          8,
          9,
          10,
          11,
          12,
          13,
          14,
          15,
          16,
          17,
          18,
          19,
          20,
          21
         ],
         "xaxis": "x",
         "y": [
          40,
          40,
          60,
          60,
          140,
          180,
          220,
          340,
          480,
          560,
          880,
          1340,
          1680,
          1880,
          2460,
          3140,
          4120,
          5340,
          6840,
          8660,
          10660,
          12900
         ],
         "yaxis": "y"
        },
        {
         "hoverlabel": {
          "namelength": 0
         },
         "hovertemplate": "color=Belgium<br>Date from cases >= 2=%{x}<br>Estimated cases=%{y}",
         "legendgroup": "Belgium",
         "line": {
          "color": "#FECB52",
          "dash": "solid"
         },
         "mode": "lines",
         "name": "Belgium",
         "showlegend": true,
         "type": "scatter",
         "x": [
          0,
          1,
          2,
          3,
          4,
          5,
          6,
          7,
          8,
          9,
          10,
          11,
          12,
          13,
          14,
          15,
          16,
          17,
          18,
          19
         ],
         "xaxis": "x",
         "y": [
          60,
          60,
          60,
          80,
          80,
          100,
          200,
          280,
          420,
          740,
          1340,
          1500,
          1760,
          2440,
          3560,
          4400,
          5780,
          7060,
          8620,
          10260
         ],
         "yaxis": "y"
        },
        {
         "hoverlabel": {
          "namelength": 0
         },
         "hovertemplate": "color=Switzerland<br>Date from cases >= 2=%{x}<br>Estimated cases=%{y}",
         "legendgroup": "Switzerland",
         "line": {
          "color": "#636efa",
          "dash": "solid"
         },
         "mode": "lines",
         "name": "Switzerland",
         "showlegend": true,
         "type": "scatter",
         "x": [
          0,
          1,
          2,
          3,
          4,
          5,
          6,
          7,
          8,
          9,
          10,
          11,
          12,
          13,
          14,
          15,
          16,
          17,
          18,
          19,
          20,
          21,
          22
         ],
         "xaxis": "x",
         "y": [
          40,
          40,
          60,
          80,
          80,
          220,
          260,
          280,
          280,
          540,
          560,
          820,
          1080,
          1500,
          1960,
          2400,
          2440,
          3060,
          3820,
          4620,
          5280,
          6000,
          7180
         ],
         "yaxis": "y"
        },
        {
         "hoverlabel": {
          "namelength": 0
         },
         "hovertemplate": "color=Turkey<br>Date from cases >= 2=%{x}<br>Estimated cases=%{y}",
         "legendgroup": "Turkey",
         "line": {
          "color": "#EF553B",
          "dash": "solid"
         },
         "mode": "lines",
         "name": "Turkey",
         "showlegend": true,
         "type": "scatter",
         "x": [
          0,
          1,
          2,
          3,
          4,
          5,
          6,
          7,
          8,
          9,
          10,
          11
         ],
         "xaxis": "x",
         "y": [
          60,
          80,
          180,
          600,
          740,
          880,
          1180,
          1500,
          1840,
          2160,
          2620,
          3360
         ],
         "yaxis": "y"
        },
        {
         "hoverlabel": {
          "namelength": 0
         },
         "hovertemplate": "color=Brazil<br>Date from cases >= 2=%{x}<br>Estimated cases=%{y}",
         "legendgroup": "Brazil",
         "line": {
          "color": "#00cc96",
          "dash": "solid"
         },
         "mode": "lines",
         "name": "Brazil",
         "showlegend": true,
         "type": "scatter",
         "x": [
          0,
          1,
          2,
          3,
          4,
          5,
          6,
          7,
          8,
          9,
          10,
          11,
          12
         ],
         "xaxis": "x",
         "y": [
          60,
          120,
          220,
          300,
          500,
          680,
          920,
          1180,
          1540,
          1840,
          2220,
          2720,
          3180
         ],
         "yaxis": "y"
        },
        {
         "hoverlabel": {
          "namelength": 0
         },
         "hovertemplate": "color=Korea, South<br>Date from cases >= 2=%{x}<br>Estimated cases=%{y}",
         "legendgroup": "Korea, South",
         "line": {
          "color": "#ab63fa",
          "dash": "solid"
         },
         "mode": "lines",
         "name": "Korea, South",
         "showlegend": true,
         "type": "scatter",
         "x": [
          0,
          1,
          2,
          3,
          4,
          5,
          6,
          7,
          8,
          9,
          10,
          11,
          12,
          13,
          14,
          15,
          16,
          17,
          18,
          19,
          20,
          21,
          22,
          23,
          24,
          25,
          26,
          27,
          28,
          29,
          30,
          31,
          32,
          33,
          34,
          35,
          36,
          37,
          38
         ],
         "xaxis": "x",
         "y": [
          40,
          40,
          120,
          160,
          200,
          240,
          260,
          260,
          320,
          340,
          560,
          560,
          700,
          700,
          840,
          880,
          1000,
          1060,
          1080,
          1200,
          1320,
          1320,
          1440,
          1500,
          1500,
          1620,
          1680,
          1820,
          1880,
          2040,
          2220,
          2220,
          2400,
          2520,
          2620,
          2780,
          2880,
          3040,
          3160
         ],
         "yaxis": "y"
        },
        {
         "hoverlabel": {
          "namelength": 0
         },
         "hovertemplate": "color=Sweden<br>Date from cases >= 2=%{x}<br>Estimated cases=%{y}",
         "legendgroup": "Sweden",
         "line": {
          "color": "#FFA15A",
          "dash": "solid"
         },
         "mode": "lines",
         "name": "Sweden",
         "showlegend": true,
         "type": "scatter",
         "x": [
          0,
          1,
          2,
          3,
          4,
          5,
          6,
          7,
          8,
          9,
          10,
          11,
          12,
          13,
          14,
          15,
          16
         ],
         "xaxis": "x",
         "y": [
          40,
          60,
          120,
          140,
          200,
          220,
          320,
          400,
          420,
          500,
          720,
          1240,
          1540,
          2100,
          2100,
          2200,
          2920
         ],
         "yaxis": "y"
        },
        {
         "hoverlabel": {
          "namelength": 0
         },
         "hovertemplate": "color=Portugal<br>Date from cases >= 2=%{x}<br>Estimated cases=%{y}",
         "legendgroup": "Portugal",
         "line": {
          "color": "#19d3f3",
          "dash": "solid"
         },
         "mode": "lines",
         "name": "Portugal",
         "showlegend": true,
         "type": "scatter",
         "x": [
          0,
          1,
          2,
          3,
          4,
          5,
          6,
          7,
          8,
          9,
          10,
          11,
          12
         ],
         "xaxis": "x",
         "y": [
          40,
          60,
          120,
          240,
          280,
          460,
          660,
          860,
          1200,
          1520,
          2000,
          2380,
          2800
         ],
         "yaxis": "y"
        },
        {
         "hoverlabel": {
          "namelength": 0
         },
         "hovertemplate": "color=Indonesia<br>Date from cases >= 2=%{x}<br>Estimated cases=%{y}",
         "legendgroup": "Indonesia",
         "line": {
          "color": "#FF6692",
          "dash": "solid"
         },
         "mode": "lines",
         "name": "Indonesia",
         "showlegend": true,
         "type": "scatter",
         "x": [
          0,
          1,
          2,
          3,
          4,
          5,
          6,
          7,
          8,
          9,
          10,
          11,
          12,
          13,
          14,
          15,
          16,
          17
         ],
         "xaxis": "x",
         "y": [
          80,
          100,
          100,
          100,
          100,
          380,
          500,
          640,
          760,
          960,
          980,
          1100,
          1160,
          1560,
          1740,
          2040,
          2280,
          2440
         ],
         "yaxis": "y"
        },
        {
         "hoverlabel": {
          "namelength": 0
         },
         "hovertemplate": "color=Austria<br>Date from cases >= 2=%{x}<br>Estimated cases=%{y}",
         "legendgroup": "Austria",
         "line": {
          "color": "#B6E880",
          "dash": "solid"
         },
         "mode": "lines",
         "name": "Austria",
         "showlegend": true,
         "type": "scatter",
         "x": [
          0,
          1,
          2,
          3,
          4,
          5,
          6,
          7,
          8,
          9,
          10,
          11,
          12,
          13,
          14
         ],
         "xaxis": "x",
         "y": [
          60,
          60,
          80,
          120,
          120,
          160,
          320,
          420,
          560,
          600,
          980,
          1160,
          1360,
          1720,
          2160
         ],
         "yaxis": "y"
        },
        {
         "hoverlabel": {
          "namelength": 0
         },
         "hovertemplate": "color=Philippines<br>Date from cases >= 2=%{x}<br>Estimated cases=%{y}",
         "legendgroup": "Philippines",
         "line": {
          "color": "#FF97FF",
          "dash": "solid"
         },
         "mode": "lines",
         "name": "Philippines",
         "showlegend": true,
         "type": "scatter",
         "x": [
          0,
          1,
          2,
          3,
          4,
          5,
          6,
          7,
          8,
          9,
          10,
          11,
          12,
          13,
          14,
          15,
          16,
          17,
          18
         ],
         "xaxis": "x",
         "y": [
          40,
          100,
          160,
          220,
          240,
          240,
          380,
          340,
          360,
          380,
          500,
          660,
          700,
          760,
          900,
          1080,
          1360,
          1420,
          1560
         ],
         "yaxis": "y"
        },
        {
         "hoverlabel": {
          "namelength": 0
         },
         "hovertemplate": "color=Denmark<br>Date from cases >= 2=%{x}<br>Estimated cases=%{y}",
         "legendgroup": "Denmark",
         "line": {
          "color": "#FECB52",
          "dash": "solid"
         },
         "mode": "lines",
         "name": "Denmark",
         "showlegend": true,
         "type": "scatter",
         "x": [
          0,
          1,
          2,
          3,
          4,
          5,
          6,
          7,
          8,
          9,
          10,
          11,
          12,
          13,
          14,
          15
         ],
         "xaxis": "x",
         "y": [
          40,
          60,
          80,
          80,
          120,
          180,
          260,
          260,
          480,
          640,
          680,
          820,
          1040,
          1300,
          1440,
          1540
         ],
         "yaxis": "y"
        }
       ],
       "layout": {
        "legend": {
         "title": {
          "text": "color"
         },
         "tracegroupgap": 0
        },
        "template": {
         "data": {
          "bar": [
           {
            "error_x": {
             "color": "#2a3f5f"
            },
            "error_y": {
             "color": "#2a3f5f"
            },
            "marker": {
             "line": {
              "color": "#E5ECF6",
              "width": 0.5
             }
            },
            "type": "bar"
           }
          ],
          "barpolar": [
           {
            "marker": {
             "line": {
              "color": "#E5ECF6",
              "width": 0.5
             }
            },
            "type": "barpolar"
           }
          ],
          "carpet": [
           {
            "aaxis": {
             "endlinecolor": "#2a3f5f",
             "gridcolor": "white",
             "linecolor": "white",
             "minorgridcolor": "white",
             "startlinecolor": "#2a3f5f"
            },
            "baxis": {
             "endlinecolor": "#2a3f5f",
             "gridcolor": "white",
             "linecolor": "white",
             "minorgridcolor": "white",
             "startlinecolor": "#2a3f5f"
            },
            "type": "carpet"
           }
          ],
          "choropleth": [
           {
            "colorbar": {
             "outlinewidth": 0,
             "ticks": ""
            },
            "type": "choropleth"
           }
          ],
          "contour": [
           {
            "colorbar": {
             "outlinewidth": 0,
             "ticks": ""
            },
            "colorscale": [
             [
              0,
              "#0d0887"
             ],
             [
              0.1111111111111111,
              "#46039f"
             ],
             [
              0.2222222222222222,
              "#7201a8"
             ],
             [
              0.3333333333333333,
              "#9c179e"
             ],
             [
              0.4444444444444444,
              "#bd3786"
             ],
             [
              0.5555555555555556,
              "#d8576b"
             ],
             [
              0.6666666666666666,
              "#ed7953"
             ],
             [
              0.7777777777777778,
              "#fb9f3a"
             ],
             [
              0.8888888888888888,
              "#fdca26"
             ],
             [
              1,
              "#f0f921"
             ]
            ],
            "type": "contour"
           }
          ],
          "contourcarpet": [
           {
            "colorbar": {
             "outlinewidth": 0,
             "ticks": ""
            },
            "type": "contourcarpet"
           }
          ],
          "heatmap": [
           {
            "colorbar": {
             "outlinewidth": 0,
             "ticks": ""
            },
            "colorscale": [
             [
              0,
              "#0d0887"
             ],
             [
              0.1111111111111111,
              "#46039f"
             ],
             [
              0.2222222222222222,
              "#7201a8"
             ],
             [
              0.3333333333333333,
              "#9c179e"
             ],
             [
              0.4444444444444444,
              "#bd3786"
             ],
             [
              0.5555555555555556,
              "#d8576b"
             ],
             [
              0.6666666666666666,
              "#ed7953"
             ],
             [
              0.7777777777777778,
              "#fb9f3a"
             ],
             [
              0.8888888888888888,
              "#fdca26"
             ],
             [
              1,
              "#f0f921"
             ]
            ],
            "type": "heatmap"
           }
          ],
          "heatmapgl": [
           {
            "colorbar": {
             "outlinewidth": 0,
             "ticks": ""
            },
            "colorscale": [
             [
              0,
              "#0d0887"
             ],
             [
              0.1111111111111111,
              "#46039f"
             ],
             [
              0.2222222222222222,
              "#7201a8"
             ],
             [
              0.3333333333333333,
              "#9c179e"
             ],
             [
              0.4444444444444444,
              "#bd3786"
             ],
             [
              0.5555555555555556,
              "#d8576b"
             ],
             [
              0.6666666666666666,
              "#ed7953"
             ],
             [
              0.7777777777777778,
              "#fb9f3a"
             ],
             [
              0.8888888888888888,
              "#fdca26"
             ],
             [
              1,
              "#f0f921"
             ]
            ],
            "type": "heatmapgl"
           }
          ],
          "histogram": [
           {
            "marker": {
             "colorbar": {
              "outlinewidth": 0,
              "ticks": ""
             }
            },
            "type": "histogram"
           }
          ],
          "histogram2d": [
           {
            "colorbar": {
             "outlinewidth": 0,
             "ticks": ""
            },
            "colorscale": [
             [
              0,
              "#0d0887"
             ],
             [
              0.1111111111111111,
              "#46039f"
             ],
             [
              0.2222222222222222,
              "#7201a8"
             ],
             [
              0.3333333333333333,
              "#9c179e"
             ],
             [
              0.4444444444444444,
              "#bd3786"
             ],
             [
              0.5555555555555556,
              "#d8576b"
             ],
             [
              0.6666666666666666,
              "#ed7953"
             ],
             [
              0.7777777777777778,
              "#fb9f3a"
             ],
             [
              0.8888888888888888,
              "#fdca26"
             ],
             [
              1,
              "#f0f921"
             ]
            ],
            "type": "histogram2d"
           }
          ],
          "histogram2dcontour": [
           {
            "colorbar": {
             "outlinewidth": 0,
             "ticks": ""
            },
            "colorscale": [
             [
              0,
              "#0d0887"
             ],
             [
              0.1111111111111111,
              "#46039f"
             ],
             [
              0.2222222222222222,
              "#7201a8"
             ],
             [
              0.3333333333333333,
              "#9c179e"
             ],
             [
              0.4444444444444444,
              "#bd3786"
             ],
             [
              0.5555555555555556,
              "#d8576b"
             ],
             [
              0.6666666666666666,
              "#ed7953"
             ],
             [
              0.7777777777777778,
              "#fb9f3a"
             ],
             [
              0.8888888888888888,
              "#fdca26"
             ],
             [
              1,
              "#f0f921"
             ]
            ],
            "type": "histogram2dcontour"
           }
          ],
          "mesh3d": [
           {
            "colorbar": {
             "outlinewidth": 0,
             "ticks": ""
            },
            "type": "mesh3d"
           }
          ],
          "parcoords": [
           {
            "line": {
             "colorbar": {
              "outlinewidth": 0,
              "ticks": ""
             }
            },
            "type": "parcoords"
           }
          ],
          "pie": [
           {
            "automargin": true,
            "type": "pie"
           }
          ],
          "scatter": [
           {
            "marker": {
             "colorbar": {
              "outlinewidth": 0,
              "ticks": ""
             }
            },
            "type": "scatter"
           }
          ],
          "scatter3d": [
           {
            "line": {
             "colorbar": {
              "outlinewidth": 0,
              "ticks": ""
             }
            },
            "marker": {
             "colorbar": {
              "outlinewidth": 0,
              "ticks": ""
             }
            },
            "type": "scatter3d"
           }
          ],
          "scattercarpet": [
           {
            "marker": {
             "colorbar": {
              "outlinewidth": 0,
              "ticks": ""
             }
            },
            "type": "scattercarpet"
           }
          ],
          "scattergeo": [
           {
            "marker": {
             "colorbar": {
              "outlinewidth": 0,
              "ticks": ""
             }
            },
            "type": "scattergeo"
           }
          ],
          "scattergl": [
           {
            "marker": {
             "colorbar": {
              "outlinewidth": 0,
              "ticks": ""
             }
            },
            "type": "scattergl"
           }
          ],
          "scattermapbox": [
           {
            "marker": {
             "colorbar": {
              "outlinewidth": 0,
              "ticks": ""
             }
            },
            "type": "scattermapbox"
           }
          ],
          "scatterpolar": [
           {
            "marker": {
             "colorbar": {
              "outlinewidth": 0,
              "ticks": ""
             }
            },
            "type": "scatterpolar"
           }
          ],
          "scatterpolargl": [
           {
            "marker": {
             "colorbar": {
              "outlinewidth": 0,
              "ticks": ""
             }
            },
            "type": "scatterpolargl"
           }
          ],
          "scatterternary": [
           {
            "marker": {
             "colorbar": {
              "outlinewidth": 0,
              "ticks": ""
             }
            },
            "type": "scatterternary"
           }
          ],
          "surface": [
           {
            "colorbar": {
             "outlinewidth": 0,
             "ticks": ""
            },
            "colorscale": [
             [
              0,
              "#0d0887"
             ],
             [
              0.1111111111111111,
              "#46039f"
             ],
             [
              0.2222222222222222,
              "#7201a8"
             ],
             [
              0.3333333333333333,
              "#9c179e"
             ],
             [
              0.4444444444444444,
              "#bd3786"
             ],
             [
              0.5555555555555556,
              "#d8576b"
             ],
             [
              0.6666666666666666,
              "#ed7953"
             ],
             [
              0.7777777777777778,
              "#fb9f3a"
             ],
             [
              0.8888888888888888,
              "#fdca26"
             ],
             [
              1,
              "#f0f921"
             ]
            ],
            "type": "surface"
           }
          ],
          "table": [
           {
            "cells": {
             "fill": {
              "color": "#EBF0F8"
             },
             "line": {
              "color": "white"
             }
            },
            "header": {
             "fill": {
              "color": "#C8D4E3"
             },
             "line": {
              "color": "white"
             }
            },
            "type": "table"
           }
          ]
         },
         "layout": {
          "annotationdefaults": {
           "arrowcolor": "#2a3f5f",
           "arrowhead": 0,
           "arrowwidth": 1
          },
          "coloraxis": {
           "colorbar": {
            "outlinewidth": 0,
            "ticks": ""
           }
          },
          "colorscale": {
           "diverging": [
            [
             0,
             "#8e0152"
            ],
            [
             0.1,
             "#c51b7d"
            ],
            [
             0.2,
             "#de77ae"
            ],
            [
             0.3,
             "#f1b6da"
            ],
            [
             0.4,
             "#fde0ef"
            ],
            [
             0.5,
             "#f7f7f7"
            ],
            [
             0.6,
             "#e6f5d0"
            ],
            [
             0.7,
             "#b8e186"
            ],
            [
             0.8,
             "#7fbc41"
            ],
            [
             0.9,
             "#4d9221"
            ],
            [
             1,
             "#276419"
            ]
           ],
           "sequential": [
            [
             0,
             "#0d0887"
            ],
            [
             0.1111111111111111,
             "#46039f"
            ],
            [
             0.2222222222222222,
             "#7201a8"
            ],
            [
             0.3333333333333333,
             "#9c179e"
            ],
            [
             0.4444444444444444,
             "#bd3786"
            ],
            [
             0.5555555555555556,
             "#d8576b"
            ],
            [
             0.6666666666666666,
             "#ed7953"
            ],
            [
             0.7777777777777778,
             "#fb9f3a"
            ],
            [
             0.8888888888888888,
             "#fdca26"
            ],
            [
             1,
             "#f0f921"
            ]
           ],
           "sequentialminus": [
            [
             0,
             "#0d0887"
            ],
            [
             0.1111111111111111,
             "#46039f"
            ],
            [
             0.2222222222222222,
             "#7201a8"
            ],
            [
             0.3333333333333333,
             "#9c179e"
            ],
            [
             0.4444444444444444,
             "#bd3786"
            ],
            [
             0.5555555555555556,
             "#d8576b"
            ],
            [
             0.6666666666666666,
             "#ed7953"
            ],
            [
             0.7777777777777778,
             "#fb9f3a"
            ],
            [
             0.8888888888888888,
             "#fdca26"
            ],
            [
             1,
             "#f0f921"
            ]
           ]
          },
          "colorway": [
           "#636efa",
           "#EF553B",
           "#00cc96",
           "#ab63fa",
           "#FFA15A",
           "#19d3f3",
           "#FF6692",
           "#B6E880",
           "#FF97FF",
           "#FECB52"
          ],
          "font": {
           "color": "#2a3f5f"
          },
          "geo": {
           "bgcolor": "white",
           "lakecolor": "white",
           "landcolor": "#E5ECF6",
           "showlakes": true,
           "showland": true,
           "subunitcolor": "white"
          },
          "hoverlabel": {
           "align": "left"
          },
          "hovermode": "closest",
          "mapbox": {
           "style": "light"
          },
          "paper_bgcolor": "white",
          "plot_bgcolor": "#E5ECF6",
          "polar": {
           "angularaxis": {
            "gridcolor": "white",
            "linecolor": "white",
            "ticks": ""
           },
           "bgcolor": "#E5ECF6",
           "radialaxis": {
            "gridcolor": "white",
            "linecolor": "white",
            "ticks": ""
           }
          },
          "scene": {
           "xaxis": {
            "backgroundcolor": "#E5ECF6",
            "gridcolor": "white",
            "gridwidth": 2,
            "linecolor": "white",
            "showbackground": true,
            "ticks": "",
            "zerolinecolor": "white"
           },
           "yaxis": {
            "backgroundcolor": "#E5ECF6",
            "gridcolor": "white",
            "gridwidth": 2,
            "linecolor": "white",
            "showbackground": true,
            "ticks": "",
            "zerolinecolor": "white"
           },
           "zaxis": {
            "backgroundcolor": "#E5ECF6",
            "gridcolor": "white",
            "gridwidth": 2,
            "linecolor": "white",
            "showbackground": true,
            "ticks": "",
            "zerolinecolor": "white"
           }
          },
          "shapedefaults": {
           "line": {
            "color": "#2a3f5f"
           }
          },
          "ternary": {
           "aaxis": {
            "gridcolor": "white",
            "linecolor": "white",
            "ticks": ""
           },
           "baxis": {
            "gridcolor": "white",
            "linecolor": "white",
            "ticks": ""
           },
           "bgcolor": "#E5ECF6",
           "caxis": {
            "gridcolor": "white",
            "linecolor": "white",
            "ticks": ""
           }
          },
          "title": {
           "x": 0.05
          },
          "xaxis": {
           "automargin": true,
           "gridcolor": "white",
           "linecolor": "white",
           "ticks": "",
           "title": {
            "standoff": 15
           },
           "zerolinecolor": "white",
           "zerolinewidth": 2
          },
          "yaxis": {
           "automargin": true,
           "gridcolor": "white",
           "linecolor": "white",
           "ticks": "",
           "title": {
            "standoff": 15
           },
           "zerolinecolor": "white",
           "zerolinewidth": 2
          }
         }
        },
        "title": {
         "text": "Estimated cases from 5.0% death rate in the top 20 regions (China is included;  Hubei is included)"
        },
        "xaxis": {
         "anchor": "y",
         "domain": [
          0,
          1
         ],
         "title": {
          "text": "Date from cases >= 2"
         }
        },
        "yaxis": {
         "anchor": "x",
         "domain": [
          0,
          1
         ],
         "title": {
          "text": "Estimated cases"
         }
        }
       }
      },
      "text/html": [
       "<div>\n",
       "        \n",
       "        \n",
       "            <div id=\"d82f1b2f-6e9d-4931-9748-a7deb1119c2a\" class=\"plotly-graph-div\" style=\"height:525px; width:100%;\"></div>\n",
       "            <script type=\"text/javascript\">\n",
       "                require([\"plotly\"], function(Plotly) {\n",
       "                    window.PLOTLYENV=window.PLOTLYENV || {};\n",
       "                    \n",
       "                if (document.getElementById(\"d82f1b2f-6e9d-4931-9748-a7deb1119c2a\")) {\n",
       "                    Plotly.newPlot(\n",
       "                        'd82f1b2f-6e9d-4931-9748-a7deb1119c2a',\n",
       "                        [{\"hoverlabel\": {\"namelength\": 0}, \"hovertemplate\": \"color=Italy<br>Date from cases >= 2=%{x}<br>Estimated cases=%{y}\", \"legendgroup\": \"Italy\", \"line\": {\"color\": \"#636efa\", \"dash\": \"solid\"}, \"mode\": \"lines\", \"name\": \"Italy\", \"showlegend\": true, \"type\": \"scatter\", \"x\": [0, 1, 2, 3, 4, 5, 6, 7, 8, 9, 10, 11, 12, 13, 14, 15, 16, 17, 18, 19, 20, 21, 22, 23, 24, 25, 26, 27, 28, 29, 30, 31, 32, 33, 34, 35, 36, 37], \"xaxis\": \"x\", \"y\": [40.0, 60.0, 140.0, 200.0, 240.0, 340.0, 420.0, 580.0, 680.0, 1040.0, 1580.0, 2140.0, 2960.0, 3940.0, 4660.0, 7320.0, 9260.0, 12620.0, 16540.0, 16540.0, 25320.0, 28820.0, 36180.0, 43160.0, 50060.0, 59560.0, 68100.0, 80640.0, 96500.0, 109520.0, 121540.0, 136400.0, 150060.0, 164300.0, 182680.0, 200460.0, 215580.0, 231820.0], \"yaxis\": \"y\"}, {\"hoverlabel\": {\"namelength\": 0}, \"hovertemplate\": \"color=Spain<br>Date from cases >= 2=%{x}<br>Estimated cases=%{y}\", \"legendgroup\": \"Spain\", \"line\": {\"color\": \"#EF553B\", \"dash\": \"solid\"}, \"mode\": \"lines\", \"name\": \"Spain\", \"showlegend\": true, \"type\": \"scatter\", \"x\": [0, 1, 2, 3, 4, 5, 6, 7, 8, 9, 10, 11, 12, 13, 14, 15, 16, 17, 18, 19, 20, 21, 22, 23, 24, 25, 26], \"xaxis\": \"x\", \"y\": [40.0, 60.0, 100.0, 200.0, 340.0, 560.0, 700.0, 1080.0, 1100.0, 2660.0, 3900.0, 5780.0, 6840.0, 10660.0, 12460.0, 16600.0, 20860.0, 27500.0, 35440.0, 46220.0, 56160.0, 72940.0, 87300.0, 102760.0, 119640.0, 136060.0, 154320.0], \"yaxis\": \"y\"}, {\"hoverlabel\": {\"namelength\": 0}, \"hovertemplate\": \"color=Hubei<br>Date from cases >= 2=%{x}<br>Estimated cases=%{y}\", \"legendgroup\": \"Hubei\", \"line\": {\"color\": \"#00cc96\", \"dash\": \"solid\"}, \"mode\": \"lines\", \"name\": \"Hubei\", \"showlegend\": true, \"type\": \"scatter\", \"x\": [0, 1, 2, 3, 4, 5, 6, 7, 8, 9, 10, 11, 12, 13, 14, 15, 16, 17, 18, 19, 20, 21, 22, 23, 24, 25, 26, 27, 28, 29, 30, 31, 32, 33, 34, 35, 36, 37, 38, 39, 40, 41, 42, 43, 44, 45, 46, 47, 48, 49, 50, 51, 52, 53, 54, 55, 56, 57, 58, 59, 60, 61, 62, 63, 64, 65, 66, 67, 68], \"xaxis\": \"x\", \"y\": [340.0, 340.0, 480.0, 800.0, 1040.0, 1520.0, 2500.0, 2500.0, 3240.0, 4080.0, 4980.0, 7000.0, 8280.0, 9580.0, 10980.0, 12360.0, 13980.0, 15600.0, 17420.0, 19480.0, 21360.0, 21360.0, 26200.0, 29140.0, 31920.0, 33920.0, 35780.0, 38420.0, 40580.0, 42880.0, 42880.0, 46920.0, 46920.0, 49900.0, 51260.0, 52300.0, 52820.0, 53640.0, 54540.0, 55220.0, 56060.0, 56700.0, 57420.0, 58040.0, 58620.0, 59180.0, 59720.0, 60160.0, 60480.0, 60920.0, 61120.0, 61240.0, 61500.0, 61700.0, 61980.0, 62220.0, 62440.0, 62600.0, 62660.0, 62780.0, 63060.0, 63060.0, 63200.0, 63260.0, 63380.0, 63480.0, 63540.0, 63640.0, 63720.0], \"yaxis\": \"y\"}, {\"hoverlabel\": {\"namelength\": 0}, \"hovertemplate\": \"color=France<br>Date from cases >= 2=%{x}<br>Estimated cases=%{y}\", \"legendgroup\": \"France\", \"line\": {\"color\": \"#ab63fa\", \"dash\": \"solid\"}, \"mode\": \"lines\", \"name\": \"France\", \"showlegend\": true, \"type\": \"scatter\", \"x\": [0, 1, 2, 3, 4, 5, 6, 7, 8, 9, 10, 11, 12, 13, 14, 15, 16, 17, 18, 19, 20, 21, 22, 23, 24, 25, 26, 27, 28, 29, 30, 31, 32, 33], \"xaxis\": \"x\", \"y\": [40.0, 40.0, 40.0, 40.0, 40.0, 60.0, 80.0, 80.0, 120.0, 180.0, 220.0, 380.0, 380.0, 660.0, 960.0, 960.0, 1580.0, 1820.0, 1820.0, 2960.0, 2960.0, 2960.0, 4860.0, 9000.0, 11240.0, 13480.0, 17200.0, 22000.0, 26620.0, 33920.0, 39900.0, 46280.0, 52120.0, 60480.0], \"yaxis\": \"y\"}, {\"hoverlabel\": {\"namelength\": 0}, \"hovertemplate\": \"color=US<br>Date from cases >= 2=%{x}<br>Estimated cases=%{y}\", \"legendgroup\": \"US\", \"line\": {\"color\": \"#FFA15A\", \"dash\": \"solid\"}, \"mode\": \"lines\", \"name\": \"US\", \"showlegend\": true, \"type\": \"scatter\", \"x\": [0, 1, 2, 3, 4, 5, 6, 7, 8, 9, 10, 11, 12, 13, 14, 15, 16, 17, 18, 19, 20, 21, 22, 23, 24, 25, 26, 27, 28], \"xaxis\": \"x\", \"y\": [120.0, 140.0, 220.0, 240.0, 280.0, 340.0, 420.0, 440.0, 560.0, 720.0, 800.0, 940.0, 1080.0, 1260.0, 1700.0, 2160.0, 2360.0, 4000.0, 4880.0, 6140.0, 8340.0, 11140.0, 14120.0, 18840.0, 24180.0, 31620.0, 40520.0, 49340.0, 59560.0], \"yaxis\": \"y\"}, {\"hoverlabel\": {\"namelength\": 0}, \"hovertemplate\": \"color=Iran<br>Date from cases >= 2=%{x}<br>Estimated cases=%{y}\", \"legendgroup\": \"Iran\", \"line\": {\"color\": \"#19d3f3\", \"dash\": \"solid\"}, \"mode\": \"lines\", \"name\": \"Iran\", \"showlegend\": true, \"type\": \"scatter\", \"x\": [0, 1, 2, 3, 4, 5, 6, 7, 8, 9, 10, 11, 12, 13, 14, 15, 16, 17, 18, 19, 20, 21, 22, 23, 24, 25, 26, 27, 28, 29, 30, 31, 32, 33, 34, 35, 36, 37, 38, 39, 40], \"xaxis\": \"x\", \"y\": [40.0, 40.0, 80.0, 100.0, 160.0, 240.0, 320.0, 380.0, 520.0, 680.0, 860.0, 1080.0, 1320.0, 1540.0, 1840.0, 2140.0, 2480.0, 2900.0, 3880.0, 4740.0, 5820.0, 7080.0, 8580.0, 10280.0, 12220.0, 14480.0, 17060.0, 19760.0, 22700.0, 25680.0, 28660.0, 31120.0, 33700.0, 36240.0, 38680.0, 41540.0, 44680.0, 47560.0, 50340.0, 52800.0, 55140.0], \"yaxis\": \"y\"}, {\"hoverlabel\": {\"namelength\": 0}, \"hovertemplate\": \"color=United Kingdom<br>Date from cases >= 2=%{x}<br>Estimated cases=%{y}\", \"legendgroup\": \"United Kingdom\", \"line\": {\"color\": \"#FF6692\", \"dash\": \"solid\"}, \"mode\": \"lines\", \"name\": \"United Kingdom\", \"showlegend\": true, \"type\": \"scatter\", \"x\": [0, 1, 2, 3, 4, 5, 6, 7, 8, 9, 10, 11, 12, 13, 14, 15, 16, 17, 18, 19, 20, 21, 22, 23, 24], \"xaxis\": \"x\", \"y\": [40.0, 40.0, 60.0, 80.0, 120.0, 160.0, 160.0, 160.0, 420.0, 420.0, 1100.0, 1100.0, 1420.0, 2740.0, 3540.0, 4660.0, 5620.0, 6700.0, 8440.0, 9300.0, 11560.0, 15180.0, 20380.0, 24560.0, 28160.0], \"yaxis\": \"y\"}, {\"hoverlabel\": {\"namelength\": 0}, \"hovertemplate\": \"color=Netherlands<br>Date from cases >= 2=%{x}<br>Estimated cases=%{y}\", \"legendgroup\": \"Netherlands\", \"line\": {\"color\": \"#B6E880\", \"dash\": \"solid\"}, \"mode\": \"lines\", \"name\": \"Netherlands\", \"showlegend\": true, \"type\": \"scatter\", \"x\": [0, 1, 2, 3, 4, 5, 6, 7, 8, 9, 10, 11, 12, 13, 14, 15, 16, 17, 18, 19, 20, 21, 22], \"xaxis\": \"x\", \"y\": [60.0, 60.0, 80.0, 100.0, 100.0, 200.0, 240.0, 400.0, 480.0, 860.0, 1160.0, 1520.0, 2120.0, 2720.0, 3580.0, 4260.0, 5520.0, 7120.0, 8680.0, 10920.0, 12780.0, 15420.0, 17280.0], \"yaxis\": \"y\"}, {\"hoverlabel\": {\"namelength\": 0}, \"hovertemplate\": \"color=Germany<br>Date from cases >= 2=%{x}<br>Estimated cases=%{y}\", \"legendgroup\": \"Germany\", \"line\": {\"color\": \"#FF97FF\", \"dash\": \"solid\"}, \"mode\": \"lines\", \"name\": \"Germany\", \"showlegend\": true, \"type\": \"scatter\", \"x\": [0, 1, 2, 3, 4, 5, 6, 7, 8, 9, 10, 11, 12, 13, 14, 15, 16, 17, 18, 19, 20, 21], \"xaxis\": \"x\", \"y\": [40.0, 40.0, 60.0, 60.0, 140.0, 180.0, 220.0, 340.0, 480.0, 560.0, 880.0, 1340.0, 1680.0, 1880.0, 2460.0, 3140.0, 4120.0, 5340.0, 6840.0, 8660.0, 10660.0, 12900.0], \"yaxis\": \"y\"}, {\"hoverlabel\": {\"namelength\": 0}, \"hovertemplate\": \"color=Belgium<br>Date from cases >= 2=%{x}<br>Estimated cases=%{y}\", \"legendgroup\": \"Belgium\", \"line\": {\"color\": \"#FECB52\", \"dash\": \"solid\"}, \"mode\": \"lines\", \"name\": \"Belgium\", \"showlegend\": true, \"type\": \"scatter\", \"x\": [0, 1, 2, 3, 4, 5, 6, 7, 8, 9, 10, 11, 12, 13, 14, 15, 16, 17, 18, 19], \"xaxis\": \"x\", \"y\": [60.0, 60.0, 60.0, 80.0, 80.0, 100.0, 200.0, 280.0, 420.0, 740.0, 1340.0, 1500.0, 1760.0, 2440.0, 3560.0, 4400.0, 5780.0, 7060.0, 8620.0, 10260.0], \"yaxis\": \"y\"}, {\"hoverlabel\": {\"namelength\": 0}, \"hovertemplate\": \"color=Switzerland<br>Date from cases >= 2=%{x}<br>Estimated cases=%{y}\", \"legendgroup\": \"Switzerland\", \"line\": {\"color\": \"#636efa\", \"dash\": \"solid\"}, \"mode\": \"lines\", \"name\": \"Switzerland\", \"showlegend\": true, \"type\": \"scatter\", \"x\": [0, 1, 2, 3, 4, 5, 6, 7, 8, 9, 10, 11, 12, 13, 14, 15, 16, 17, 18, 19, 20, 21, 22], \"xaxis\": \"x\", \"y\": [40.0, 40.0, 60.0, 80.0, 80.0, 220.0, 260.0, 280.0, 280.0, 540.0, 560.0, 820.0, 1080.0, 1500.0, 1960.0, 2400.0, 2440.0, 3060.0, 3820.0, 4620.0, 5280.0, 6000.0, 7180.0], \"yaxis\": \"y\"}, {\"hoverlabel\": {\"namelength\": 0}, \"hovertemplate\": \"color=Turkey<br>Date from cases >= 2=%{x}<br>Estimated cases=%{y}\", \"legendgroup\": \"Turkey\", \"line\": {\"color\": \"#EF553B\", \"dash\": \"solid\"}, \"mode\": \"lines\", \"name\": \"Turkey\", \"showlegend\": true, \"type\": \"scatter\", \"x\": [0, 1, 2, 3, 4, 5, 6, 7, 8, 9, 10, 11], \"xaxis\": \"x\", \"y\": [60.0, 80.0, 180.0, 600.0, 740.0, 880.0, 1180.0, 1500.0, 1840.0, 2160.0, 2620.0, 3360.0], \"yaxis\": \"y\"}, {\"hoverlabel\": {\"namelength\": 0}, \"hovertemplate\": \"color=Brazil<br>Date from cases >= 2=%{x}<br>Estimated cases=%{y}\", \"legendgroup\": \"Brazil\", \"line\": {\"color\": \"#00cc96\", \"dash\": \"solid\"}, \"mode\": \"lines\", \"name\": \"Brazil\", \"showlegend\": true, \"type\": \"scatter\", \"x\": [0, 1, 2, 3, 4, 5, 6, 7, 8, 9, 10, 11, 12], \"xaxis\": \"x\", \"y\": [60.0, 120.0, 220.0, 300.0, 500.0, 680.0, 920.0, 1180.0, 1540.0, 1840.0, 2220.0, 2720.0, 3180.0], \"yaxis\": \"y\"}, {\"hoverlabel\": {\"namelength\": 0}, \"hovertemplate\": \"color=Korea, South<br>Date from cases >= 2=%{x}<br>Estimated cases=%{y}\", \"legendgroup\": \"Korea, South\", \"line\": {\"color\": \"#ab63fa\", \"dash\": \"solid\"}, \"mode\": \"lines\", \"name\": \"Korea, South\", \"showlegend\": true, \"type\": \"scatter\", \"x\": [0, 1, 2, 3, 4, 5, 6, 7, 8, 9, 10, 11, 12, 13, 14, 15, 16, 17, 18, 19, 20, 21, 22, 23, 24, 25, 26, 27, 28, 29, 30, 31, 32, 33, 34, 35, 36, 37, 38], \"xaxis\": \"x\", \"y\": [40.0, 40.0, 120.0, 160.0, 200.0, 240.0, 260.0, 260.0, 320.0, 340.0, 560.0, 560.0, 700.0, 700.0, 840.0, 880.0, 1000.0, 1060.0, 1080.0, 1200.0, 1320.0, 1320.0, 1440.0, 1500.0, 1500.0, 1620.0, 1680.0, 1820.0, 1880.0, 2040.0, 2220.0, 2220.0, 2400.0, 2520.0, 2620.0, 2780.0, 2880.0, 3040.0, 3160.0], \"yaxis\": \"y\"}, {\"hoverlabel\": {\"namelength\": 0}, \"hovertemplate\": \"color=Sweden<br>Date from cases >= 2=%{x}<br>Estimated cases=%{y}\", \"legendgroup\": \"Sweden\", \"line\": {\"color\": \"#FFA15A\", \"dash\": \"solid\"}, \"mode\": \"lines\", \"name\": \"Sweden\", \"showlegend\": true, \"type\": \"scatter\", \"x\": [0, 1, 2, 3, 4, 5, 6, 7, 8, 9, 10, 11, 12, 13, 14, 15, 16], \"xaxis\": \"x\", \"y\": [40.0, 60.0, 120.0, 140.0, 200.0, 220.0, 320.0, 400.0, 420.0, 500.0, 720.0, 1240.0, 1540.0, 2100.0, 2100.0, 2200.0, 2920.0], \"yaxis\": \"y\"}, {\"hoverlabel\": {\"namelength\": 0}, \"hovertemplate\": \"color=Portugal<br>Date from cases >= 2=%{x}<br>Estimated cases=%{y}\", \"legendgroup\": \"Portugal\", \"line\": {\"color\": \"#19d3f3\", \"dash\": \"solid\"}, \"mode\": \"lines\", \"name\": \"Portugal\", \"showlegend\": true, \"type\": \"scatter\", \"x\": [0, 1, 2, 3, 4, 5, 6, 7, 8, 9, 10, 11, 12], \"xaxis\": \"x\", \"y\": [40.0, 60.0, 120.0, 240.0, 280.0, 460.0, 660.0, 860.0, 1200.0, 1520.0, 2000.0, 2380.0, 2800.0], \"yaxis\": \"y\"}, {\"hoverlabel\": {\"namelength\": 0}, \"hovertemplate\": \"color=Indonesia<br>Date from cases >= 2=%{x}<br>Estimated cases=%{y}\", \"legendgroup\": \"Indonesia\", \"line\": {\"color\": \"#FF6692\", \"dash\": \"solid\"}, \"mode\": \"lines\", \"name\": \"Indonesia\", \"showlegend\": true, \"type\": \"scatter\", \"x\": [0, 1, 2, 3, 4, 5, 6, 7, 8, 9, 10, 11, 12, 13, 14, 15, 16, 17], \"xaxis\": \"x\", \"y\": [80.0, 100.0, 100.0, 100.0, 100.0, 380.0, 500.0, 640.0, 760.0, 960.0, 980.0, 1100.0, 1160.0, 1560.0, 1740.0, 2040.0, 2280.0, 2440.0], \"yaxis\": \"y\"}, {\"hoverlabel\": {\"namelength\": 0}, \"hovertemplate\": \"color=Austria<br>Date from cases >= 2=%{x}<br>Estimated cases=%{y}\", \"legendgroup\": \"Austria\", \"line\": {\"color\": \"#B6E880\", \"dash\": \"solid\"}, \"mode\": \"lines\", \"name\": \"Austria\", \"showlegend\": true, \"type\": \"scatter\", \"x\": [0, 1, 2, 3, 4, 5, 6, 7, 8, 9, 10, 11, 12, 13, 14], \"xaxis\": \"x\", \"y\": [60.0, 60.0, 80.0, 120.0, 120.0, 160.0, 320.0, 420.0, 560.0, 600.0, 980.0, 1160.0, 1360.0, 1720.0, 2160.0], \"yaxis\": \"y\"}, {\"hoverlabel\": {\"namelength\": 0}, \"hovertemplate\": \"color=Philippines<br>Date from cases >= 2=%{x}<br>Estimated cases=%{y}\", \"legendgroup\": \"Philippines\", \"line\": {\"color\": \"#FF97FF\", \"dash\": \"solid\"}, \"mode\": \"lines\", \"name\": \"Philippines\", \"showlegend\": true, \"type\": \"scatter\", \"x\": [0, 1, 2, 3, 4, 5, 6, 7, 8, 9, 10, 11, 12, 13, 14, 15, 16, 17, 18], \"xaxis\": \"x\", \"y\": [40.0, 100.0, 160.0, 220.0, 240.0, 240.0, 380.0, 340.0, 360.0, 380.0, 500.0, 660.0, 700.0, 760.0, 900.0, 1080.0, 1360.0, 1420.0, 1560.0], \"yaxis\": \"y\"}, {\"hoverlabel\": {\"namelength\": 0}, \"hovertemplate\": \"color=Denmark<br>Date from cases >= 2=%{x}<br>Estimated cases=%{y}\", \"legendgroup\": \"Denmark\", \"line\": {\"color\": \"#FECB52\", \"dash\": \"solid\"}, \"mode\": \"lines\", \"name\": \"Denmark\", \"showlegend\": true, \"type\": \"scatter\", \"x\": [0, 1, 2, 3, 4, 5, 6, 7, 8, 9, 10, 11, 12, 13, 14, 15], \"xaxis\": \"x\", \"y\": [40.0, 60.0, 80.0, 80.0, 120.0, 180.0, 260.0, 260.0, 480.0, 640.0, 680.0, 820.0, 1040.0, 1300.0, 1440.0, 1540.0], \"yaxis\": \"y\"}],\n",
       "                        {\"legend\": {\"title\": {\"text\": \"color\"}, \"tracegroupgap\": 0}, \"template\": {\"data\": {\"bar\": [{\"error_x\": {\"color\": \"#2a3f5f\"}, \"error_y\": {\"color\": \"#2a3f5f\"}, \"marker\": {\"line\": {\"color\": \"#E5ECF6\", \"width\": 0.5}}, \"type\": \"bar\"}], \"barpolar\": [{\"marker\": {\"line\": {\"color\": \"#E5ECF6\", \"width\": 0.5}}, \"type\": \"barpolar\"}], \"carpet\": [{\"aaxis\": {\"endlinecolor\": \"#2a3f5f\", \"gridcolor\": \"white\", \"linecolor\": \"white\", \"minorgridcolor\": \"white\", \"startlinecolor\": \"#2a3f5f\"}, \"baxis\": {\"endlinecolor\": \"#2a3f5f\", \"gridcolor\": \"white\", \"linecolor\": \"white\", \"minorgridcolor\": \"white\", \"startlinecolor\": \"#2a3f5f\"}, \"type\": \"carpet\"}], \"choropleth\": [{\"colorbar\": {\"outlinewidth\": 0, \"ticks\": \"\"}, \"type\": \"choropleth\"}], \"contour\": [{\"colorbar\": {\"outlinewidth\": 0, \"ticks\": \"\"}, \"colorscale\": [[0.0, \"#0d0887\"], [0.1111111111111111, \"#46039f\"], [0.2222222222222222, \"#7201a8\"], [0.3333333333333333, \"#9c179e\"], [0.4444444444444444, \"#bd3786\"], [0.5555555555555556, \"#d8576b\"], [0.6666666666666666, \"#ed7953\"], [0.7777777777777778, \"#fb9f3a\"], [0.8888888888888888, \"#fdca26\"], [1.0, \"#f0f921\"]], \"type\": \"contour\"}], \"contourcarpet\": [{\"colorbar\": {\"outlinewidth\": 0, \"ticks\": \"\"}, \"type\": \"contourcarpet\"}], \"heatmap\": [{\"colorbar\": {\"outlinewidth\": 0, \"ticks\": \"\"}, \"colorscale\": [[0.0, \"#0d0887\"], [0.1111111111111111, \"#46039f\"], [0.2222222222222222, \"#7201a8\"], [0.3333333333333333, \"#9c179e\"], [0.4444444444444444, \"#bd3786\"], [0.5555555555555556, \"#d8576b\"], [0.6666666666666666, \"#ed7953\"], [0.7777777777777778, \"#fb9f3a\"], [0.8888888888888888, \"#fdca26\"], [1.0, \"#f0f921\"]], \"type\": \"heatmap\"}], \"heatmapgl\": [{\"colorbar\": {\"outlinewidth\": 0, \"ticks\": \"\"}, \"colorscale\": [[0.0, \"#0d0887\"], [0.1111111111111111, \"#46039f\"], [0.2222222222222222, \"#7201a8\"], [0.3333333333333333, \"#9c179e\"], [0.4444444444444444, \"#bd3786\"], [0.5555555555555556, \"#d8576b\"], [0.6666666666666666, \"#ed7953\"], [0.7777777777777778, \"#fb9f3a\"], [0.8888888888888888, \"#fdca26\"], [1.0, \"#f0f921\"]], \"type\": \"heatmapgl\"}], \"histogram\": [{\"marker\": {\"colorbar\": {\"outlinewidth\": 0, \"ticks\": \"\"}}, \"type\": \"histogram\"}], \"histogram2d\": [{\"colorbar\": {\"outlinewidth\": 0, \"ticks\": \"\"}, \"colorscale\": [[0.0, \"#0d0887\"], [0.1111111111111111, \"#46039f\"], [0.2222222222222222, \"#7201a8\"], [0.3333333333333333, \"#9c179e\"], [0.4444444444444444, \"#bd3786\"], [0.5555555555555556, \"#d8576b\"], [0.6666666666666666, \"#ed7953\"], [0.7777777777777778, \"#fb9f3a\"], [0.8888888888888888, \"#fdca26\"], [1.0, \"#f0f921\"]], \"type\": \"histogram2d\"}], \"histogram2dcontour\": [{\"colorbar\": {\"outlinewidth\": 0, \"ticks\": \"\"}, \"colorscale\": [[0.0, \"#0d0887\"], [0.1111111111111111, \"#46039f\"], [0.2222222222222222, \"#7201a8\"], [0.3333333333333333, \"#9c179e\"], [0.4444444444444444, \"#bd3786\"], [0.5555555555555556, \"#d8576b\"], [0.6666666666666666, \"#ed7953\"], [0.7777777777777778, \"#fb9f3a\"], [0.8888888888888888, \"#fdca26\"], [1.0, \"#f0f921\"]], \"type\": \"histogram2dcontour\"}], \"mesh3d\": [{\"colorbar\": {\"outlinewidth\": 0, \"ticks\": \"\"}, \"type\": \"mesh3d\"}], \"parcoords\": [{\"line\": {\"colorbar\": {\"outlinewidth\": 0, \"ticks\": \"\"}}, \"type\": \"parcoords\"}], \"pie\": [{\"automargin\": true, \"type\": \"pie\"}], \"scatter\": [{\"marker\": {\"colorbar\": {\"outlinewidth\": 0, \"ticks\": \"\"}}, \"type\": \"scatter\"}], \"scatter3d\": [{\"line\": {\"colorbar\": {\"outlinewidth\": 0, \"ticks\": \"\"}}, \"marker\": {\"colorbar\": {\"outlinewidth\": 0, \"ticks\": \"\"}}, \"type\": \"scatter3d\"}], \"scattercarpet\": [{\"marker\": {\"colorbar\": {\"outlinewidth\": 0, \"ticks\": \"\"}}, \"type\": \"scattercarpet\"}], \"scattergeo\": [{\"marker\": {\"colorbar\": {\"outlinewidth\": 0, \"ticks\": \"\"}}, \"type\": \"scattergeo\"}], \"scattergl\": [{\"marker\": {\"colorbar\": {\"outlinewidth\": 0, \"ticks\": \"\"}}, \"type\": \"scattergl\"}], \"scattermapbox\": [{\"marker\": {\"colorbar\": {\"outlinewidth\": 0, \"ticks\": \"\"}}, \"type\": \"scattermapbox\"}], \"scatterpolar\": [{\"marker\": {\"colorbar\": {\"outlinewidth\": 0, \"ticks\": \"\"}}, \"type\": \"scatterpolar\"}], \"scatterpolargl\": [{\"marker\": {\"colorbar\": {\"outlinewidth\": 0, \"ticks\": \"\"}}, \"type\": \"scatterpolargl\"}], \"scatterternary\": [{\"marker\": {\"colorbar\": {\"outlinewidth\": 0, \"ticks\": \"\"}}, \"type\": \"scatterternary\"}], \"surface\": [{\"colorbar\": {\"outlinewidth\": 0, \"ticks\": \"\"}, \"colorscale\": [[0.0, \"#0d0887\"], [0.1111111111111111, \"#46039f\"], [0.2222222222222222, \"#7201a8\"], [0.3333333333333333, \"#9c179e\"], [0.4444444444444444, \"#bd3786\"], [0.5555555555555556, \"#d8576b\"], [0.6666666666666666, \"#ed7953\"], [0.7777777777777778, \"#fb9f3a\"], [0.8888888888888888, \"#fdca26\"], [1.0, \"#f0f921\"]], \"type\": \"surface\"}], \"table\": [{\"cells\": {\"fill\": {\"color\": \"#EBF0F8\"}, \"line\": {\"color\": \"white\"}}, \"header\": {\"fill\": {\"color\": \"#C8D4E3\"}, \"line\": {\"color\": \"white\"}}, \"type\": \"table\"}]}, \"layout\": {\"annotationdefaults\": {\"arrowcolor\": \"#2a3f5f\", \"arrowhead\": 0, \"arrowwidth\": 1}, \"coloraxis\": {\"colorbar\": {\"outlinewidth\": 0, \"ticks\": \"\"}}, \"colorscale\": {\"diverging\": [[0, \"#8e0152\"], [0.1, \"#c51b7d\"], [0.2, \"#de77ae\"], [0.3, \"#f1b6da\"], [0.4, \"#fde0ef\"], [0.5, \"#f7f7f7\"], [0.6, \"#e6f5d0\"], [0.7, \"#b8e186\"], [0.8, \"#7fbc41\"], [0.9, \"#4d9221\"], [1, \"#276419\"]], \"sequential\": [[0.0, \"#0d0887\"], [0.1111111111111111, \"#46039f\"], [0.2222222222222222, \"#7201a8\"], [0.3333333333333333, \"#9c179e\"], [0.4444444444444444, \"#bd3786\"], [0.5555555555555556, \"#d8576b\"], [0.6666666666666666, \"#ed7953\"], [0.7777777777777778, \"#fb9f3a\"], [0.8888888888888888, \"#fdca26\"], [1.0, \"#f0f921\"]], \"sequentialminus\": [[0.0, \"#0d0887\"], [0.1111111111111111, \"#46039f\"], [0.2222222222222222, \"#7201a8\"], [0.3333333333333333, \"#9c179e\"], [0.4444444444444444, \"#bd3786\"], [0.5555555555555556, \"#d8576b\"], [0.6666666666666666, \"#ed7953\"], [0.7777777777777778, \"#fb9f3a\"], [0.8888888888888888, \"#fdca26\"], [1.0, \"#f0f921\"]]}, \"colorway\": [\"#636efa\", \"#EF553B\", \"#00cc96\", \"#ab63fa\", \"#FFA15A\", \"#19d3f3\", \"#FF6692\", \"#B6E880\", \"#FF97FF\", \"#FECB52\"], \"font\": {\"color\": \"#2a3f5f\"}, \"geo\": {\"bgcolor\": \"white\", \"lakecolor\": \"white\", \"landcolor\": \"#E5ECF6\", \"showlakes\": true, \"showland\": true, \"subunitcolor\": \"white\"}, \"hoverlabel\": {\"align\": \"left\"}, \"hovermode\": \"closest\", \"mapbox\": {\"style\": \"light\"}, \"paper_bgcolor\": \"white\", \"plot_bgcolor\": \"#E5ECF6\", \"polar\": {\"angularaxis\": {\"gridcolor\": \"white\", \"linecolor\": \"white\", \"ticks\": \"\"}, \"bgcolor\": \"#E5ECF6\", \"radialaxis\": {\"gridcolor\": \"white\", \"linecolor\": \"white\", \"ticks\": \"\"}}, \"scene\": {\"xaxis\": {\"backgroundcolor\": \"#E5ECF6\", \"gridcolor\": \"white\", \"gridwidth\": 2, \"linecolor\": \"white\", \"showbackground\": true, \"ticks\": \"\", \"zerolinecolor\": \"white\"}, \"yaxis\": {\"backgroundcolor\": \"#E5ECF6\", \"gridcolor\": \"white\", \"gridwidth\": 2, \"linecolor\": \"white\", \"showbackground\": true, \"ticks\": \"\", \"zerolinecolor\": \"white\"}, \"zaxis\": {\"backgroundcolor\": \"#E5ECF6\", \"gridcolor\": \"white\", \"gridwidth\": 2, \"linecolor\": \"white\", \"showbackground\": true, \"ticks\": \"\", \"zerolinecolor\": \"white\"}}, \"shapedefaults\": {\"line\": {\"color\": \"#2a3f5f\"}}, \"ternary\": {\"aaxis\": {\"gridcolor\": \"white\", \"linecolor\": \"white\", \"ticks\": \"\"}, \"baxis\": {\"gridcolor\": \"white\", \"linecolor\": \"white\", \"ticks\": \"\"}, \"bgcolor\": \"#E5ECF6\", \"caxis\": {\"gridcolor\": \"white\", \"linecolor\": \"white\", \"ticks\": \"\"}}, \"title\": {\"x\": 0.05}, \"xaxis\": {\"automargin\": true, \"gridcolor\": \"white\", \"linecolor\": \"white\", \"ticks\": \"\", \"title\": {\"standoff\": 15}, \"zerolinecolor\": \"white\", \"zerolinewidth\": 2}, \"yaxis\": {\"automargin\": true, \"gridcolor\": \"white\", \"linecolor\": \"white\", \"ticks\": \"\", \"title\": {\"standoff\": 15}, \"zerolinecolor\": \"white\", \"zerolinewidth\": 2}}}, \"title\": {\"text\": \"Estimated cases from 5.0% death rate in the top 20 regions (China is included;  Hubei is included)\"}, \"xaxis\": {\"anchor\": \"y\", \"domain\": [0.0, 1.0], \"title\": {\"text\": \"Date from cases >= 2\"}}, \"yaxis\": {\"anchor\": \"x\", \"domain\": [0.0, 1.0], \"title\": {\"text\": \"Estimated cases\"}}},\n",
       "                        {\"responsive\": true}\n",
       "                    ).then(function(){\n",
       "                            \n",
       "var gd = document.getElementById('d82f1b2f-6e9d-4931-9748-a7deb1119c2a');\n",
       "var x = new MutationObserver(function (mutations, observer) {{\n",
       "        var display = window.getComputedStyle(gd).display;\n",
       "        if (!display || display === 'none') {{\n",
       "            console.log([gd, 'removed!']);\n",
       "            Plotly.purge(gd);\n",
       "            observer.disconnect();\n",
       "        }}\n",
       "}});\n",
       "\n",
       "// Listen for the removal of the full notebook cells\n",
       "var notebookContainer = gd.closest('#notebook-container');\n",
       "if (notebookContainer) {{\n",
       "    x.observe(notebookContainer, {childList: true});\n",
       "}}\n",
       "\n",
       "// Listen for the clearing of the current output cell\n",
       "var outputEl = gd.closest('.output');\n",
       "if (outputEl) {{\n",
       "    x.observe(outputEl, {childList: true});\n",
       "}}\n",
       "\n",
       "                        })\n",
       "                };\n",
       "                });\n",
       "            </script>\n",
       "        </div>"
      ]
     },
     "metadata": {},
     "output_type": "display_data"
    }
   ],
   "source": [
    "PlotTrend_Esti_InA(Top = 20, China = True, Hubei = True, Start = 2, FR = 0.05)"
   ]
  },
  {
   "cell_type": "code",
   "execution_count": 9,
   "metadata": {},
   "outputs": [],
   "source": [
    "def PlotTrend_Esti_Con_InA(url = 'JHU_Git', FileName2 = 'time_series_covid19_deaths_global.csv', \n",
    "                           Top = 20, Hubei = False, China = True, Start = 1, FR = 0.02):\n",
    "    \n",
    "    # This function will plot the estimated cases from death and death rate in the toppest 'Top' regions according to the cases in the last date.\n",
    "    # Data is from the JHU Github repository https://github.com/CSSEGISandData/COVID-19, and url directs to the .csv from there\n",
    "    # 'Top' defines how many regions you want to include, 'Hubei' defines whether to include the data from Hubei, \n",
    "    # 'China' defines whether to include data from China. if 'Start' is False then plots will start from 1/22/2020 \n",
    "    # to the lasted date, if a value is given to 'Start', then the plot will start from 'Day 0', which is the date that the cases \n",
    "    # in each region exceeds the value 'Start'\n",
    "    \n",
    "    if url == 'JHU_Git':\n",
    "        url1 = 'https://raw.githubusercontent.com/CSSEGISandData/COVID-19/master/csse_covid_19_data/csse_covid_19_time_series/time_series_covid19_confirmed_global.csv'\n",
    "        url2 = 'https://raw.githubusercontent.com/CSSEGISandData/COVID-19/master/csse_covid_19_data/csse_covid_19_time_series/time_series_covid19_confirmed_global.csv'\n",
    "    \n",
    "    Ts_Con = pd.read_csv(url1)\n",
    "    Ts_XT = pd.read_csv(url2)\n",
    "    col = Ts_Con.shape[1]\n",
    "    LastDay = Ts_Con.columns[-1]\n",
    "    Top_Reg = Ts_Con.nlargest(Top,LastDay)\n",
    "    \n",
    "    if China == False:\n",
    "        Hubei = False # Make sure Hubei is False if 'China' is defined as False. \n",
    "    \n",
    "    Dic = []\n",
    "    for index, row in Top_Reg.iterrows():\n",
    "        if Start != False:\n",
    "            label = 'Date from cases >= ' + str(Start)\n",
    "            Date = 0\n",
    "            for i in range(4,col):\n",
    "                if row[i] >= Start:\n",
    "                    if row[1] == 'China':\n",
    "                        if China == True:\n",
    "                            dic = {'Region' : row[0], 'Case' : row[i],'Date' : Date, \n",
    "                                   'Estimated' : Ts_XT[Ts_XT['Province/State'] == row[0]].iloc[0,i] / FR}\n",
    "                        else: \n",
    "                            continue \n",
    "                    else:\n",
    "                        dic = {'Region' : row[1], 'Case' : row[i],'Date' : Date,\n",
    "                              'Estimated' : Ts_XT[Ts_XT['Country/Region'] == row[1]].iloc[0,i] / FR}\n",
    "                    Date = Date + 1\n",
    "                    Dic.append(dic)\n",
    "                else:\n",
    "                    continue\n",
    "        else:\n",
    "            label = 'Date from 1/22/2020'\n",
    "            for i in range(4,col):\n",
    "                if row[1] == 'China':\n",
    "                    if China == True:\n",
    "                        dic = {'Region' : row[0], 'Case' : row[i],'Date' : i-4,\n",
    "                              'Estimated' : Ts_XT[Ts_XT['Province/State'] == row[0]].iloc[0,i] / FR}\n",
    "                    else: \n",
    "                        continue \n",
    "                else:\n",
    "                    dic = {'Region' : row[1], 'Case' : row[i],'Date' : i-4,\n",
    "                          'Estimated' : Ts_XT[Ts_XT['Province/State'] == row[0]].iloc[0,i] / FR}\n",
    "                Dic.append(dic)\n",
    "            \n",
    "    Df = pd.DataFrame.from_dict(Dic)\n",
    "    \n",
    "    if Hubei == False:\n",
    "        Df = Df[Df['Region'] != 'Hubei']\n",
    "    \n",
    "    if China == False:\n",
    "        C_label = ' hiden; '\n",
    "    else:\n",
    "        C_label = ' included; '\n",
    "    if Hubei == False:\n",
    "        H_label = ' hiden'\n",
    "    else:\n",
    "        H_label = ' included'\n",
    "    \n",
    "    Title =  'Estimated cases from ' + str(FR*100) + '% death rate in the top ' + str(Top) + ' regions (China is' + C_label + ' Hubei is'+ H_label + ')'\n",
    "    \n",
    "    fig = px.line(x = Df['Date'], y = Df['Case'], color = Df['Region'],title = Title, labels={'x':label, 'y':\"Estimated cases\"})\n",
    "    fig.show()"
   ]
  },
  {
   "cell_type": "markdown",
   "metadata": {},
   "source": [
    "Ts_XT = pd.read_csv('time_series_19-covid-Deaths.csv')\n",
    "Ts_Con = pd.read_csv('time_series_19-covid-Confirmed.csv')\n",
    "Ts_XT.shape\n"
   ]
  },
  {
   "cell_type": "code",
   "execution_count": null,
   "metadata": {},
   "outputs": [],
   "source": []
  }
 ],
 "metadata": {
  "kernelspec": {
   "display_name": "Python 3",
   "language": "python",
   "name": "python3"
  },
  "language_info": {
   "codemirror_mode": {
    "name": "ipython",
    "version": 3
   },
   "file_extension": ".py",
   "mimetype": "text/x-python",
   "name": "python",
   "nbconvert_exporter": "python",
   "pygments_lexer": "ipython3",
   "version": "3.6.8"
  }
 },
 "nbformat": 4,
 "nbformat_minor": 2
}
